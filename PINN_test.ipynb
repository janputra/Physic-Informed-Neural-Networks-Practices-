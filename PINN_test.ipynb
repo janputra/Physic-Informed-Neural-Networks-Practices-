{
  "nbformat": 4,
  "nbformat_minor": 0,
  "metadata": {
    "kernelspec": {
      "display_name": "Python 3",
      "language": "python",
      "name": "python3"
    },
    "language_info": {
      "codemirror_mode": {
        "name": "ipython",
        "version": 3
      },
      "file_extension": ".py",
      "mimetype": "text/x-python",
      "name": "python",
      "nbconvert_exporter": "python",
      "pygments_lexer": "ipython3",
      "version": "3.7.6"
    },
    "colab": {
      "name": "PINN_test.ipynb",
      "provenance": [],
      "include_colab_link": true
    },
    "accelerator": "GPU"
  },
  "cells": [
    {
      "cell_type": "markdown",
      "metadata": {
        "id": "view-in-github",
        "colab_type": "text"
      },
      "source": [
        "<a href=\"https://colab.research.google.com/github/janputra/Physic-Informed-Neural-Networks-Practices-/blob/main/PINN_test.ipynb\" target=\"_parent\"><img src=\"https://colab.research.google.com/assets/colab-badge.svg\" alt=\"Open In Colab\"/></a>"
      ]
    },
    {
      "cell_type": "code",
      "metadata": {
        "id": "RU5ZfIS1cccO",
        "colab": {
          "base_uri": "https://localhost:8080/",
          "height": 68
        },
        "outputId": "b42599a7-8dfe-4389-a4c1-f440f0158ad2"
      },
      "source": [
        "!pip install --upgrade pyDOE"
      ],
      "execution_count": null,
      "outputs": [
        {
          "output_type": "stream",
          "text": [
            "Requirement already up-to-date: pyDOE in /usr/local/lib/python3.6/dist-packages (0.3.8)\n",
            "Requirement already satisfied, skipping upgrade: numpy in /usr/local/lib/python3.6/dist-packages (from pyDOE) (1.18.4)\n",
            "Requirement already satisfied, skipping upgrade: scipy in /usr/local/lib/python3.6/dist-packages (from pyDOE) (1.4.1)\n"
          ],
          "name": "stdout"
        }
      ]
    },
    {
      "cell_type": "code",
      "metadata": {
        "id": "uczG9dTlcF8Y",
        "colab": {
          "base_uri": "https://localhost:8080/",
          "height": 51
        },
        "outputId": "002ed71b-fc98-4bd0-c28e-4aaf0b7535cb"
      },
      "source": [
        "# import pathlib \n",
        "import numpy as np\n",
        "import matplotlib.pyplot as plt\n",
        "import pandas as pd\n",
        "import seaborn as sns\n",
        "import math\n",
        "import os\n",
        "import tensorflow as tf\n",
        "from tensorflow import keras \n",
        "from tensorflow.keras import backend as K\n",
        "from tensorflow.keras.layers import Dense\n",
        "from tensorflow.keras.layers import Input\n",
        "from tensorflow.keras.layers import concatenate\n",
        "from tensorflow.keras.models import Model\n",
        "from sklearn.model_selection import KFold\n",
        "from tensorflow.keras.utils import plot_model\n",
        "from pyDOE import lhs"
      ],
      "execution_count": null,
      "outputs": [
        {
          "output_type": "stream",
          "text": [
            "/usr/local/lib/python3.6/dist-packages/statsmodels/tools/_testing.py:19: FutureWarning: pandas.util.testing is deprecated. Use the functions in the public API at pandas.testing instead.\n",
            "  import pandas.util.testing as tm\n"
          ],
          "name": "stderr"
        }
      ]
    },
    {
      "cell_type": "code",
      "metadata": {
        "id": "HwuWlI_xcF8d"
      },
      "source": [
        "test=np.arange(0,50,0.01)\n",
        "test=test.reshape(len(test),1)\n",
        "\n"
      ],
      "execution_count": null,
      "outputs": []
    },
    {
      "cell_type": "code",
      "metadata": {
        "id": "NBeL8IiCcF8g"
      },
      "source": [
        "m=10 \n",
        "k=1\n",
        "\n",
        "ome= math.sqrt((k/m))\n",
        "f=ome/(2*math.pi)\n",
        "per=1/f\n",
        "c1=0\n",
        "c2=0.1/(ome)\n",
        "v0=0.1\n",
        "y=c2*np.sin(ome*test)"
      ],
      "execution_count": null,
      "outputs": []
    },
    {
      "cell_type": "code",
      "metadata": {
        "id": "MzZ1dtCvcF8j",
        "colab": {
          "base_uri": "https://localhost:8080/",
          "height": 34
        },
        "outputId": "52306813-9fde-481a-8c3f-be7d18a25ad4"
      },
      "source": [
        "test.shape[0]"
      ],
      "execution_count": null,
      "outputs": [
        {
          "output_type": "execute_result",
          "data": {
            "text/plain": [
              "5000"
            ]
          },
          "metadata": {
            "tags": []
          },
          "execution_count": 5
        }
      ]
    },
    {
      "cell_type": "code",
      "metadata": {
        "id": "ZTrpCXI-cF8m"
      },
      "source": [
        ""
      ],
      "execution_count": null,
      "outputs": []
    },
    {
      "cell_type": "code",
      "metadata": {
        "id": "upjg4P0EcF8p",
        "colab": {
          "base_uri": "https://localhost:8080/",
          "height": 282
        },
        "outputId": "d9de5a5f-9bd8-430b-992e-0facdbbd5c08"
      },
      "source": [
        "plt.figure()\n",
        "plt.plot(test,y)\n",
        "plt.xlim([0,50])"
      ],
      "execution_count": null,
      "outputs": [
        {
          "output_type": "execute_result",
          "data": {
            "text/plain": [
              "(0.0, 50.0)"
            ]
          },
          "metadata": {
            "tags": []
          },
          "execution_count": 6
        },
        {
          "output_type": "display_data",
          "data": {
            "image/png": "[encoded data removed]",
            "text/plain": [
              "<Figure size 432x288 with 1 Axes>"
            ]
          },
          "metadata": {
            "tags": [],
            "needs_background": "light"
          }
        }
      ]
    },
    {
      "cell_type": "code",
      "metadata": {
        "id": "xmJfNeCGcF8r"
      },
      "source": [
        "idx= np.random.choice(test.shape[0],1000, replace=False)"
      ],
      "execution_count": null,
      "outputs": []
    },
    {
      "cell_type": "code",
      "metadata": {
        "id": "NNVlIc7PcF8v"
      },
      "source": [
        "y_=y[idx]"
      ],
      "execution_count": null,
      "outputs": []
    },
    {
      "cell_type": "code",
      "metadata": {
        "id": "PfXeh4-scF8y"
      },
      "source": [
        "test_=test[idx]"
      ],
      "execution_count": null,
      "outputs": []
    },
    {
      "cell_type": "code",
      "metadata": {
        "id": "50Rl-W42cF80"
      },
      "source": [
        "t0=np.arange(0,50,(per/2))\n",
        "t0=t0.reshape(len(t0),1)\n",
        "\n",
        "t1=np.arange((per/4),40,per)\n",
        "t1=t1.reshape(len(t1),1)\n",
        "\n",
        "t2=np.arange((per*(3/4)),50,per)\n",
        "t2=t2.reshape(len(t2),1)"
      ],
      "execution_count": null,
      "outputs": []
    },
    {
      "cell_type": "code",
      "metadata": {
        "id": "MossdmFAcF83",
        "colab": {
          "base_uri": "https://localhost:8080/",
          "height": 51
        },
        "outputId": "8d6e0f1b-808d-497e-e739-8140561b3835"
      },
      "source": [
        "t1"
      ],
      "execution_count": null,
      "outputs": [
        {
          "output_type": "execute_result",
          "data": {
            "text/plain": [
              "array([[ 4.96729413],\n",
              "       [24.83647066]])"
            ]
          },
          "metadata": {
            "tags": []
          },
          "execution_count": 11
        }
      ]
    },
    {
      "cell_type": "code",
      "metadata": {
        "id": "uORCTHe7cF86"
      },
      "source": [
        "t = 0 + (50-0)*lhs(1, 2000)"
      ],
      "execution_count": null,
      "outputs": []
    },
    {
      "cell_type": "code",
      "metadata": {
        "id": "cT9Ek0UYcF9A"
      },
      "source": [
        "T=tf.convert_to_tensor(t,tf.float32)\n"
      ],
      "execution_count": null,
      "outputs": []
    },
    {
      "cell_type": "code",
      "metadata": {
        "id": "Cib4A8BKcF9F"
      },
      "source": [
        "def build_model(layers):\n",
        "    i = Input(shape=(layers[0],))\n",
        "    o = Dense(layers[1],activation=\"tanh\")(i) \n",
        "    for x in layers[2:-1]:\n",
        "        o = Dense(x,activation=\"tanh\")(o)\n",
        "    o = Dense(layers[-1],activation=\"linear\")(o)\n",
        "    model=Model(inputs=i, outputs=o)\n",
        "    return model"
      ],
      "execution_count": null,
      "outputs": []
    },
    {
      "cell_type": "code",
      "metadata": {
        "id": "dFkMS8pNcF9H",
        "colab": {
          "base_uri": "https://localhost:8080/",
          "height": 357
        },
        "outputId": "b012344d-b7cb-48a6-bfb4-d29929b2c637"
      },
      "source": [
        "layers=[1,40,40,40,40,1]\n",
        "model=build_model(layers)\n",
        "model.summary()"
      ],
      "execution_count": null,
      "outputs": [
        {
          "output_type": "stream",
          "text": [
            "Model: \"model\"\n",
            "_________________________________________________________________\n",
            "Layer (type)                 Output Shape              Param #   \n",
            "=================================================================\n",
            "input_1 (InputLayer)         [(None, 1)]               0         \n",
            "_________________________________________________________________\n",
            "dense (Dense)                (None, 40)                80        \n",
            "_________________________________________________________________\n",
            "dense_1 (Dense)              (None, 40)                1640      \n",
            "_________________________________________________________________\n",
            "dense_2 (Dense)              (None, 40)                1640      \n",
            "_________________________________________________________________\n",
            "dense_3 (Dense)              (None, 40)                1640      \n",
            "_________________________________________________________________\n",
            "dense_4 (Dense)              (None, 1)                 41        \n",
            "=================================================================\n",
            "Total params: 5,041\n",
            "Trainable params: 5,041\n",
            "Non-trainable params: 0\n",
            "_________________________________________________________________\n"
          ],
          "name": "stdout"
        }
      ]
    },
    {
      "cell_type": "code",
      "metadata": {
        "id": "0nVQAAGYcF9L"
      },
      "source": [
        "  # The actual PINN\n",
        "def f_model(m,k,c):\n",
        "    # Using the new GradientTape paradigm of TF2.0,\n",
        "    # which keeps track of operations to get the gradient at runtime\n",
        "    with tf.GradientTape(persistent=True) as tape:\n",
        "        tape.watch(T)\n",
        "      # Getting the prediction\n",
        "#         u=model.predict(T)\n",
        "#         u = tf.convert_to_tensor(u,tf.float32)\n",
        "        u=model(T)\n",
        "        # Deriving INSIDE the tape (since we’ll need the x derivative of this later, u_xx)\n",
        "        u_t = tape.gradient(u, T)\n",
        "        \n",
        "    u_tt = tape.gradient(u_t, T)\n",
        "\n",
        "    # Letting the tape go\n",
        "    del tape\n",
        "\n",
        "    # Buidling the PINNs\n",
        "    return (m*u_tt)+(k*u)+(c*u_t)\n",
        "\n",
        "\n",
        "def _wrap_training_variables():\n",
        "    var=model.trainable_variables\n",
        "    return var\n",
        "\n",
        "def _loss():\n",
        "    f_pred =f_model(10,1,0)      \n",
        "    \n",
        "    f0=model(t0)\n",
        "    f1=model(t1)\n",
        "    f2=model(t2)\n",
        "    \n",
        "    return tf.reduce_mean(tf.square(f_pred)) + tf.reduce_mean(tf.square(y_-model(test_)))  #+ tf.square((tf.reduce_mean(f1)+tf.reduce_mean(f1))) +tf.reduce_mean(tf.square(f0))\n",
        "\n",
        "\n",
        "\n",
        "def _grad():\n",
        "    with tf.GradientTape() as tape:\n",
        "          loss_value = _loss()\n",
        "    return loss_value, tape.gradient(loss_value,model.trainable_variables)\n",
        "\n",
        "def fit():\n",
        "    for epoch in range(epochs):\n",
        "        # Optimization step\n",
        "        loss_value, grads = _grad()\n",
        "        optimizer.apply_gradients(zip(grads, _wrap_training_variables()))\n",
        "        print ('epoch : ',epoch,' loss : ',loss_value )\n",
        "\n",
        "def predict(x):\n",
        "    return model(x)\n"
      ],
      "execution_count": null,
      "outputs": []
    },
    {
      "cell_type": "code",
      "metadata": {
        "id": "tgJ_J5FCcF9N"
      },
      "source": [
        "\n",
        "optimizer = tf.keras.optimizers.Adam(\n",
        "  learning_rate=0.01)"
      ],
      "execution_count": null,
      "outputs": []
    },
    {
      "cell_type": "code",
      "metadata": {
        "jupyter": {
          "outputs_hidden": true
        },
        "id": "Do-v47VWcF9Q",
        "colab": {
          "base_uri": "https://localhost:8080/",
          "height": 1000
        },
        "outputId": "30e50e03-60d1-4237-9dd8-4656a2d25b84"
      },
      "source": [
        "epochs = 500\n",
        "fit()\n"
      ],
      "execution_count": null,
      "outputs": [
        {
          "output_type": "stream",
          "text": [
            "epoch :  0  loss :  tf.Tensor(0.0017535426, shape=(), dtype=float32)\n",
            "epoch :  1  loss :  tf.Tensor(0.0013174743, shape=(), dtype=float32)\n",
            "epoch :  2  loss :  tf.Tensor(0.001305423, shape=(), dtype=float32)\n",
            "epoch :  3  loss :  tf.Tensor(0.0014007778, shape=(), dtype=float32)\n",
            "epoch :  4  loss :  tf.Tensor(0.0014108673, shape=(), dtype=float32)\n",
            "epoch :  5  loss :  tf.Tensor(0.0012031175, shape=(), dtype=float32)\n",
            "epoch :  6  loss :  tf.Tensor(0.0008063812, shape=(), dtype=float32)\n",
            "epoch :  7  loss :  tf.Tensor(0.00043295132, shape=(), dtype=float32)\n",
            "epoch :  8  loss :  tf.Tensor(0.00020706402, shape=(), dtype=float32)\n",
            "epoch :  9  loss :  tf.Tensor(0.00027267588, shape=(), dtype=float32)\n",
            "epoch :  10  loss :  tf.Tensor(0.0004631137, shape=(), dtype=float32)\n",
            "epoch :  11  loss :  tf.Tensor(0.0006323764, shape=(), dtype=float32)\n",
            "epoch :  12  loss :  tf.Tensor(0.00065158017, shape=(), dtype=float32)\n",
            "epoch :  13  loss :  tf.Tensor(0.000492604, shape=(), dtype=float32)\n",
            "epoch :  14  loss :  tf.Tensor(0.00025562366, shape=(), dtype=float32)\n",
            "epoch :  15  loss :  tf.Tensor(8.908735e-05, shape=(), dtype=float32)\n",
            "epoch :  16  loss :  tf.Tensor(5.359591e-05, shape=(), dtype=float32)\n",
            "epoch :  17  loss :  tf.Tensor(0.00013008155, shape=(), dtype=float32)\n",
            "epoch :  18  loss :  tf.Tensor(0.00023954634, shape=(), dtype=float32)\n",
            "epoch :  19  loss :  tf.Tensor(0.0002863875, shape=(), dtype=float32)\n",
            "epoch :  20  loss :  tf.Tensor(0.00025009335, shape=(), dtype=float32)\n",
            "epoch :  21  loss :  tf.Tensor(0.00017466414, shape=(), dtype=float32)\n",
            "epoch :  22  loss :  tf.Tensor(0.00011381711, shape=(), dtype=float32)\n",
            "epoch :  23  loss :  tf.Tensor(9.708819e-05, shape=(), dtype=float32)\n",
            "epoch :  24  loss :  tf.Tensor(0.0001316459, shape=(), dtype=float32)\n",
            "epoch :  25  loss :  tf.Tensor(0.00016009345, shape=(), dtype=float32)\n",
            "epoch :  26  loss :  tf.Tensor(0.00016677467, shape=(), dtype=float32)\n",
            "epoch :  27  loss :  tf.Tensor(0.00013892111, shape=(), dtype=float32)\n",
            "epoch :  28  loss :  tf.Tensor(0.000111420886, shape=(), dtype=float32)\n",
            "epoch :  29  loss :  tf.Tensor(9.852826e-05, shape=(), dtype=float32)\n",
            "epoch :  30  loss :  tf.Tensor(0.00012337352, shape=(), dtype=float32)\n",
            "epoch :  31  loss :  tf.Tensor(0.00018166081, shape=(), dtype=float32)\n",
            "epoch :  32  loss :  tf.Tensor(0.0002603513, shape=(), dtype=float32)\n",
            "epoch :  33  loss :  tf.Tensor(0.0003563275, shape=(), dtype=float32)\n",
            "epoch :  34  loss :  tf.Tensor(0.00048220894, shape=(), dtype=float32)\n",
            "epoch :  35  loss :  tf.Tensor(0.00065721775, shape=(), dtype=float32)\n",
            "epoch :  36  loss :  tf.Tensor(0.0009838496, shape=(), dtype=float32)\n",
            "epoch :  37  loss :  tf.Tensor(0.0013254485, shape=(), dtype=float32)\n",
            "epoch :  38  loss :  tf.Tensor(0.0020365124, shape=(), dtype=float32)\n",
            "epoch :  39  loss :  tf.Tensor(0.0022415097, shape=(), dtype=float32)\n",
            "epoch :  40  loss :  tf.Tensor(0.002840647, shape=(), dtype=float32)\n",
            "epoch :  41  loss :  tf.Tensor(0.0025693097, shape=(), dtype=float32)\n",
            "epoch :  42  loss :  tf.Tensor(0.0023927025, shape=(), dtype=float32)\n",
            "epoch :  43  loss :  tf.Tensor(0.0021143598, shape=(), dtype=float32)\n",
            "epoch :  44  loss :  tf.Tensor(0.0017051438, shape=(), dtype=float32)\n",
            "epoch :  45  loss :  tf.Tensor(0.0012660066, shape=(), dtype=float32)\n",
            "epoch :  46  loss :  tf.Tensor(0.0008258071, shape=(), dtype=float32)\n",
            "epoch :  47  loss :  tf.Tensor(0.0005339574, shape=(), dtype=float32)\n",
            "epoch :  48  loss :  tf.Tensor(0.00045115125, shape=(), dtype=float32)\n",
            "epoch :  49  loss :  tf.Tensor(0.0007033425, shape=(), dtype=float32)\n",
            "epoch :  50  loss :  tf.Tensor(0.00097322254, shape=(), dtype=float32)\n",
            "epoch :  51  loss :  tf.Tensor(0.0011556274, shape=(), dtype=float32)\n",
            "epoch :  52  loss :  tf.Tensor(0.0010945105, shape=(), dtype=float32)\n",
            "epoch :  53  loss :  tf.Tensor(0.0008257778, shape=(), dtype=float32)\n",
            "epoch :  54  loss :  tf.Tensor(0.00051146507, shape=(), dtype=float32)\n",
            "epoch :  55  loss :  tf.Tensor(0.00033166033, shape=(), dtype=float32)\n",
            "epoch :  56  loss :  tf.Tensor(0.00026887679, shape=(), dtype=float32)\n",
            "epoch :  57  loss :  tf.Tensor(0.0003092679, shape=(), dtype=float32)\n",
            "epoch :  58  loss :  tf.Tensor(0.00030264567, shape=(), dtype=float32)\n",
            "epoch :  59  loss :  tf.Tensor(0.00022660174, shape=(), dtype=float32)\n",
            "epoch :  60  loss :  tf.Tensor(0.00011745492, shape=(), dtype=float32)\n",
            "epoch :  61  loss :  tf.Tensor(5.0717816e-05, shape=(), dtype=float32)\n",
            "epoch :  62  loss :  tf.Tensor(6.521978e-05, shape=(), dtype=float32)\n",
            "epoch :  63  loss :  tf.Tensor(0.00013177651, shape=(), dtype=float32)\n",
            "epoch :  64  loss :  tf.Tensor(0.00018833211, shape=(), dtype=float32)\n",
            "epoch :  65  loss :  tf.Tensor(0.00018762352, shape=(), dtype=float32)\n",
            "epoch :  66  loss :  tf.Tensor(0.00014274141, shape=(), dtype=float32)\n",
            "epoch :  67  loss :  tf.Tensor(8.407529e-05, shape=(), dtype=float32)\n",
            "epoch :  68  loss :  tf.Tensor(6.1155835e-05, shape=(), dtype=float32)\n",
            "epoch :  69  loss :  tf.Tensor(7.516239e-05, shape=(), dtype=float32)\n",
            "epoch :  70  loss :  tf.Tensor(0.00010775171, shape=(), dtype=float32)\n",
            "epoch :  71  loss :  tf.Tensor(0.00012861124, shape=(), dtype=float32)\n",
            "epoch :  72  loss :  tf.Tensor(0.00012400339, shape=(), dtype=float32)\n",
            "epoch :  73  loss :  tf.Tensor(0.000103917504, shape=(), dtype=float32)\n",
            "epoch :  74  loss :  tf.Tensor(8.92897e-05, shape=(), dtype=float32)\n",
            "epoch :  75  loss :  tf.Tensor(9.217212e-05, shape=(), dtype=float32)\n",
            "epoch :  76  loss :  tf.Tensor(0.00012109153, shape=(), dtype=float32)\n",
            "epoch :  77  loss :  tf.Tensor(0.00015234522, shape=(), dtype=float32)\n",
            "epoch :  78  loss :  tf.Tensor(0.00020583237, shape=(), dtype=float32)\n",
            "epoch :  79  loss :  tf.Tensor(0.0002399046, shape=(), dtype=float32)\n",
            "epoch :  80  loss :  tf.Tensor(0.0003427046, shape=(), dtype=float32)\n",
            "epoch :  81  loss :  tf.Tensor(0.0004133711, shape=(), dtype=float32)\n",
            "epoch :  82  loss :  tf.Tensor(0.0006502244, shape=(), dtype=float32)\n",
            "epoch :  83  loss :  tf.Tensor(0.00076644367, shape=(), dtype=float32)\n",
            "epoch :  84  loss :  tf.Tensor(0.0011574868, shape=(), dtype=float32)\n",
            "epoch :  85  loss :  tf.Tensor(0.001163223, shape=(), dtype=float32)\n",
            "epoch :  86  loss :  tf.Tensor(0.0015000092, shape=(), dtype=float32)\n",
            "epoch :  87  loss :  tf.Tensor(0.0012010564, shape=(), dtype=float32)\n",
            "epoch :  88  loss :  tf.Tensor(0.001184932, shape=(), dtype=float32)\n",
            "epoch :  89  loss :  tf.Tensor(0.00079121155, shape=(), dtype=float32)\n",
            "epoch :  90  loss :  tf.Tensor(0.00059407676, shape=(), dtype=float32)\n",
            "epoch :  91  loss :  tf.Tensor(0.0003859576, shape=(), dtype=float32)\n",
            "epoch :  92  loss :  tf.Tensor(0.00028990943, shape=(), dtype=float32)\n",
            "epoch :  93  loss :  tf.Tensor(0.00025633594, shape=(), dtype=float32)\n",
            "epoch :  94  loss :  tf.Tensor(0.00026504142, shape=(), dtype=float32)\n",
            "epoch :  95  loss :  tf.Tensor(0.00028679997, shape=(), dtype=float32)\n",
            "epoch :  96  loss :  tf.Tensor(0.0003084391, shape=(), dtype=float32)\n",
            "epoch :  97  loss :  tf.Tensor(0.00031767567, shape=(), dtype=float32)\n",
            "epoch :  98  loss :  tf.Tensor(0.0003286906, shape=(), dtype=float32)\n",
            "epoch :  99  loss :  tf.Tensor(0.00036018284, shape=(), dtype=float32)\n",
            "epoch :  100  loss :  tf.Tensor(0.00039327182, shape=(), dtype=float32)\n",
            "epoch :  101  loss :  tf.Tensor(0.0005123537, shape=(), dtype=float32)\n",
            "epoch :  102  loss :  tf.Tensor(0.0005541385, shape=(), dtype=float32)\n",
            "epoch :  103  loss :  tf.Tensor(0.0007570585, shape=(), dtype=float32)\n",
            "epoch :  104  loss :  tf.Tensor(0.00071708974, shape=(), dtype=float32)\n",
            "epoch :  105  loss :  tf.Tensor(0.00088057877, shape=(), dtype=float32)\n",
            "epoch :  106  loss :  tf.Tensor(0.0007103941, shape=(), dtype=float32)\n",
            "epoch :  107  loss :  tf.Tensor(0.00070721825, shape=(), dtype=float32)\n",
            "epoch :  108  loss :  tf.Tensor(0.00052432396, shape=(), dtype=float32)\n",
            "epoch :  109  loss :  tf.Tensor(0.00043229305, shape=(), dtype=float32)\n",
            "epoch :  110  loss :  tf.Tensor(0.00032410427, shape=(), dtype=float32)\n",
            "epoch :  111  loss :  tf.Tensor(0.00025237535, shape=(), dtype=float32)\n",
            "epoch :  112  loss :  tf.Tensor(0.0002037164, shape=(), dtype=float32)\n",
            "epoch :  113  loss :  tf.Tensor(0.0001814357, shape=(), dtype=float32)\n",
            "epoch :  114  loss :  tf.Tensor(0.00018241612, shape=(), dtype=float32)\n",
            "epoch :  115  loss :  tf.Tensor(0.000200916, shape=(), dtype=float32)\n",
            "epoch :  116  loss :  tf.Tensor(0.00022374516, shape=(), dtype=float32)\n",
            "epoch :  117  loss :  tf.Tensor(0.00024822154, shape=(), dtype=float32)\n",
            "epoch :  118  loss :  tf.Tensor(0.0002671576, shape=(), dtype=float32)\n",
            "epoch :  119  loss :  tf.Tensor(0.00029164949, shape=(), dtype=float32)\n",
            "epoch :  120  loss :  tf.Tensor(0.00033628644, shape=(), dtype=float32)\n",
            "epoch :  121  loss :  tf.Tensor(0.00039052908, shape=(), dtype=float32)\n",
            "epoch :  122  loss :  tf.Tensor(0.00052001665, shape=(), dtype=float32)\n",
            "epoch :  123  loss :  tf.Tensor(0.0005986542, shape=(), dtype=float32)\n",
            "epoch :  124  loss :  tf.Tensor(0.000823974, shape=(), dtype=float32)\n",
            "epoch :  125  loss :  tf.Tensor(0.0008188967, shape=(), dtype=float32)\n",
            "epoch :  126  loss :  tf.Tensor(0.0009965508, shape=(), dtype=float32)\n",
            "epoch :  127  loss :  tf.Tensor(0.00081461994, shape=(), dtype=float32)\n",
            "epoch :  128  loss :  tf.Tensor(0.00077728915, shape=(), dtype=float32)\n",
            "epoch :  129  loss :  tf.Tensor(0.00057017215, shape=(), dtype=float32)\n",
            "epoch :  130  loss :  tf.Tensor(0.00043436873, shape=(), dtype=float32)\n",
            "epoch :  131  loss :  tf.Tensor(0.0002974391, shape=(), dtype=float32)\n",
            "epoch :  132  loss :  tf.Tensor(0.00018430297, shape=(), dtype=float32)\n",
            "epoch :  133  loss :  tf.Tensor(9.8844845e-05, shape=(), dtype=float32)\n",
            "epoch :  134  loss :  tf.Tensor(4.999864e-05, shape=(), dtype=float32)\n",
            "epoch :  135  loss :  tf.Tensor(4.557905e-05, shape=(), dtype=float32)\n",
            "epoch :  136  loss :  tf.Tensor(8.2941886e-05, shape=(), dtype=float32)\n",
            "epoch :  137  loss :  tf.Tensor(0.00014810983, shape=(), dtype=float32)\n",
            "epoch :  138  loss :  tf.Tensor(0.00022642431, shape=(), dtype=float32)\n",
            "epoch :  139  loss :  tf.Tensor(0.000306063, shape=(), dtype=float32)\n",
            "epoch :  140  loss :  tf.Tensor(0.00039420216, shape=(), dtype=float32)\n",
            "epoch :  141  loss :  tf.Tensor(0.00051519915, shape=(), dtype=float32)\n",
            "epoch :  142  loss :  tf.Tensor(0.0006656481, shape=(), dtype=float32)\n",
            "epoch :  143  loss :  tf.Tensor(0.00095401454, shape=(), dtype=float32)\n",
            "epoch :  144  loss :  tf.Tensor(0.001169159, shape=(), dtype=float32)\n",
            "epoch :  145  loss :  tf.Tensor(0.0016292243, shape=(), dtype=float32)\n",
            "epoch :  146  loss :  tf.Tensor(0.0015914885, shape=(), dtype=float32)\n",
            "epoch :  147  loss :  tf.Tensor(0.0017045292, shape=(), dtype=float32)\n",
            "epoch :  148  loss :  tf.Tensor(0.0013380393, shape=(), dtype=float32)\n",
            "epoch :  149  loss :  tf.Tensor(0.001050281, shape=(), dtype=float32)\n",
            "epoch :  150  loss :  tf.Tensor(0.00086965074, shape=(), dtype=float32)\n",
            "epoch :  151  loss :  tf.Tensor(0.00081317464, shape=(), dtype=float32)\n",
            "epoch :  152  loss :  tf.Tensor(0.00088173774, shape=(), dtype=float32)\n",
            "epoch :  153  loss :  tf.Tensor(0.0010220523, shape=(), dtype=float32)\n",
            "epoch :  154  loss :  tf.Tensor(0.0014151845, shape=(), dtype=float32)\n",
            "epoch :  155  loss :  tf.Tensor(0.0016061852, shape=(), dtype=float32)\n",
            "epoch :  156  loss :  tf.Tensor(0.0022089325, shape=(), dtype=float32)\n",
            "epoch :  157  loss :  tf.Tensor(0.0025502644, shape=(), dtype=float32)\n",
            "epoch :  158  loss :  tf.Tensor(0.0029962084, shape=(), dtype=float32)\n",
            "epoch :  159  loss :  tf.Tensor(0.003049551, shape=(), dtype=float32)\n",
            "epoch :  160  loss :  tf.Tensor(0.0028051252, shape=(), dtype=float32)\n",
            "epoch :  161  loss :  tf.Tensor(0.0021804543, shape=(), dtype=float32)\n",
            "epoch :  162  loss :  tf.Tensor(0.001517395, shape=(), dtype=float32)\n",
            "epoch :  163  loss :  tf.Tensor(0.0009315281, shape=(), dtype=float32)\n",
            "epoch :  164  loss :  tf.Tensor(0.0006429823, shape=(), dtype=float32)\n",
            "epoch :  165  loss :  tf.Tensor(0.00054114126, shape=(), dtype=float32)\n",
            "epoch :  166  loss :  tf.Tensor(0.0004890291, shape=(), dtype=float32)\n",
            "epoch :  167  loss :  tf.Tensor(0.00040696043, shape=(), dtype=float32)\n",
            "epoch :  168  loss :  tf.Tensor(0.00031547574, shape=(), dtype=float32)\n",
            "epoch :  169  loss :  tf.Tensor(0.00032275618, shape=(), dtype=float32)\n",
            "epoch :  170  loss :  tf.Tensor(0.0004312629, shape=(), dtype=float32)\n",
            "epoch :  171  loss :  tf.Tensor(0.0005800884, shape=(), dtype=float32)\n",
            "epoch :  172  loss :  tf.Tensor(0.0005613302, shape=(), dtype=float32)\n",
            "epoch :  173  loss :  tf.Tensor(0.00038809684, shape=(), dtype=float32)\n",
            "epoch :  174  loss :  tf.Tensor(0.00016046767, shape=(), dtype=float32)\n",
            "epoch :  175  loss :  tf.Tensor(3.701041e-05, shape=(), dtype=float32)\n",
            "epoch :  176  loss :  tf.Tensor(7.212248e-05, shape=(), dtype=float32)\n",
            "epoch :  177  loss :  tf.Tensor(0.00019279734, shape=(), dtype=float32)\n",
            "epoch :  178  loss :  tf.Tensor(0.00029731722, shape=(), dtype=float32)\n",
            "epoch :  179  loss :  tf.Tensor(0.00030383148, shape=(), dtype=float32)\n",
            "epoch :  180  loss :  tf.Tensor(0.0002731873, shape=(), dtype=float32)\n",
            "epoch :  181  loss :  tf.Tensor(0.00020568146, shape=(), dtype=float32)\n",
            "epoch :  182  loss :  tf.Tensor(0.00018226888, shape=(), dtype=float32)\n",
            "epoch :  183  loss :  tf.Tensor(0.00015405618, shape=(), dtype=float32)\n",
            "epoch :  184  loss :  tf.Tensor(0.0001320382, shape=(), dtype=float32)\n",
            "epoch :  185  loss :  tf.Tensor(0.000118153446, shape=(), dtype=float32)\n",
            "epoch :  186  loss :  tf.Tensor(0.00013780978, shape=(), dtype=float32)\n",
            "epoch :  187  loss :  tf.Tensor(0.00019245234, shape=(), dtype=float32)\n",
            "epoch :  188  loss :  tf.Tensor(0.0002606424, shape=(), dtype=float32)\n",
            "epoch :  189  loss :  tf.Tensor(0.00032192972, shape=(), dtype=float32)\n",
            "epoch :  190  loss :  tf.Tensor(0.00037854366, shape=(), dtype=float32)\n",
            "epoch :  191  loss :  tf.Tensor(0.00045115847, shape=(), dtype=float32)\n",
            "epoch :  192  loss :  tf.Tensor(0.00061340275, shape=(), dtype=float32)\n",
            "epoch :  193  loss :  tf.Tensor(0.0007816388, shape=(), dtype=float32)\n",
            "epoch :  194  loss :  tf.Tensor(0.0011589787, shape=(), dtype=float32)\n",
            "epoch :  195  loss :  tf.Tensor(0.0012976638, shape=(), dtype=float32)\n",
            "epoch :  196  loss :  tf.Tensor(0.0017737218, shape=(), dtype=float32)\n",
            "epoch :  197  loss :  tf.Tensor(0.0015490004, shape=(), dtype=float32)\n",
            "epoch :  198  loss :  tf.Tensor(0.0015882323, shape=(), dtype=float32)\n",
            "epoch :  199  loss :  tf.Tensor(0.0011290555, shape=(), dtype=float32)\n",
            "epoch :  200  loss :  tf.Tensor(0.00081267173, shape=(), dtype=float32)\n",
            "epoch :  201  loss :  tf.Tensor(0.00056727114, shape=(), dtype=float32)\n",
            "epoch :  202  loss :  tf.Tensor(0.00040607044, shape=(), dtype=float32)\n",
            "epoch :  203  loss :  tf.Tensor(0.00032315517, shape=(), dtype=float32)\n",
            "epoch :  204  loss :  tf.Tensor(0.00029820218, shape=(), dtype=float32)\n",
            "epoch :  205  loss :  tf.Tensor(0.00036294243, shape=(), dtype=float32)\n",
            "epoch :  206  loss :  tf.Tensor(0.00039747288, shape=(), dtype=float32)\n",
            "epoch :  207  loss :  tf.Tensor(0.0005572362, shape=(), dtype=float32)\n",
            "epoch :  208  loss :  tf.Tensor(0.00064484426, shape=(), dtype=float32)\n",
            "epoch :  209  loss :  tf.Tensor(0.0008092055, shape=(), dtype=float32)\n",
            "epoch :  210  loss :  tf.Tensor(0.0008817286, shape=(), dtype=float32)\n",
            "epoch :  211  loss :  tf.Tensor(0.00095383625, shape=(), dtype=float32)\n",
            "epoch :  212  loss :  tf.Tensor(0.00092667394, shape=(), dtype=float32)\n",
            "epoch :  213  loss :  tf.Tensor(0.00087445404, shape=(), dtype=float32)\n",
            "epoch :  214  loss :  tf.Tensor(0.0007350189, shape=(), dtype=float32)\n",
            "epoch :  215  loss :  tf.Tensor(0.00061162404, shape=(), dtype=float32)\n",
            "epoch :  216  loss :  tf.Tensor(0.0004297258, shape=(), dtype=float32)\n",
            "epoch :  217  loss :  tf.Tensor(0.00031578238, shape=(), dtype=float32)\n",
            "epoch :  218  loss :  tf.Tensor(0.00018892532, shape=(), dtype=float32)\n",
            "epoch :  219  loss :  tf.Tensor(0.0001302386, shape=(), dtype=float32)\n",
            "epoch :  220  loss :  tf.Tensor(0.00010164042, shape=(), dtype=float32)\n",
            "epoch :  221  loss :  tf.Tensor(0.000105286184, shape=(), dtype=float32)\n",
            "epoch :  222  loss :  tf.Tensor(0.00012362751, shape=(), dtype=float32)\n",
            "epoch :  223  loss :  tf.Tensor(0.00014796978, shape=(), dtype=float32)\n",
            "epoch :  224  loss :  tf.Tensor(0.00017290539, shape=(), dtype=float32)\n",
            "epoch :  225  loss :  tf.Tensor(0.00019635148, shape=(), dtype=float32)\n",
            "epoch :  226  loss :  tf.Tensor(0.00023646637, shape=(), dtype=float32)\n",
            "epoch :  227  loss :  tf.Tensor(0.00026216736, shape=(), dtype=float32)\n",
            "epoch :  228  loss :  tf.Tensor(0.00033651042, shape=(), dtype=float32)\n",
            "epoch :  229  loss :  tf.Tensor(0.000349135, shape=(), dtype=float32)\n",
            "epoch :  230  loss :  tf.Tensor(0.00043316124, shape=(), dtype=float32)\n",
            "epoch :  231  loss :  tf.Tensor(0.0003965789, shape=(), dtype=float32)\n",
            "epoch :  232  loss :  tf.Tensor(0.00044671952, shape=(), dtype=float32)\n",
            "epoch :  233  loss :  tf.Tensor(0.0003736646, shape=(), dtype=float32)\n",
            "epoch :  234  loss :  tf.Tensor(0.00038930576, shape=(), dtype=float32)\n",
            "epoch :  235  loss :  tf.Tensor(0.0003156088, shape=(), dtype=float32)\n",
            "epoch :  236  loss :  tf.Tensor(0.0003079477, shape=(), dtype=float32)\n",
            "epoch :  237  loss :  tf.Tensor(0.00024684035, shape=(), dtype=float32)\n",
            "epoch :  238  loss :  tf.Tensor(0.00022389341, shape=(), dtype=float32)\n",
            "epoch :  239  loss :  tf.Tensor(0.00017826956, shape=(), dtype=float32)\n",
            "epoch :  240  loss :  tf.Tensor(0.00015304323, shape=(), dtype=float32)\n",
            "epoch :  241  loss :  tf.Tensor(0.00012264095, shape=(), dtype=float32)\n",
            "epoch :  242  loss :  tf.Tensor(0.0001045378, shape=(), dtype=float32)\n",
            "epoch :  243  loss :  tf.Tensor(8.745161e-05, shape=(), dtype=float32)\n",
            "epoch :  244  loss :  tf.Tensor(7.853586e-05, shape=(), dtype=float32)\n",
            "epoch :  245  loss :  tf.Tensor(7.113512e-05, shape=(), dtype=float32)\n",
            "epoch :  246  loss :  tf.Tensor(7.058149e-05, shape=(), dtype=float32)\n",
            "epoch :  247  loss :  tf.Tensor(7.1833565e-05, shape=(), dtype=float32)\n",
            "epoch :  248  loss :  tf.Tensor(8.338081e-05, shape=(), dtype=float32)\n",
            "epoch :  249  loss :  tf.Tensor(9.8154276e-05, shape=(), dtype=float32)\n",
            "epoch :  250  loss :  tf.Tensor(0.00013404133, shape=(), dtype=float32)\n",
            "epoch :  251  loss :  tf.Tensor(0.00017394604, shape=(), dtype=float32)\n",
            "epoch :  252  loss :  tf.Tensor(0.00026483546, shape=(), dtype=float32)\n",
            "epoch :  253  loss :  tf.Tensor(0.00034952984, shape=(), dtype=float32)\n",
            "epoch :  254  loss :  tf.Tensor(0.0005599771, shape=(), dtype=float32)\n",
            "epoch :  255  loss :  tf.Tensor(0.000684156, shape=(), dtype=float32)\n",
            "epoch :  256  loss :  tf.Tensor(0.0010677447, shape=(), dtype=float32)\n",
            "epoch :  257  loss :  tf.Tensor(0.0010873214, shape=(), dtype=float32)\n",
            "epoch :  258  loss :  tf.Tensor(0.0014545778, shape=(), dtype=float32)\n",
            "epoch :  259  loss :  tf.Tensor(0.0011812053, shape=(), dtype=float32)\n",
            "epoch :  260  loss :  tf.Tensor(0.0011675302, shape=(), dtype=float32)\n",
            "epoch :  261  loss :  tf.Tensor(0.0008451346, shape=(), dtype=float32)\n",
            "epoch :  262  loss :  tf.Tensor(0.00064118806, shape=(), dtype=float32)\n",
            "epoch :  263  loss :  tf.Tensor(0.00046186603, shape=(), dtype=float32)\n",
            "epoch :  264  loss :  tf.Tensor(0.00033042333, shape=(), dtype=float32)\n",
            "epoch :  265  loss :  tf.Tensor(0.0002609823, shape=(), dtype=float32)\n",
            "epoch :  266  loss :  tf.Tensor(0.00025703132, shape=(), dtype=float32)\n",
            "epoch :  267  loss :  tf.Tensor(0.0003187458, shape=(), dtype=float32)\n",
            "epoch :  268  loss :  tf.Tensor(0.0004235952, shape=(), dtype=float32)\n",
            "epoch :  269  loss :  tf.Tensor(0.0005796764, shape=(), dtype=float32)\n",
            "epoch :  270  loss :  tf.Tensor(0.0006893529, shape=(), dtype=float32)\n",
            "epoch :  271  loss :  tf.Tensor(0.0008779401, shape=(), dtype=float32)\n",
            "epoch :  272  loss :  tf.Tensor(0.0008901991, shape=(), dtype=float32)\n",
            "epoch :  273  loss :  tf.Tensor(0.0010967199, shape=(), dtype=float32)\n",
            "epoch :  274  loss :  tf.Tensor(0.00094158587, shape=(), dtype=float32)\n",
            "epoch :  275  loss :  tf.Tensor(0.0010701087, shape=(), dtype=float32)\n",
            "epoch :  276  loss :  tf.Tensor(0.00076333573, shape=(), dtype=float32)\n",
            "epoch :  277  loss :  tf.Tensor(0.0006976782, shape=(), dtype=float32)\n",
            "epoch :  278  loss :  tf.Tensor(0.0004051574, shape=(), dtype=float32)\n",
            "epoch :  279  loss :  tf.Tensor(0.00025561362, shape=(), dtype=float32)\n",
            "epoch :  280  loss :  tf.Tensor(0.00012360542, shape=(), dtype=float32)\n",
            "epoch :  281  loss :  tf.Tensor(6.8744026e-05, shape=(), dtype=float32)\n",
            "epoch :  282  loss :  tf.Tensor(6.718318e-05, shape=(), dtype=float32)\n",
            "epoch :  283  loss :  tf.Tensor(0.000101837526, shape=(), dtype=float32)\n",
            "epoch :  284  loss :  tf.Tensor(0.00016085153, shape=(), dtype=float32)\n",
            "epoch :  285  loss :  tf.Tensor(0.00022157839, shape=(), dtype=float32)\n",
            "epoch :  286  loss :  tf.Tensor(0.00030473614, shape=(), dtype=float32)\n",
            "epoch :  287  loss :  tf.Tensor(0.00035430468, shape=(), dtype=float32)\n",
            "epoch :  288  loss :  tf.Tensor(0.0004282128, shape=(), dtype=float32)\n",
            "epoch :  289  loss :  tf.Tensor(0.00043826154, shape=(), dtype=float32)\n",
            "epoch :  290  loss :  tf.Tensor(0.0004776576, shape=(), dtype=float32)\n",
            "epoch :  291  loss :  tf.Tensor(0.00044510956, shape=(), dtype=float32)\n",
            "epoch :  292  loss :  tf.Tensor(0.0004628076, shape=(), dtype=float32)\n",
            "epoch :  293  loss :  tf.Tensor(0.00041482074, shape=(), dtype=float32)\n",
            "epoch :  294  loss :  tf.Tensor(0.00043201994, shape=(), dtype=float32)\n",
            "epoch :  295  loss :  tf.Tensor(0.00037975577, shape=(), dtype=float32)\n",
            "epoch :  296  loss :  tf.Tensor(0.00038904737, shape=(), dtype=float32)\n",
            "epoch :  297  loss :  tf.Tensor(0.00032612646, shape=(), dtype=float32)\n",
            "epoch :  298  loss :  tf.Tensor(0.00031618966, shape=(), dtype=float32)\n",
            "epoch :  299  loss :  tf.Tensor(0.00025445595, shape=(), dtype=float32)\n",
            "epoch :  300  loss :  tf.Tensor(0.00023744366, shape=(), dtype=float32)\n",
            "epoch :  301  loss :  tf.Tensor(0.00019440781, shape=(), dtype=float32)\n",
            "epoch :  302  loss :  tf.Tensor(0.00018363961, shape=(), dtype=float32)\n",
            "epoch :  303  loss :  tf.Tensor(0.00016006439, shape=(), dtype=float32)\n",
            "epoch :  304  loss :  tf.Tensor(0.0001624253, shape=(), dtype=float32)\n",
            "epoch :  305  loss :  tf.Tensor(0.00016145065, shape=(), dtype=float32)\n",
            "epoch :  306  loss :  tf.Tensor(0.00019788506, shape=(), dtype=float32)\n",
            "epoch :  307  loss :  tf.Tensor(0.0002443781, shape=(), dtype=float32)\n",
            "epoch :  308  loss :  tf.Tensor(0.00036587298, shape=(), dtype=float32)\n",
            "epoch :  309  loss :  tf.Tensor(0.0005205794, shape=(), dtype=float32)\n",
            "epoch :  310  loss :  tf.Tensor(0.00084641145, shape=(), dtype=float32)\n",
            "epoch :  311  loss :  tf.Tensor(0.0012563029, shape=(), dtype=float32)\n",
            "epoch :  312  loss :  tf.Tensor(0.0020395638, shape=(), dtype=float32)\n",
            "epoch :  313  loss :  tf.Tensor(0.002982904, shape=(), dtype=float32)\n",
            "epoch :  314  loss :  tf.Tensor(0.00444219, shape=(), dtype=float32)\n",
            "epoch :  315  loss :  tf.Tensor(0.006170929, shape=(), dtype=float32)\n",
            "epoch :  316  loss :  tf.Tensor(0.00769595, shape=(), dtype=float32)\n",
            "epoch :  317  loss :  tf.Tensor(0.009305412, shape=(), dtype=float32)\n",
            "epoch :  318  loss :  tf.Tensor(0.008648031, shape=(), dtype=float32)\n",
            "epoch :  319  loss :  tf.Tensor(0.0063888775, shape=(), dtype=float32)\n",
            "epoch :  320  loss :  tf.Tensor(0.0030608028, shape=(), dtype=float32)\n",
            "epoch :  321  loss :  tf.Tensor(0.0012625328, shape=(), dtype=float32)\n",
            "epoch :  322  loss :  tf.Tensor(0.0018673772, shape=(), dtype=float32)\n",
            "epoch :  323  loss :  tf.Tensor(0.0034904003, shape=(), dtype=float32)\n",
            "epoch :  324  loss :  tf.Tensor(0.0034073903, shape=(), dtype=float32)\n",
            "epoch :  325  loss :  tf.Tensor(0.0015127659, shape=(), dtype=float32)\n",
            "epoch :  326  loss :  tf.Tensor(0.00041598847, shape=(), dtype=float32)\n",
            "epoch :  327  loss :  tf.Tensor(0.0011994613, shape=(), dtype=float32)\n",
            "epoch :  328  loss :  tf.Tensor(0.002190195, shape=(), dtype=float32)\n",
            "epoch :  329  loss :  tf.Tensor(0.0017821402, shape=(), dtype=float32)\n",
            "epoch :  330  loss :  tf.Tensor(0.00076289894, shape=(), dtype=float32)\n",
            "epoch :  331  loss :  tf.Tensor(0.00076891354, shape=(), dtype=float32)\n",
            "epoch :  332  loss :  tf.Tensor(0.0014791471, shape=(), dtype=float32)\n",
            "epoch :  333  loss :  tf.Tensor(0.0014384958, shape=(), dtype=float32)\n",
            "epoch :  334  loss :  tf.Tensor(0.00065971503, shape=(), dtype=float32)\n",
            "epoch :  335  loss :  tf.Tensor(0.00030111775, shape=(), dtype=float32)\n",
            "epoch :  336  loss :  tf.Tensor(0.0005966476, shape=(), dtype=float32)\n",
            "epoch :  337  loss :  tf.Tensor(0.0006889334, shape=(), dtype=float32)\n",
            "epoch :  338  loss :  tf.Tensor(0.00038409757, shape=(), dtype=float32)\n",
            "epoch :  339  loss :  tf.Tensor(0.0003107483, shape=(), dtype=float32)\n",
            "epoch :  340  loss :  tf.Tensor(0.00064934546, shape=(), dtype=float32)\n",
            "epoch :  341  loss :  tf.Tensor(0.0008266854, shape=(), dtype=float32)\n",
            "epoch :  342  loss :  tf.Tensor(0.00054576155, shape=(), dtype=float32)\n",
            "epoch :  343  loss :  tf.Tensor(0.0002568237, shape=(), dtype=float32)\n",
            "epoch :  344  loss :  tf.Tensor(0.00028532298, shape=(), dtype=float32)\n",
            "epoch :  345  loss :  tf.Tensor(0.00036244135, shape=(), dtype=float32)\n",
            "epoch :  346  loss :  tf.Tensor(0.00023854297, shape=(), dtype=float32)\n",
            "epoch :  347  loss :  tf.Tensor(0.00012839286, shape=(), dtype=float32)\n",
            "epoch :  348  loss :  tf.Tensor(0.00023750146, shape=(), dtype=float32)\n",
            "epoch :  349  loss :  tf.Tensor(0.0003727157, shape=(), dtype=float32)\n",
            "epoch :  350  loss :  tf.Tensor(0.00031294068, shape=(), dtype=float32)\n",
            "epoch :  351  loss :  tf.Tensor(0.00018431818, shape=(), dtype=float32)\n",
            "epoch :  352  loss :  tf.Tensor(0.00017729099, shape=(), dtype=float32)\n",
            "epoch :  353  loss :  tf.Tensor(0.00024381782, shape=(), dtype=float32)\n",
            "epoch :  354  loss :  tf.Tensor(0.00022620903, shape=(), dtype=float32)\n",
            "epoch :  355  loss :  tf.Tensor(0.00021401413, shape=(), dtype=float32)\n",
            "epoch :  356  loss :  tf.Tensor(0.00027895515, shape=(), dtype=float32)\n",
            "epoch :  357  loss :  tf.Tensor(0.00043252597, shape=(), dtype=float32)\n",
            "epoch :  358  loss :  tf.Tensor(0.00052429264, shape=(), dtype=float32)\n",
            "epoch :  359  loss :  tf.Tensor(0.0006832415, shape=(), dtype=float32)\n",
            "epoch :  360  loss :  tf.Tensor(0.0008301118, shape=(), dtype=float32)\n",
            "epoch :  361  loss :  tf.Tensor(0.0013741275, shape=(), dtype=float32)\n",
            "epoch :  362  loss :  tf.Tensor(0.0013352953, shape=(), dtype=float32)\n",
            "epoch :  363  loss :  tf.Tensor(0.0018258707, shape=(), dtype=float32)\n",
            "epoch :  364  loss :  tf.Tensor(0.0012785604, shape=(), dtype=float32)\n",
            "epoch :  365  loss :  tf.Tensor(0.0012295087, shape=(), dtype=float32)\n",
            "epoch :  366  loss :  tf.Tensor(0.00073195744, shape=(), dtype=float32)\n",
            "epoch :  367  loss :  tf.Tensor(0.00044264324, shape=(), dtype=float32)\n",
            "epoch :  368  loss :  tf.Tensor(0.00021810058, shape=(), dtype=float32)\n",
            "epoch :  369  loss :  tf.Tensor(0.0001328818, shape=(), dtype=float32)\n",
            "epoch :  370  loss :  tf.Tensor(0.00010413428, shape=(), dtype=float32)\n",
            "epoch :  371  loss :  tf.Tensor(9.5761425e-05, shape=(), dtype=float32)\n",
            "epoch :  372  loss :  tf.Tensor(0.00013809056, shape=(), dtype=float32)\n",
            "epoch :  373  loss :  tf.Tensor(0.00023277715, shape=(), dtype=float32)\n",
            "epoch :  374  loss :  tf.Tensor(0.00041133247, shape=(), dtype=float32)\n",
            "epoch :  375  loss :  tf.Tensor(0.00051273534, shape=(), dtype=float32)\n",
            "epoch :  376  loss :  tf.Tensor(0.00073287496, shape=(), dtype=float32)\n",
            "epoch :  377  loss :  tf.Tensor(0.000770914, shape=(), dtype=float32)\n",
            "epoch :  378  loss :  tf.Tensor(0.0010039858, shape=(), dtype=float32)\n",
            "epoch :  379  loss :  tf.Tensor(0.00090980186, shape=(), dtype=float32)\n",
            "epoch :  380  loss :  tf.Tensor(0.0010600701, shape=(), dtype=float32)\n",
            "epoch :  381  loss :  tf.Tensor(0.0007958524, shape=(), dtype=float32)\n",
            "epoch :  382  loss :  tf.Tensor(0.0007757615, shape=(), dtype=float32)\n",
            "epoch :  383  loss :  tf.Tensor(0.00045122867, shape=(), dtype=float32)\n",
            "epoch :  384  loss :  tf.Tensor(0.00027355988, shape=(), dtype=float32)\n",
            "epoch :  385  loss :  tf.Tensor(0.00010480928, shape=(), dtype=float32)\n",
            "epoch :  386  loss :  tf.Tensor(4.1072017e-05, shape=(), dtype=float32)\n",
            "epoch :  387  loss :  tf.Tensor(5.338611e-05, shape=(), dtype=float32)\n",
            "epoch :  388  loss :  tf.Tensor(0.00010918752, shape=(), dtype=float32)\n",
            "epoch :  389  loss :  tf.Tensor(0.0001968804, shape=(), dtype=float32)\n",
            "epoch :  390  loss :  tf.Tensor(0.00025654602, shape=(), dtype=float32)\n",
            "epoch :  391  loss :  tf.Tensor(0.00035095634, shape=(), dtype=float32)\n",
            "epoch :  392  loss :  tf.Tensor(0.00036195084, shape=(), dtype=float32)\n",
            "epoch :  393  loss :  tf.Tensor(0.0004212733, shape=(), dtype=float32)\n",
            "epoch :  394  loss :  tf.Tensor(0.00038246711, shape=(), dtype=float32)\n",
            "epoch :  395  loss :  tf.Tensor(0.00039635593, shape=(), dtype=float32)\n",
            "epoch :  396  loss :  tf.Tensor(0.00032390465, shape=(), dtype=float32)\n",
            "epoch :  397  loss :  tf.Tensor(0.0003006015, shape=(), dtype=float32)\n",
            "epoch :  398  loss :  tf.Tensor(0.00023148535, shape=(), dtype=float32)\n",
            "epoch :  399  loss :  tf.Tensor(0.00020939438, shape=(), dtype=float32)\n",
            "epoch :  400  loss :  tf.Tensor(0.00016848775, shape=(), dtype=float32)\n",
            "epoch :  401  loss :  tf.Tensor(0.00015782054, shape=(), dtype=float32)\n",
            "epoch :  402  loss :  tf.Tensor(0.00013096342, shape=(), dtype=float32)\n",
            "epoch :  403  loss :  tf.Tensor(0.00012073305, shape=(), dtype=float32)\n",
            "epoch :  404  loss :  tf.Tensor(9.773616e-05, shape=(), dtype=float32)\n",
            "epoch :  405  loss :  tf.Tensor(8.6108324e-05, shape=(), dtype=float32)\n",
            "epoch :  406  loss :  tf.Tensor(6.962919e-05, shape=(), dtype=float32)\n",
            "epoch :  407  loss :  tf.Tensor(6.3191714e-05, shape=(), dtype=float32)\n",
            "epoch :  408  loss :  tf.Tensor(5.7551377e-05, shape=(), dtype=float32)\n",
            "epoch :  409  loss :  tf.Tensor(5.884585e-05, shape=(), dtype=float32)\n",
            "epoch :  410  loss :  tf.Tensor(6.021514e-05, shape=(), dtype=float32)\n",
            "epoch :  411  loss :  tf.Tensor(6.688402e-05, shape=(), dtype=float32)\n",
            "epoch :  412  loss :  tf.Tensor(7.412239e-05, shape=(), dtype=float32)\n",
            "epoch :  413  loss :  tf.Tensor(9.213774e-05, shape=(), dtype=float32)\n",
            "epoch :  414  loss :  tf.Tensor(0.00011201232, shape=(), dtype=float32)\n",
            "epoch :  415  loss :  tf.Tensor(0.00015814249, shape=(), dtype=float32)\n",
            "epoch :  416  loss :  tf.Tensor(0.00020442336, shape=(), dtype=float32)\n",
            "epoch :  417  loss :  tf.Tensor(0.00031815833, shape=(), dtype=float32)\n",
            "epoch :  418  loss :  tf.Tensor(0.0004110344, shape=(), dtype=float32)\n",
            "epoch :  419  loss :  tf.Tensor(0.0006690034, shape=(), dtype=float32)\n",
            "epoch :  420  loss :  tf.Tensor(0.0007817272, shape=(), dtype=float32)\n",
            "epoch :  421  loss :  tf.Tensor(0.0012199039, shape=(), dtype=float32)\n",
            "epoch :  422  loss :  tf.Tensor(0.0011428599, shape=(), dtype=float32)\n",
            "epoch :  423  loss :  tf.Tensor(0.0014736883, shape=(), dtype=float32)\n",
            "epoch :  424  loss :  tf.Tensor(0.0010883015, shape=(), dtype=float32)\n",
            "epoch :  425  loss :  tf.Tensor(0.0010261749, shape=(), dtype=float32)\n",
            "epoch :  426  loss :  tf.Tensor(0.00072245434, shape=(), dtype=float32)\n",
            "epoch :  427  loss :  tf.Tensor(0.00058140024, shape=(), dtype=float32)\n",
            "epoch :  428  loss :  tf.Tensor(0.00045024266, shape=(), dtype=float32)\n",
            "epoch :  429  loss :  tf.Tensor(0.00034259277, shape=(), dtype=float32)\n",
            "epoch :  430  loss :  tf.Tensor(0.00023281749, shape=(), dtype=float32)\n",
            "epoch :  431  loss :  tf.Tensor(0.000129539, shape=(), dtype=float32)\n",
            "epoch :  432  loss :  tf.Tensor(5.5106495e-05, shape=(), dtype=float32)\n",
            "epoch :  433  loss :  tf.Tensor(3.0376457e-05, shape=(), dtype=float32)\n",
            "epoch :  434  loss :  tf.Tensor(5.758278e-05, shape=(), dtype=float32)\n",
            "epoch :  435  loss :  tf.Tensor(0.00011766309, shape=(), dtype=float32)\n",
            "epoch :  436  loss :  tf.Tensor(0.00019316518, shape=(), dtype=float32)\n",
            "epoch :  437  loss :  tf.Tensor(0.00025637943, shape=(), dtype=float32)\n",
            "epoch :  438  loss :  tf.Tensor(0.00032261328, shape=(), dtype=float32)\n",
            "epoch :  439  loss :  tf.Tensor(0.00036567578, shape=(), dtype=float32)\n",
            "epoch :  440  loss :  tf.Tensor(0.00047229746, shape=(), dtype=float32)\n",
            "epoch :  441  loss :  tf.Tensor(0.00053625397, shape=(), dtype=float32)\n",
            "epoch :  442  loss :  tf.Tensor(0.00078102207, shape=(), dtype=float32)\n",
            "epoch :  443  loss :  tf.Tensor(0.0007947852, shape=(), dtype=float32)\n",
            "epoch :  444  loss :  tf.Tensor(0.0010505315, shape=(), dtype=float32)\n",
            "epoch :  445  loss :  tf.Tensor(0.0008075539, shape=(), dtype=float32)\n",
            "epoch :  446  loss :  tf.Tensor(0.0007574084, shape=(), dtype=float32)\n",
            "epoch :  447  loss :  tf.Tensor(0.00043433762, shape=(), dtype=float32)\n",
            "epoch :  448  loss :  tf.Tensor(0.00025248714, shape=(), dtype=float32)\n",
            "epoch :  449  loss :  tf.Tensor(0.00011021915, shape=(), dtype=float32)\n",
            "epoch :  450  loss :  tf.Tensor(5.881558e-05, shape=(), dtype=float32)\n",
            "epoch :  451  loss :  tf.Tensor(6.804404e-05, shape=(), dtype=float32)\n",
            "epoch :  452  loss :  tf.Tensor(0.00011034048, shape=(), dtype=float32)\n",
            "epoch :  453  loss :  tf.Tensor(0.0001694716, shape=(), dtype=float32)\n",
            "epoch :  454  loss :  tf.Tensor(0.00022363703, shape=(), dtype=float32)\n",
            "epoch :  455  loss :  tf.Tensor(0.00032209625, shape=(), dtype=float32)\n",
            "epoch :  456  loss :  tf.Tensor(0.0003791801, shape=(), dtype=float32)\n",
            "epoch :  457  loss :  tf.Tensor(0.0005503563, shape=(), dtype=float32)\n",
            "epoch :  458  loss :  tf.Tensor(0.0005887032, shape=(), dtype=float32)\n",
            "epoch :  459  loss :  tf.Tensor(0.0008112903, shape=(), dtype=float32)\n",
            "epoch :  460  loss :  tf.Tensor(0.00078284997, shape=(), dtype=float32)\n",
            "epoch :  461  loss :  tf.Tensor(0.0009847402, shape=(), dtype=float32)\n",
            "epoch :  462  loss :  tf.Tensor(0.00085576234, shape=(), dtype=float32)\n",
            "epoch :  463  loss :  tf.Tensor(0.000934841, shape=(), dtype=float32)\n",
            "epoch :  464  loss :  tf.Tensor(0.0007097343, shape=(), dtype=float32)\n",
            "epoch :  465  loss :  tf.Tensor(0.0006258972, shape=(), dtype=float32)\n",
            "epoch :  466  loss :  tf.Tensor(0.0004058564, shape=(), dtype=float32)\n",
            "epoch :  467  loss :  tf.Tensor(0.00027713488, shape=(), dtype=float32)\n",
            "epoch :  468  loss :  tf.Tensor(0.00015255877, shape=(), dtype=float32)\n",
            "epoch :  469  loss :  tf.Tensor(7.967427e-05, shape=(), dtype=float32)\n",
            "epoch :  470  loss :  tf.Tensor(3.7580456e-05, shape=(), dtype=float32)\n",
            "epoch :  471  loss :  tf.Tensor(2.3090013e-05, shape=(), dtype=float32)\n",
            "epoch :  472  loss :  tf.Tensor(3.1257197e-05, shape=(), dtype=float32)\n",
            "epoch :  473  loss :  tf.Tensor(5.7969475e-05, shape=(), dtype=float32)\n",
            "epoch :  474  loss :  tf.Tensor(0.000104995575, shape=(), dtype=float32)\n",
            "epoch :  475  loss :  tf.Tensor(0.00015655682, shape=(), dtype=float32)\n",
            "epoch :  476  loss :  tf.Tensor(0.00024213508, shape=(), dtype=float32)\n",
            "epoch :  477  loss :  tf.Tensor(0.00030750988, shape=(), dtype=float32)\n",
            "epoch :  478  loss :  tf.Tensor(0.0004553781, shape=(), dtype=float32)\n",
            "epoch :  479  loss :  tf.Tensor(0.0005304663, shape=(), dtype=float32)\n",
            "epoch :  480  loss :  tf.Tensor(0.0007803661, shape=(), dtype=float32)\n",
            "epoch :  481  loss :  tf.Tensor(0.0008119298, shape=(), dtype=float32)\n",
            "epoch :  482  loss :  tf.Tensor(0.0011093768, shape=(), dtype=float32)\n",
            "epoch :  483  loss :  tf.Tensor(0.0009424659, shape=(), dtype=float32)\n",
            "epoch :  484  loss :  tf.Tensor(0.0010257646, shape=(), dtype=float32)\n",
            "epoch :  485  loss :  tf.Tensor(0.00068549963, shape=(), dtype=float32)\n",
            "epoch :  486  loss :  tf.Tensor(0.00051878684, shape=(), dtype=float32)\n",
            "epoch :  487  loss :  tf.Tensor(0.0002769417, shape=(), dtype=float32)\n",
            "epoch :  488  loss :  tf.Tensor(0.00014419551, shape=(), dtype=float32)\n",
            "epoch :  489  loss :  tf.Tensor(7.192097e-05, shape=(), dtype=float32)\n",
            "epoch :  490  loss :  tf.Tensor(5.786933e-05, shape=(), dtype=float32)\n",
            "epoch :  491  loss :  tf.Tensor(7.978959e-05, shape=(), dtype=float32)\n",
            "epoch :  492  loss :  tf.Tensor(0.00012165021, shape=(), dtype=float32)\n",
            "epoch :  493  loss :  tf.Tensor(0.00018338748, shape=(), dtype=float32)\n",
            "epoch :  494  loss :  tf.Tensor(0.0002475708, shape=(), dtype=float32)\n",
            "epoch :  495  loss :  tf.Tensor(0.00037448033, shape=(), dtype=float32)\n",
            "epoch :  496  loss :  tf.Tensor(0.0004513564, shape=(), dtype=float32)\n",
            "epoch :  497  loss :  tf.Tensor(0.00067482766, shape=(), dtype=float32)\n",
            "epoch :  498  loss :  tf.Tensor(0.0007053743, shape=(), dtype=float32)\n",
            "epoch :  499  loss :  tf.Tensor(0.0009799618, shape=(), dtype=float32)\n"
          ],
          "name": "stdout"
        }
      ]
    },
    {
      "cell_type": "code",
      "metadata": {
        "id": "LTMlbvxRcF9U",
        "colab": {
          "base_uri": "https://localhost:8080/",
          "height": 279
        },
        "outputId": "4f385779-c02b-4b5a-ec13-cb4868f38edf"
      },
      "source": [
        "x=model.predict(test)\n",
        "plt.figure()\n",
        "plt.plot(test,x, color='r',linestyle='dashed', label='PINN')\n",
        "plt.plot(test,y, label = 'Exact')\n",
        "plt.xlim([0,50])\n",
        "plt.xlabel('Time')\n",
        "plt.ylabel('Displacement')\n",
        "plt.legend()\n",
        "plt.show()"
      ],
      "execution_count": null,
      "outputs": [
        {
          "output_type": "display_data",
          "data": {
            "image/png": "[encoded data removed]",
            "text/plain": [
              "<Figure size 432x288 with 1 Axes>"
            ]
          },
          "metadata": {
            "tags": [],
            "needs_background": "light"
          }
        }
      ]
    },
    {
      "cell_type": "code",
      "metadata": {
        "id": "gIb4WWGKcF9W",
        "colab": {
          "base_uri": "https://localhost:8080/",
          "height": 136
        },
        "outputId": "4515f050-4f89-495b-8bc9-faffd0de2d72"
      },
      "source": [
        "model(t0)"
      ],
      "execution_count": null,
      "outputs": [
        {
          "output_type": "execute_result",
          "data": {
            "text/plain": [
              "<tf.Tensor: shape=(6, 1), dtype=float32, numpy=\n",
              "array([[-0.03251336],\n",
              "       [-0.01134566],\n",
              "       [-0.00166885],\n",
              "       [ 0.04911005],\n",
              "       [ 0.00322666],\n",
              "       [ 0.08940818]], dtype=float32)>"
            ]
          },
          "metadata": {
            "tags": []
          },
          "execution_count": 20
        }
      ]
    },
    {
      "cell_type": "code",
      "metadata": {
        "id": "Tw8fYqGScF9Y"
      },
      "source": [
        ""
      ],
      "execution_count": null,
      "outputs": []
    }
  ]
}