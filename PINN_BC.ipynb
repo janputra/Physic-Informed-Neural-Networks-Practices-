{
  "nbformat": 4,
  "nbformat_minor": 0,
  "metadata": {
    "kernelspec": {
      "display_name": "Python 3",
      "language": "python",
      "name": "python3"
    },
    "language_info": {
      "codemirror_mode": {
        "name": "ipython",
        "version": 3
      },
      "file_extension": ".py",
      "mimetype": "text/x-python",
      "name": "python",
      "nbconvert_exporter": "python",
      "pygments_lexer": "ipython3",
      "version": "3.7.6"
    },
    "colab": {
      "name": "PINN_BC.ipynb",
      "provenance": [],
      "include_colab_link": true
    },
    "accelerator": "GPU"
  },
  "cells": [
    {
      "cell_type": "markdown",
      "metadata": {
        "id": "view-in-github",
        "colab_type": "text"
      },
      "source": [
        "<a href=\"https://colab.research.google.com/github/janputra/Physic-Informed-Neural-Networks-Practices-/blob/main/PINN_BC.ipynb\" target=\"_parent\"><img src=\"https://colab.research.google.com/assets/colab-badge.svg\" alt=\"Open In Colab\"/></a>"
      ]
    },
    {
      "cell_type": "code",
      "metadata": {
        "id": "V6QAvIh1eYYa",
        "colab": {
          "base_uri": "https://localhost:8080/",
          "height": 204
        },
        "outputId": "db16f226-c26c-48b5-8689-0d9ff307caab"
      },
      "source": [
        "!pip install --upgrade pyDOE"
      ],
      "execution_count": null,
      "outputs": [
        {
          "output_type": "stream",
          "text": [
            "Collecting pyDOE\n",
            "  Downloading https://files.pythonhosted.org/packages/bc/ac/91fe4c039e2744466621343d3b8af4a485193ed0aab53af5b1db03be0989/pyDOE-0.3.8.zip\n",
            "Requirement already satisfied, skipping upgrade: numpy in /usr/local/lib/python3.6/dist-packages (from pyDOE) (1.18.4)\n",
            "Requirement already satisfied, skipping upgrade: scipy in /usr/local/lib/python3.6/dist-packages (from pyDOE) (1.4.1)\n",
            "Building wheels for collected packages: pyDOE\n",
            "  Building wheel for pyDOE (setup.py) ... \u001b[?25l\u001b[?25hdone\n",
            "  Created wheel for pyDOE: filename=pyDOE-0.3.8-cp36-none-any.whl size=18178 sha256=c961b8784b2d1fb61402f4f54977b8593aed62d4e4eb447e0825802eb13c78c0\n",
            "  Stored in directory: /root/.cache/pip/wheels/7c/c8/58/a6493bd415e8ba5735082b5e0c096d7c1f2933077a8ce34544\n",
            "Successfully built pyDOE\n",
            "Installing collected packages: pyDOE\n",
            "Successfully installed pyDOE-0.3.8\n"
          ],
          "name": "stdout"
        }
      ]
    },
    {
      "cell_type": "code",
      "metadata": {
        "id": "bdgw-KXaeT3o"
      },
      "source": [
        "# import pathlib \n",
        "import numpy as np\n",
        "import matplotlib.pyplot as plt\n",
        "import pandas as pd\n",
        "import seaborn as sns\n",
        "import math\n",
        "import os\n",
        "import tensorflow as tf\n",
        "from tensorflow import keras \n",
        "from tensorflow.keras import backend as K\n",
        "from tensorflow.keras.layers import Dense\n",
        "from tensorflow.keras.layers import Input\n",
        "from tensorflow.keras.layers import concatenate\n",
        "from tensorflow.keras.models import Model\n",
        "from sklearn.model_selection import KFold\n",
        "from tensorflow.keras.utils import plot_model\n",
        "from pyDOE import lhs"
      ],
      "execution_count": null,
      "outputs": []
    },
    {
      "cell_type": "code",
      "metadata": {
        "id": "IxHBEZj6eT3t"
      },
      "source": [
        "test=np.arange(0,50,0.01)\n",
        "test=test.reshape(len(test),1)\n",
        "\n"
      ],
      "execution_count": null,
      "outputs": []
    },
    {
      "cell_type": "code",
      "metadata": {
        "id": "oojdFkPZeT3w"
      },
      "source": [
        "m=30 \n",
        "k=3\n",
        "\n",
        "ome= math.sqrt((k/m))\n",
        "f=ome/(2*math.pi)\n",
        "per=1/f\n",
        "c1=0\n",
        "c2=0.1/(ome)\n",
        "v0=-0.1\n",
        "y=c2*np.sin(ome*test)"
      ],
      "execution_count": null,
      "outputs": []
    },
    {
      "cell_type": "code",
      "metadata": {
        "id": "ikAbXDIUeT30",
        "colab": {
          "base_uri": "https://localhost:8080/",
          "height": 34
        },
        "outputId": "14f3bfc0-bd1a-494c-b92b-782268c2cf14"
      },
      "source": [
        "test.shape[0]"
      ],
      "execution_count": null,
      "outputs": [
        {
          "output_type": "execute_result",
          "data": {
            "text/plain": [
              "5000"
            ]
          },
          "metadata": {
            "tags": []
          },
          "execution_count": 6
        }
      ]
    },
    {
      "cell_type": "code",
      "metadata": {
        "id": "LZ0i7ulbeT34"
      },
      "source": [
        ""
      ],
      "execution_count": null,
      "outputs": []
    },
    {
      "cell_type": "code",
      "metadata": {
        "id": "q0iMIx2WeT37",
        "colab": {
          "base_uri": "https://localhost:8080/",
          "height": 282
        },
        "outputId": "3d6bd768-d290-4949-bd63-ed37d3764a34"
      },
      "source": [
        "plt.figure()\n",
        "plt.plot(test,y)\n",
        "plt.xlim([0,50])"
      ],
      "execution_count": null,
      "outputs": [
        {
          "output_type": "execute_result",
          "data": {
            "text/plain": [
              "(0.0, 50.0)"
            ]
          },
          "metadata": {
            "tags": []
          },
          "execution_count": 7
        },
        {
          "output_type": "display_data",
          "data": {
            "image/png": "[encoded data removed]",
            "text/plain": [
              "<Figure size 432x288 with 1 Axes>"
            ]
          },
          "metadata": {
            "tags": [],
            "needs_background": "light"
          }
        }
      ]
    },
    {
      "cell_type": "code",
      "metadata": {
        "id": "1XAw1B_QeT39"
      },
      "source": [
        "idx= np.random.choice(test.shape[0],1000, replace=False)"
      ],
      "execution_count": null,
      "outputs": []
    },
    {
      "cell_type": "code",
      "metadata": {
        "id": "Ww3mAroIeT4B"
      },
      "source": [
        "y_=y[idx]"
      ],
      "execution_count": null,
      "outputs": []
    },
    {
      "cell_type": "code",
      "metadata": {
        "id": "zXpYxGzeeT4D"
      },
      "source": [
        "test_=test[idx]"
      ],
      "execution_count": null,
      "outputs": []
    },
    {
      "cell_type": "code",
      "metadata": {
        "id": "Tb2unFDFeT4H"
      },
      "source": [
        "t0=np.arange(0,50,(per/2))\n",
        "t0=t0.reshape(len(t0),1)\n",
        "\n",
        "t1=np.arange((per/4),40,per)\n",
        "t1=t1.reshape(len(t1),1)\n",
        "\n",
        "t2=np.arange((per*(3/4)),50,per)\n",
        "t2=t2.reshape(len(t2),1)\n",
        "v0=np.array(v0).reshape(1,1)"
      ],
      "execution_count": null,
      "outputs": []
    },
    {
      "cell_type": "code",
      "metadata": {
        "id": "1_SciY3ZeT4L",
        "colab": {
          "base_uri": "https://localhost:8080/",
          "height": 34
        },
        "outputId": "501faa44-25d0-42e6-ce3d-8418008b46af"
      },
      "source": [
        "v0"
      ],
      "execution_count": null,
      "outputs": [
        {
          "output_type": "execute_result",
          "data": {
            "text/plain": [
              "array([[-0.1]])"
            ]
          },
          "metadata": {
            "tags": []
          },
          "execution_count": 12
        }
      ]
    },
    {
      "cell_type": "code",
      "metadata": {
        "id": "Z7i1n9__eT4N"
      },
      "source": [
        "t = 0 + (50-0)*lhs(1, 2000)"
      ],
      "execution_count": null,
      "outputs": []
    },
    {
      "cell_type": "code",
      "metadata": {
        "id": "cFpPmtb8eT4Q"
      },
      "source": [
        "T=tf.convert_to_tensor(t,tf.float32)\n"
      ],
      "execution_count": null,
      "outputs": []
    },
    {
      "cell_type": "code",
      "metadata": {
        "id": "Dcue8Ea0eT4T"
      },
      "source": [
        "def build_model(layers):\n",
        "    i = Input(shape=(layers[0],))\n",
        "    o = Dense(layers[1],activation=\"tanh\")(i) \n",
        "    for x in layers[2:-1]:\n",
        "        o = Dense(x,activation=\"tanh\")(o)\n",
        "    o = Dense(layers[-1],activation=\"linear\")(o)\n",
        "    model=Model(inputs=i, outputs=o)\n",
        "    return model"
      ],
      "execution_count": null,
      "outputs": []
    },
    {
      "cell_type": "code",
      "metadata": {
        "id": "QN3tMwI2eT4V",
        "colab": {
          "base_uri": "https://localhost:8080/",
          "height": 357
        },
        "outputId": "8b763a9d-d630-4af4-c362-aca7b1901009"
      },
      "source": [
        "layers=[1,40,40,40,40,1]\n",
        "model=build_model(layers)\n",
        "model.summary()"
      ],
      "execution_count": null,
      "outputs": [
        {
          "output_type": "stream",
          "text": [
            "Model: \"model\"\n",
            "_________________________________________________________________\n",
            "Layer (type)                 Output Shape              Param #   \n",
            "=================================================================\n",
            "input_1 (InputLayer)         [(None, 1)]               0         \n",
            "_________________________________________________________________\n",
            "dense (Dense)                (None, 40)                80        \n",
            "_________________________________________________________________\n",
            "dense_1 (Dense)              (None, 40)                1640      \n",
            "_________________________________________________________________\n",
            "dense_2 (Dense)              (None, 40)                1640      \n",
            "_________________________________________________________________\n",
            "dense_3 (Dense)              (None, 40)                1640      \n",
            "_________________________________________________________________\n",
            "dense_4 (Dense)              (None, 1)                 41        \n",
            "=================================================================\n",
            "Total params: 5,041\n",
            "Trainable params: 5,041\n",
            "Non-trainable params: 0\n",
            "_________________________________________________________________\n"
          ],
          "name": "stdout"
        }
      ]
    },
    {
      "cell_type": "code",
      "metadata": {
        "id": "z_htGVH7eT4Z"
      },
      "source": [
        "  # The actual PINN\n",
        "def f_model(m,k,c):\n",
        "    # Using the new GradientTape paradigm of TF2.0,\n",
        "    # which keeps track of operations to get the gradient at runtime\n",
        "    with tf.GradientTape(persistent=True) as tape:\n",
        "        tape.watch(T)\n",
        "      # Getting the prediction\n",
        "#         u=model.predict(T)\n",
        "#         u = tf.convert_to_tensor(u,tf.float32)\n",
        "        u=model(T)\n",
        "        # Deriving INSIDE the tape (since we’ll need the x derivative of this later, u_xx)\n",
        "        u_t = tape.gradient(u, T)\n",
        "        \n",
        "    u_tt = tape.gradient(u_t, T)\n",
        "\n",
        "    # Letting the tape go\n",
        "    del tape\n",
        "\n",
        "    # Buidling the PINNs\n",
        "    return (m*u_tt)+(k*u), u_t,u\n",
        "\n",
        "\n",
        "def _wrap_training_variables():\n",
        "    var=model.trainable_variables\n",
        "    return var\n",
        "\n",
        "def _loss():\n",
        "    f_pred, v, u =f_model(10,1,0)      \n",
        "    v_init=v[0]\n",
        "    u0=u[0]\n",
        "    f0=model(t0)\n",
        "    f1=model(t1)\n",
        "    f2=model(t2)\n",
        "    \n",
        "    return tf.reduce_mean(tf.square(f_pred)) + tf.reduce_mean((tf.square(f1+f2))) + tf.reduce_mean(tf.square(f0)) + (tf.square(v0-v_init))# + tf.reduce_mean(tf.square(y_-model(test_)))  + tf.square((tf.reduce_mean(f1)+tf.reduce_mean(f1))) +tf.reduce_mean(tf.square(f0))\n",
        "#     return tf.reduce_mean(tf.square(f_pred)) +tf.square(u0) + (tf.square(v0-v_init))# + tf.reduce_mean(tf.square(y_-model(test_)))  + tf.square((tf.reduce_mean(f1)+tf.reduce_mean(f1))) +tf.reduce_mean(tf.square(f0))\n",
        "\n",
        "\n",
        "\n",
        "def _grad():\n",
        "    with tf.GradientTape() as tape:\n",
        "          loss_value = _loss()\n",
        "    return loss_value, tape.gradient(loss_value,model.trainable_variables)\n",
        "\n",
        "def fit():\n",
        "    for epoch in range(epochs):\n",
        "        # Optimization step\n",
        "        loss_value, grads = _grad()\n",
        "        optimizer.apply_gradients(zip(grads, _wrap_training_variables()))\n",
        "    print ('epoch : ',epoch,' loss : ',loss_value )\n",
        "\n",
        "def predict(x):\n",
        "    return model(x)\n"
      ],
      "execution_count": null,
      "outputs": []
    },
    {
      "cell_type": "code",
      "metadata": {
        "id": "gDpvmIWFeT4b"
      },
      "source": [
        "\n",
        "optimizer = tf.keras.optimizers.Adam(\n",
        "  learning_rate=0.001)"
      ],
      "execution_count": null,
      "outputs": []
    },
    {
      "cell_type": "code",
      "metadata": {
        "id": "EGcSHCn8eT4e",
        "colab": {
          "base_uri": "https://localhost:8080/",
          "height": 34
        },
        "outputId": "8ca74cf4-b4c8-4e78-cc92-41e28cb16247"
      },
      "source": [
        "epochs = 6000\n",
        "fit()\n"
      ],
      "execution_count": null,
      "outputs": [
        {
          "output_type": "stream",
          "text": [
            "epoch :  5999  loss :  tf.Tensor([[5.3294625e-06]], shape=(1, 1), dtype=float32)\n"
          ],
          "name": "stdout"
        }
      ]
    },
    {
      "cell_type": "code",
      "metadata": {
        "id": "2SLiJUbDeT4h",
        "colab": {
          "base_uri": "https://localhost:8080/",
          "height": 281
        },
        "outputId": "63b3927e-7f8b-49b8-d3dd-4f280e2abc79"
      },
      "source": [
        "x=model.predict(test)\n",
        "plt.figure()\n",
        "plt.plot(test,x, color='r',linestyle='dashed', label='PINN')\n",
        "plt.plot(test,y, label = 'Exact')\n",
        "plt.xlim([0,50])\n",
        "plt.xlabel('Time')\n",
        "plt.ylabel('Displacement')\n",
        "plt.legend()\n",
        "plt.show()"
      ],
      "execution_count": null,
      "outputs": [
        {
          "output_type": "display_data",
          "data": {
            "image/png": "[encoded data removed]",
            "text/plain": [
              "<Figure size 432x288 with 1 Axes>"
            ]
          },
          "metadata": {
            "tags": [],
            "needs_background": "light"
          }
        }
      ]
    },
    {
      "cell_type": "code",
      "metadata": {
        "id": "zW7Qk5W7eT4k",
        "colab": {
          "base_uri": "https://localhost:8080/",
          "height": 136
        },
        "outputId": "20ae4819-f8ed-4ae7-efef-9237057c7da0"
      },
      "source": [
        "model(t0)"
      ],
      "execution_count": null,
      "outputs": [
        {
          "output_type": "execute_result",
          "data": {
            "text/plain": [
              "<tf.Tensor: shape=(6, 1), dtype=float32, numpy=\n",
              "array([[ 9.6674636e-04],\n",
              "       [ 1.3870373e-04],\n",
              "       [ 2.5692955e-04],\n",
              "       [ 1.5727058e-04],\n",
              "       [ 1.6201288e-05],\n",
              "       [-4.7218055e-05]], dtype=float32)>"
            ]
          },
          "metadata": {
            "tags": []
          },
          "execution_count": 31
        }
      ]
    },
    {
      "cell_type": "code",
      "metadata": {
        "id": "Y0B6qE9leT4m",
        "colab": {
          "base_uri": "https://localhost:8080/",
          "height": 68
        },
        "outputId": "aeb491db-5a4d-4324-bcc7-b6d71080072f"
      },
      "source": [
        "model(t1)"
      ],
      "execution_count": null,
      "outputs": [
        {
          "output_type": "execute_result",
          "data": {
            "text/plain": [
              "<tf.Tensor: shape=(2, 1), dtype=float32, numpy=\n",
              "array([[-0.37335515],\n",
              "       [-0.36795396]], dtype=float32)>"
            ]
          },
          "metadata": {
            "tags": []
          },
          "execution_count": 32
        }
      ]
    },
    {
      "cell_type": "code",
      "metadata": {
        "id": "tMICnVAKeT4p",
        "colab": {
          "base_uri": "https://localhost:8080/"
        },
        "outputId": "880a4a6f-a2ef-4298-8e2e-4452e05c17da"
      },
      "source": [
        "model(t2)"
      ],
      "execution_count": null,
      "outputs": [
        {
          "output_type": "execute_result",
          "data": {
            "text/plain": [
              "<tf.Tensor: shape=(2, 1), dtype=float32, numpy=\n",
              "array([[0.37256935],\n",
              "       [0.36722893]], dtype=float32)>"
            ]
          },
          "metadata": {
            "tags": []
          },
          "execution_count": 33
        }
      ]
    },
    {
      "cell_type": "code",
      "metadata": {
        "id": "-Ui0GSwveT4s"
      },
      "source": [
        ""
      ],
      "execution_count": null,
      "outputs": []
    },
    {
      "cell_type": "code",
      "metadata": {
        "id": "nejmSRBVeT4u"
      },
      "source": [
        ""
      ],
      "execution_count": null,
      "outputs": []
    }
  ]
}