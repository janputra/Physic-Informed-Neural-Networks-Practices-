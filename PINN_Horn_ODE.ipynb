{
  "nbformat": 4,
  "nbformat_minor": 0,
  "metadata": {
    "kernelspec": {
      "display_name": "Python 3",
      "language": "python",
      "name": "python3"
    },
    "language_info": {
      "codemirror_mode": {
        "name": "ipython",
        "version": 3
      },
      "file_extension": ".py",
      "mimetype": "text/x-python",
      "name": "python",
      "nbconvert_exporter": "python",
      "pygments_lexer": "ipython3",
      "version": "3.7.6"
    },
    "colab": {
      "name": "PINN_Horn_ODE.ipynb",
      "provenance": [],
      "include_colab_link": true
    },
    "accelerator": "GPU"
  },
  "cells": [
    {
      "cell_type": "markdown",
      "metadata": {
        "id": "view-in-github",
        "colab_type": "text"
      },
      "source": [
        "<a href=\"https://colab.research.google.com/github/janputra/Physic-Informed-Neural-Networks-Practices-/blob/main/PINN_Horn_ODE.ipynb\" target=\"_parent\"><img src=\"https://colab.research.google.com/assets/colab-badge.svg\" alt=\"Open In Colab\"/></a>"
      ]
    },
    {
      "cell_type": "code",
      "metadata": {
        "id": "V6QAvIh1eYYa",
        "colab": {
          "base_uri": "https://localhost:8080/",
          "height": 68
        },
        "outputId": "45fafb40-52a8-4e76-d2a9-613c38df99ed"
      },
      "source": [
        "!pip install --upgrade pyDOE"
      ],
      "execution_count": null,
      "outputs": [
        {
          "output_type": "stream",
          "text": [
            "Requirement already up-to-date: pyDOE in /usr/local/lib/python3.6/dist-packages (0.3.8)\n",
            "Requirement already satisfied, skipping upgrade: scipy in /usr/local/lib/python3.6/dist-packages (from pyDOE) (1.4.1)\n",
            "Requirement already satisfied, skipping upgrade: numpy in /usr/local/lib/python3.6/dist-packages (from pyDOE) (1.18.4)\n"
          ],
          "name": "stdout"
        }
      ]
    },
    {
      "cell_type": "code",
      "metadata": {
        "id": "bdgw-KXaeT3o",
        "colab": {
          "base_uri": "https://localhost:8080/",
          "height": 51
        },
        "outputId": "0135a04a-7dd3-4d3e-808b-e2277e3dc8dc"
      },
      "source": [
        "# import pathlib \n",
        "import numpy as np\n",
        "import matplotlib.pyplot as plt\n",
        "import pandas as pd\n",
        "import seaborn as sns\n",
        "import math\n",
        "import os\n",
        "import tensorflow as tf\n",
        "import tensorflow_probability as tfp\n",
        "from tensorflow import keras \n",
        "from tensorflow.keras import backend as K\n",
        "from tensorflow.keras.models import Sequential\n",
        "from tensorflow.keras.layers import Dense\n",
        "from tensorflow.keras.layers import LSTM\n",
        "from tensorflow.keras.layers import Input\n",
        "from tensorflow.keras.layers import concatenate\n",
        "from tensorflow.keras.models import Model\n",
        "from sklearn.model_selection import KFold\n",
        "from tensorflow.keras.utils import plot_model\n",
        "from pyDOE import lhs"
      ],
      "execution_count": null,
      "outputs": [
        {
          "output_type": "stream",
          "text": [
            "/usr/local/lib/python3.6/dist-packages/statsmodels/tools/_testing.py:19: FutureWarning: pandas.util.testing is deprecated. Use the functions in the public API at pandas.testing instead.\n",
            "  import pandas.util.testing as tm\n"
          ],
          "name": "stderr"
        }
      ]
    },
    {
      "cell_type": "code",
      "metadata": {
        "id": "Z7i1n9__eT4N"
      },
      "source": [
        "multi=5/1000000\n",
        "l0=125.7\n",
        "x = (1)*lhs(1, 2000)\n",
        "x= np.append(x,[0,1])\n",
        "\n"
      ],
      "execution_count": null,
      "outputs": []
    },
    {
      "cell_type": "code",
      "metadata": {
        "id": "cFpPmtb8eT4Q"
      },
      "source": [
        "X=tf.convert_to_tensor(x,tf.float32)\n",
        "u0=-5.0/1000/l0\n",
        "u0=np.array(u0).reshape(1,1)\n",
        "u1=5.0/1000/l0\n",
        "u1=np.array(u1).reshape(1,1)\n",
        "\n",
        "x0=0\n",
        "x0=np.array(x0).reshape(1,1)\n",
        "x1=1\n",
        "x1=np.array(x1).reshape(1,1)"
      ],
      "execution_count": null,
      "outputs": []
    },
    {
      "cell_type": "code",
      "metadata": {
        "id": "wHERr6MhjMyH",
        "colab": {
          "base_uri": "https://localhost:8080/",
          "height": 34
        },
        "outputId": "138a94bc-d3ab-4216-ec82-23a5bcb73b26"
      },
      "source": [
        "u1"
      ],
      "execution_count": null,
      "outputs": [
        {
          "output_type": "execute_result",
          "data": {
            "text/plain": [
              "array([[3.97772474e-05]])"
            ]
          },
          "metadata": {
            "tags": []
          },
          "execution_count": 5
        }
      ]
    },
    {
      "cell_type": "code",
      "metadata": {
        "id": "Dcue8Ea0eT4T"
      },
      "source": [
        "def build_model(layers):\n",
        "    i = Input(shape=(layers[0],))\n",
        "    o = Dense(layers[1],activation=\"tanh\")(i) \n",
        "    for x in layers[2:-1]:\n",
        "        o = Dense(x,activation=\"tanh\")(o)\n",
        "    o = Dense(layers[-1],activation=\"linear\")(o)\n",
        "    model=Model(inputs=i, outputs=o)\n",
        "    return model\n"
      ],
      "execution_count": null,
      "outputs": []
    },
    {
      "cell_type": "code",
      "metadata": {
        "id": "QN3tMwI2eT4V",
        "colab": {
          "base_uri": "https://localhost:8080/",
          "height": 391
        },
        "outputId": "ccbd49ec-5b04-431d-e41a-ad45adc7b222"
      },
      "source": [
        "layers=[1,40,40,40,40,40,1]\n",
        "model=build_model(layers)\n",
        "model.summary()"
      ],
      "execution_count": null,
      "outputs": [
        {
          "output_type": "stream",
          "text": [
            "Model: \"model\"\n",
            "_________________________________________________________________\n",
            "Layer (type)                 Output Shape              Param #   \n",
            "=================================================================\n",
            "input_1 (InputLayer)         [(None, 1)]               0         \n",
            "_________________________________________________________________\n",
            "dense (Dense)                (None, 40)                80        \n",
            "_________________________________________________________________\n",
            "dense_1 (Dense)              (None, 40)                1640      \n",
            "_________________________________________________________________\n",
            "dense_2 (Dense)              (None, 40)                1640      \n",
            "_________________________________________________________________\n",
            "dense_3 (Dense)              (None, 40)                1640      \n",
            "_________________________________________________________________\n",
            "dense_4 (Dense)              (None, 40)                1640      \n",
            "_________________________________________________________________\n",
            "dense_5 (Dense)              (None, 1)                 41        \n",
            "=================================================================\n",
            "Total params: 6,681\n",
            "Trainable params: 6,681\n",
            "Non-trainable params: 0\n",
            "_________________________________________________________________\n"
          ],
          "name": "stdout"
        }
      ]
    },
    {
      "cell_type": "code",
      "metadata": {
        "id": "z_htGVH7eT4Z"
      },
      "source": [
        "  # The actual PINN\n",
        "k = tf.Variable([1.0], dtype=tf.float32)\n",
        "\n",
        "\n",
        "def _wrap_training_variables():\n",
        "    var=model.trainable_variables\n",
        "    #var.extend([k])\n",
        "    return var\n",
        "\n",
        "def _loss():\n",
        "    with tf.GradientTape(persistent=True) as tape:\n",
        "       tape.watch(X)\n",
        "\n",
        "       u=model(X)\n",
        "       # Deriving INSIDE the tape (since we’ll need the x derivative of this later, u_xx)\n",
        "       u_x = tape.gradient(u, X)\n",
        "     \n",
        "    u_xx = tape.gradient(u_x, X)\n",
        "\n",
        "    # Letting the tape go\n",
        "    del tape\n",
        "\n",
        "    # Buidling the PINNs\n",
        "    bc1= u_xx + ((0.024992781651470113*l0)**2)*u  \n",
        " \n",
        "    return tf.reduce_mean(tf.square(bc1)) + tf.square(model(x0)-u0) + tf.square(model(x1)-u1) + tf.square(u_x[-1]) + tf.square(u_x[-2]) \n",
        "\n",
        "\n",
        "def _grad():\n",
        "    with tf.GradientTape() as tape:\n",
        "          loss_value = _loss()\n",
        "    return loss_value, tape.gradient(loss_value,_wrap_training_variables())\n",
        "\n",
        "def fit():\n",
        "    for epoch in range(epochs):\n",
        "        # Optimization step\n",
        "        loss_value, grads = _grad()\n",
        "        optimizer.apply_gradients(zip(grads, _wrap_training_variables()))\n",
        "\n",
        "    print ('epoch : ',epoch,' loss : ',loss_value )\n",
        "    \n",
        "\n",
        "def predict(x):\n",
        "    return model(x)\n",
        "\n",
        "\n",
        "\n"
      ],
      "execution_count": null,
      "outputs": []
    },
    {
      "cell_type": "code",
      "metadata": {
        "id": "gDpvmIWFeT4b"
      },
      "source": [
        "test=np.arange(0,127.5,0.1)\n",
        "test=test/l0\n"
      ],
      "execution_count": null,
      "outputs": []
    },
    {
      "cell_type": "code",
      "metadata": {
        "id": "EGcSHCn8eT4e",
        "colab": {
          "base_uri": "https://localhost:8080/",
          "height": 319
        },
        "outputId": "bec70e70-da7b-4ff1-f84e-ed74ae89a089"
      },
      "source": [
        "optimizer = tf.keras.optimizers.Adam(\n",
        "  learning_rate=0.01)\n",
        "epochs =30\n",
        "fit()\n",
        "\n",
        "x=model.predict(test)\n",
        "plt.figure()\n",
        "plt.plot(test,x, color='r')\n",
        "\n",
        "plt.show()"
      ],
      "execution_count": null,
      "outputs": [
        {
          "output_type": "stream",
          "text": [
            "WARNING:tensorflow:Calling GradientTape.gradient on a persistent tape inside its context is significantly less efficient than calling it outside the context (it causes the gradient ops to be recorded on the tape, leading to increased CPU and memory usage). Only call GradientTape.gradient inside the context if you actually want to trace the gradient in order to compute higher order derivatives.\n",
            "epoch :  29  loss :  tf.Tensor([[0.47900793]], shape=(1, 1), dtype=float32)\n"
          ],
          "name": "stdout"
        },
        {
          "output_type": "display_data",
          "data": {
            "image/png": "[encoded data removed]",
            "text/plain": [
              "<Figure size 432x288 with 1 Axes>"
            ]
          },
          "metadata": {
            "tags": [],
            "needs_background": "light"
          }
        }
      ]
    },
    {
      "cell_type": "code",
      "metadata": {
        "id": "eXxIm-HDnUj5",
        "colab": {
          "base_uri": "https://localhost:8080/",
          "height": 282
        },
        "outputId": "8bd7efc9-6136-45aa-853b-0a21b5d69636"
      },
      "source": [
        "optimizer = tf.keras.optimizers.Adam(\n",
        "  learning_rate=0.001)\n",
        "epochs =30\n",
        "fit()\n",
        "\n",
        "x=model.predict(test)\n",
        "plt.figure()\n",
        "plt.plot(test,x, color='r')\n",
        "\n",
        "plt.show()"
      ],
      "execution_count": null,
      "outputs": [
        {
          "output_type": "stream",
          "text": [
            "epoch :  29  loss :  tf.Tensor([[0.00055284]], shape=(1, 1), dtype=float32)\n"
          ],
          "name": "stdout"
        },
        {
          "output_type": "display_data",
          "data": {
            "image/png": "[encoded data removed]",
            "text/plain": [
              "<Figure size 432x288 with 1 Axes>"
            ]
          },
          "metadata": {
            "tags": [],
            "needs_background": "light"
          }
        }
      ]
    },
    {
      "cell_type": "code",
      "metadata": {
        "id": "j1klinowoDXN",
        "colab": {
          "base_uri": "https://localhost:8080/",
          "height": 282
        },
        "outputId": "79c69928-3e2a-42d9-a7e0-60bdfbe75c15"
      },
      "source": [
        "optimizer = tf.keras.optimizers.Adam(\n",
        "  learning_rate=0.0005)\n",
        "epochs =30\n",
        "fit()\n",
        "\n",
        "x=model.predict(test)\n",
        "plt.figure()\n",
        "plt.plot(test,x, color='r')\n",
        "\n",
        "plt.show()"
      ],
      "execution_count": null,
      "outputs": [
        {
          "output_type": "stream",
          "text": [
            "epoch :  29  loss :  tf.Tensor([[7.316718e-05]], shape=(1, 1), dtype=float32)\n"
          ],
          "name": "stdout"
        },
        {
          "output_type": "display_data",
          "data": {
            "image/png": "[encoded data removed]",
            "text/plain": [
              "<Figure size 432x288 with 1 Axes>"
            ]
          },
          "metadata": {
            "tags": [],
            "needs_background": "light"
          }
        }
      ]
    },
    {
      "cell_type": "code",
      "metadata": {
        "id": "tMICnVAKeT4p",
        "colab": {
          "base_uri": "https://localhost:8080/",
          "height": 34
        },
        "outputId": "c5d8b790-5e35-4ca5-fb44-fa284fc6917f"
      },
      "source": [
        "x.shape\n"
      ],
      "execution_count": null,
      "outputs": [
        {
          "output_type": "execute_result",
          "data": {
            "text/plain": [
              "(1275, 1)"
            ]
          },
          "metadata": {
            "tags": []
          },
          "execution_count": 13
        }
      ]
    },
    {
      "cell_type": "code",
      "metadata": {
        "id": "gnKeGi2i1c4v",
        "colab": {
          "base_uri": "https://localhost:8080/",
          "height": 34
        },
        "outputId": "1c1611fc-7299-4256-e13d-ac7c19ce6d29"
      },
      "source": [
        "x[1256]"
      ],
      "execution_count": null,
      "outputs": [
        {
          "output_type": "execute_result",
          "data": {
            "text/plain": [
              "array([0.00452751], dtype=float32)"
            ]
          },
          "metadata": {
            "tags": []
          },
          "execution_count": 24
        }
      ]
    },
    {
      "cell_type": "code",
      "metadata": {
        "id": "-W_xiwqNlAXG",
        "colab": {
          "base_uri": "https://localhost:8080/",
          "height": 34
        },
        "outputId": "8d431f34-e98a-41d8-f452-defefacb7ac7"
      },
      "source": [
        "x[0]"
      ],
      "execution_count": null,
      "outputs": [
        {
          "output_type": "execute_result",
          "data": {
            "text/plain": [
              "array([-0.00143997], dtype=float32)"
            ]
          },
          "metadata": {
            "tags": []
          },
          "execution_count": 25
        }
      ]
    },
    {
      "cell_type": "code",
      "metadata": {
        "id": "-Ui0GSwveT4s",
        "colab": {
          "base_uri": "https://localhost:8080/",
          "height": 34
        },
        "outputId": "a8d989fa-12c3-40db-f493-c5bfc6b8d2f3"
      },
      "source": [
        "k"
      ],
      "execution_count": null,
      "outputs": [
        {
          "output_type": "execute_result",
          "data": {
            "text/plain": [
              "<tf.Variable 'Variable:0' shape=(1,) dtype=float32, numpy=array([1.], dtype=float32)>"
            ]
          },
          "metadata": {
            "tags": []
          },
          "execution_count": 16
        }
      ]
    },
    {
      "cell_type": "code",
      "metadata": {
        "id": "nejmSRBVeT4u"
      },
      "source": [
        ""
      ],
      "execution_count": null,
      "outputs": []
    }
  ]
}