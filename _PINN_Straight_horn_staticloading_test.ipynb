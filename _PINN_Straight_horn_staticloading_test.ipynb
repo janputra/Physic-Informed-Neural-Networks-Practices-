{
  "nbformat": 4,
  "nbformat_minor": 0,
  "metadata": {
    "accelerator": "GPU",
    "colab": {
      "name": "_PINN_Straight_horn_staticloading_test.ipynb",
      "provenance": [],
      "collapsed_sections": [],
      "include_colab_link": true
    },
    "kernelspec": {
      "display_name": "Python 3",
      "language": "python",
      "name": "python3"
    },
    "language_info": {
      "codemirror_mode": {
        "name": "ipython",
        "version": 3
      },
      "file_extension": ".py",
      "mimetype": "text/x-python",
      "name": "python",
      "nbconvert_exporter": "python",
      "pygments_lexer": "ipython3",
      "version": "3.7.6"
    }
  },
  "cells": [
    {
      "cell_type": "markdown",
      "metadata": {
        "id": "view-in-github",
        "colab_type": "text"
      },
      "source": [
        "<a href=\"https://colab.research.google.com/github/janputra/Physic-Informed-Neural-Networks-Practices-/blob/main/_PINN_Straight_horn_staticloading_test.ipynb\" target=\"_parent\"><img src=\"https://colab.research.google.com/assets/colab-badge.svg\" alt=\"Open In Colab\"/></a>"
      ]
    },
    {
      "cell_type": "code",
      "metadata": {
        "id": "5oC0C2tcZPu0",
        "colab": {
          "base_uri": "https://localhost:8080/",
          "height": 51
        },
        "outputId": "bed43531-f619-49c3-f84f-65620a51fc3a"
      },
      "source": [
        "# import pathlib \n",
        "import numpy as np\n",
        "import matplotlib.pyplot as plt\n",
        "import pandas as pd\n",
        "import seaborn as sns\n",
        "import math\n",
        "import os\n",
        "import tensorflow as tf\n",
        "from tensorflow import keras \n",
        "from tensorflow.keras import backend as K\n",
        "from tensorflow.keras.layers import Dense\n",
        "from tensorflow.keras.layers import Input\n",
        "from tensorflow.keras.layers import concatenate\n",
        "from tensorflow.keras.models import Model\n",
        "from sklearn.model_selection import KFold\n",
        "from tensorflow.keras.utils import plot_model\n"
      ],
      "execution_count": null,
      "outputs": [
        {
          "output_type": "stream",
          "text": [
            "/usr/local/lib/python3.6/dist-packages/statsmodels/tools/_testing.py:19: FutureWarning: pandas.util.testing is deprecated. Use the functions in the public API at pandas.testing instead.\n",
            "  import pandas.util.testing as tm\n"
          ],
          "name": "stderr"
        }
      ]
    },
    {
      "cell_type": "code",
      "metadata": {
        "id": "T1vnDgzYnnK5"
      },
      "source": [
        "# from google.colab import drive\n",
        "# drive.mount('/content/gdrive')\n",
        "\n"
      ],
      "execution_count": null,
      "outputs": []
    },
    {
      "cell_type": "code",
      "metadata": {
        "id": "VYXHomEFZPu5",
        "colab": {
          "base_uri": "https://localhost:8080/",
          "height": 34
        },
        "outputId": "3e852cd3-0259-4cf9-a5c5-2795490a63a0"
      },
      "source": [
        "tf.debugging.set_log_device_placement(True)\n",
        "print(\"Num GPUs Available: \", len(tf.config.experimental.list_physical_devices('GPU')))"
      ],
      "execution_count": null,
      "outputs": [
        {
          "output_type": "stream",
          "text": [
            "Num GPUs Available:  1\n"
          ],
          "name": "stdout"
        }
      ]
    },
    {
      "cell_type": "code",
      "metadata": {
        "id": "WhWTXhCSZPu-",
        "colab": {
          "base_uri": "https://localhost:8080/",
          "height": 136
        },
        "outputId": "f139b94c-ec02-4bde-feae-fcfd1aa0dce1"
      },
      "source": [
        "us=11.5e-6\n",
        "ut=11.2e-6\n",
        "ts=1e-4\n",
        "xs=1.212e-1\n",
        "## Training grid \n",
        "XMIN, XMAX = 0.0, 1\n",
        "TMIN, TMAX = 0.0, 2\n",
        "Xmesh = np.linspace(XMIN, XMAX, 100).reshape((-1, 1))\n",
        "Tmesh = np.linspace(TMIN, TMAX, 100).reshape((-1, 1))\n",
        "X, T = np.meshgrid(Xmesh, Tmesh)\n",
        "\n",
        "input_data = np.hstack((X.flatten()[:,None], T.flatten()[:,None]))\n",
        "\n",
        "input_data"
      ],
      "execution_count": null,
      "outputs": [
        {
          "output_type": "execute_result",
          "data": {
            "text/plain": [
              "array([[0.        , 0.        ],\n",
              "       [0.01010101, 0.        ],\n",
              "       [0.02020202, 0.        ],\n",
              "       ...,\n",
              "       [0.97979798, 2.        ],\n",
              "       [0.98989899, 2.        ],\n",
              "       [1.        , 2.        ]])"
            ]
          },
          "metadata": {
            "tags": []
          },
          "execution_count": 4
        }
      ]
    },
    {
      "cell_type": "code",
      "metadata": {
        "id": "_9A_AQw475Xq"
      },
      "source": [
        "col_p=np.linspace(TMIN, TMAX, 2000).reshape((-1,1))\n",
        "idx= np.random.choice(col_p.shape[0],1000, replace=False)\n",
        "\n",
        "t_test=col_p[idx]\n",
        "zero=np.zeros(t_test.shape[0])\n",
        "x_end=XMAX*np.ones(t_test.shape[0])\n",
        "t_test_init=np.hstack((zero.flatten()[:,None],t_test.flatten()[:,None]))\n",
        "t_test_end=np.hstack((x_end.flatten()[:,None],t_test.flatten()[:,None]))\n",
        "\n",
        "x_t0=np.linspace(XMIN, XMAX, 2000).reshape((-1,1))\n",
        "idx= np.random.choice(col_p.shape[0],1000, replace=False)\n",
        "x_test= x_t0[idx]\n",
        "x_test= np.append(x_test,[0,1])\n",
        "zero=np.zeros(x_test.shape[0])\n",
        "BC_t0_x=np.hstack((x_test.flatten()[:,None],zero.flatten()[:,None]))\n",
        "\n",
        "\n",
        "u0=1\n",
        "u0=np.array(u0).reshape(1,1)\n",
        "u1=-ut/us\n",
        "u1=np.array(u1).reshape(1,1)\n",
        "\n",
        "x0=0\n",
        "x0=np.array(x0).reshape(1,1)\n",
        "x1=1\n",
        "x1=np.array(x1).reshape(1,1)\n"
      ],
      "execution_count": null,
      "outputs": []
    },
    {
      "cell_type": "code",
      "metadata": {
        "id": "N5f9S0dMmUUe"
      },
      "source": [
        "# omega=2*math.pi*(1/50)\n",
        "\n",
        "# temp=-10*np.exp(omega*1j*Tmesh)\n",
        "# plt.figure()\n",
        "# plt.plot(Tmesh,temp.real)"
      ],
      "execution_count": null,
      "outputs": []
    },
    {
      "cell_type": "code",
      "metadata": {
        "id": "vjVxdn9fZPvc"
      },
      "source": [
        "def build_model(layers):\n",
        "    i = Input(shape=(layers[0],))\n",
        "    o = Dense(layers[1],activation=\"tanh\")(i) \n",
        "    for x in layers[2:-1]:\n",
        "        o = Dense(x,activation=\"tanh\")(o)\n",
        "    o = Dense(layers[-1],activation=\"linear\")(o)\n",
        "    model=Model(inputs=i, outputs=o)\n",
        "    return model"
      ],
      "execution_count": null,
      "outputs": []
    },
    {
      "cell_type": "code",
      "metadata": {
        "id": "mgi5i3oiZPvf",
        "colab": {
          "base_uri": "https://localhost:8080/",
          "height": 629
        },
        "outputId": "f69e9d66-8409-41dd-da61-852474be56fc"
      },
      "source": [
        "layers=[2,40,40,40,40,40,1]\n",
        "layers1=[1,40,40,40,40,40,1]\n",
        "model=build_model(layers)\n",
        "model.summary()\n",
        "\n",
        "# alpha=build_model(layers1)\n",
        "# alpha.summary()"
      ],
      "execution_count": null,
      "outputs": [
        {
          "output_type": "stream",
          "text": [
            "Executing op RandomUniform in device /job:localhost/replica:0/task:0/device:GPU:0\n",
            "Executing op Sub in device /job:localhost/replica:0/task:0/device:GPU:0\n",
            "Executing op Mul in device /job:localhost/replica:0/task:0/device:GPU:0\n",
            "Executing op Add in device /job:localhost/replica:0/task:0/device:GPU:0\n",
            "Executing op VarHandleOp in device /job:localhost/replica:0/task:0/device:GPU:0\n",
            "Executing op VarIsInitializedOp in device /job:localhost/replica:0/task:0/device:GPU:0\n",
            "Executing op LogicalNot in device /job:localhost/replica:0/task:0/device:GPU:0\n",
            "Executing op Assert in device /job:localhost/replica:0/task:0/device:GPU:0\n",
            "Executing op AssignVariableOp in device /job:localhost/replica:0/task:0/device:GPU:0\n",
            "Executing op Fill in device /job:localhost/replica:0/task:0/device:GPU:0\n",
            "Executing op VarHandleOp in device /job:localhost/replica:0/task:0/device:GPU:0\n",
            "Executing op VarHandleOp in device /job:localhost/replica:0/task:0/device:GPU:0\n",
            "Executing op VarHandleOp in device /job:localhost/replica:0/task:0/device:GPU:0\n",
            "Executing op VarHandleOp in device /job:localhost/replica:0/task:0/device:GPU:0\n",
            "Model: \"model\"\n",
            "_________________________________________________________________\n",
            "Layer (type)                 Output Shape              Param #   \n",
            "=================================================================\n",
            "input_1 (InputLayer)         [(None, 2)]               0         \n",
            "_________________________________________________________________\n",
            "dense (Dense)                (None, 40)                120       \n",
            "_________________________________________________________________\n",
            "dense_1 (Dense)              (None, 40)                1640      \n",
            "_________________________________________________________________\n",
            "dense_2 (Dense)              (None, 40)                1640      \n",
            "_________________________________________________________________\n",
            "dense_3 (Dense)              (None, 40)                1640      \n",
            "_________________________________________________________________\n",
            "dense_4 (Dense)              (None, 40)                1640      \n",
            "_________________________________________________________________\n",
            "dense_5 (Dense)              (None, 1)                 41        \n",
            "=================================================================\n",
            "Total params: 6,721\n",
            "Trainable params: 6,721\n",
            "Non-trainable params: 0\n",
            "_________________________________________________________________\n"
          ],
          "name": "stdout"
        }
      ]
    },
    {
      "cell_type": "code",
      "metadata": {
        "id": "xWWYeBc7ZPvl"
      },
      "source": [
        "  # The actual PINN\n",
        "c0=5.028e3\n",
        "c1=(xs**2)/((c0**2)*(ts**2))  \n",
        "\n",
        "freq=20000\n",
        "k0=(freq*math.pi*2)/c0\n",
        "k1=(k0**2)*(xs**2)\n",
        "\n",
        "c = tf.Variable([c1], dtype=tf.float32)\n",
        "k = tf.Variable([k1], dtype=tf.float32)\n",
        "d = tf.Variable([1], dtype=tf.float32)\n",
        "def cal_t(c,k):\n",
        "    return math.sqrt(c/k)*math.pi*2\n",
        "\n",
        "def pde():\n",
        "    # Using the new GradientTape paradigm of TF2.0,\n",
        "    # which keeps track of operations to get the gradient at runtime\n",
        "    \n",
        "    x_f = tf.convert_to_tensor(input_data[:, 0:1], dtype=tf.float32)\n",
        "    t_f = tf.convert_to_tensor(input_data[:, 1:2], dtype=tf.float32)\n",
        "    \n",
        "    with tf.GradientTape(persistent=True) as tape:\n",
        "        tape.watch(x_f)\n",
        "        tape.watch(t_f)\n",
        "        X_f = tf.stack([x_f[:,0], t_f[:,0]], axis=1)\n",
        "        \n",
        "      # Getting the prediction\n",
        "        u=model(X_f)\n",
        "        # Deriving INSIDE the tape (since we’ll need the x derivative of this later, u_xx)\n",
        "        u_x = tape.gradient(u, x_f)\n",
        "        u_t = tape.gradient(u,t_f)\n",
        "        \n",
        "    u_tt = tape.gradient(u_t, t_f) \n",
        "    u_xx= tape.gradient(u_x,x_f)\n",
        "    \n",
        "    # Letting the tape go\n",
        "    del tape\n",
        "    \n",
        "    # Buidling the PINNs\n",
        "    # return u_xx+(u_tt*(k/((omega0**2)*(math.pi**2)*4)))\n",
        "    return u_xx+(d*ut)+(u_tt*c)\n",
        "\n",
        "\n",
        "def bc_x0(a0):\n",
        "    t_f=tf.convert_to_tensor(t_test_init[:, 1:2], dtype=tf.float32)\n",
        "    t=cal_t(c,k)\n",
        "    u=a0*tf.math.sin((2*math.pi/t)*t_f) \n",
        "    return u\n",
        "\n",
        "def bc_xl(a1):\n",
        "    t=cal_t(c,k)\n",
        "    t_f=tf.convert_to_tensor(t_test_end[:, 1:2], dtype=tf.float32)\n",
        "    u=a1*tf.math.sin((2*math.pi/t)*t_f) \n",
        "    return u\n",
        "\n",
        "\n",
        "def _wrap_training_variables():\n",
        "    var=model.trainable_variables\n",
        "    var.extend([d])\n",
        "    return var\n",
        "\n",
        "def _loss():\n",
        "    f_pde=pde()\n",
        "    f_bc_x0=bc_x0(u0)\n",
        "    f_bc_xl=bc_xl(u1)\n",
        "    \n",
        "    return tf.reduce_mean(tf.square(f_pde)) + tf.reduce_mean(tf.square(f_bc_x0-model(t_test_init))) +tf.reduce_mean(tf.square(f_bc_xl-model(t_test_end))) # +tf.reduce_mean(tf.square(f_bc_t0))+\\\n",
        "          # tf.square(f_bc_t0[-2]-u0) + tf.square(f_bc_t0[-1]-u0) + tf.square(u1_x[-1]) + tf.square(u1_x[-2]) \n",
        "\n",
        "def _grad():\n",
        "    with tf.GradientTape() as tape:\n",
        "          loss_value = _loss()\n",
        "    return loss_value, tape.gradient(loss_value, _wrap_training_variables())\n",
        "\n",
        "# def fit():\n",
        "#     for epoch in range(epochs):\n",
        "#         # Optimization step\n",
        "#         loss_value, grads = _grad()\n",
        "#         optimizer.apply_gradients(zip(grads, _wrap_training_variables()))\n",
        "#         if epoch%10==0:\n",
        "#           print ('epoch : ',epoch,' loss : ',loss_value )\n",
        "#     # print ('epoch : ',epoch,' loss : ',loss_value )\n",
        "\n",
        "def fit():\n",
        "    loss_value=1\n",
        "    epoch=0\n",
        "    while loss_value>0.03:\n",
        "        # Optimization step\n",
        "        loss_value, grads = _grad()\n",
        "        optimizer.apply_gradients(zip(grads, _wrap_training_variables()))\n",
        "        epoch=epoch+1\n",
        "        if epoch%10==0:\n",
        "          print ('epoch : ',epoch,' loss : ',loss_value )\n",
        "\n",
        "def predict(x):\n",
        "    return model(x)\n"
      ],
      "execution_count": null,
      "outputs": []
    },
    {
      "cell_type": "code",
      "metadata": {
        "id": "UMPzRlTi8gIq"
      },
      "source": [
        "# f_bc_t0, u1_x=bc_t0()\n",
        "# f_bc_t0[-2]\n"
      ],
      "execution_count": null,
      "outputs": []
    },
    {
      "cell_type": "code",
      "metadata": {
        "id": "A43Le7vzZPvr"
      },
      "source": [
        "optimizer = tf.keras.optimizers.Adam(\n",
        "  learning_rate=0.001)"
      ],
      "execution_count": null,
      "outputs": []
    },
    {
      "cell_type": "code",
      "metadata": {
        "id": "3hGZS2ahZPvv",
        "colab": {
          "base_uri": "https://localhost:8080/",
          "height": 1000
        },
        "outputId": "ec86f322-c736-401b-ee6f-45cdf4a775e7"
      },
      "source": [
        "epochs = 40000\n",
        "fit() \n"
      ],
      "execution_count": null,
      "outputs": [
        {
          "output_type": "stream",
          "text": [
            "Executing op StridedSlice in device /job:localhost/replica:0/task:0/device:GPU:0\n",
            "Executing op Pack in device /job:localhost/replica:0/task:0/device:GPU:0\n",
            "Executing op ReadVariableOp in device /job:localhost/replica:0/task:0/device:GPU:0\n",
            "Executing op MatMul in device /job:localhost/replica:0/task:0/device:GPU:0\n",
            "Executing op BiasAdd in device /job:localhost/replica:0/task:0/device:GPU:0\n",
            "Executing op Tanh in device /job:localhost/replica:0/task:0/device:GPU:0\n",
            "WARNING:tensorflow:Calling GradientTape.gradient on a persistent tape inside its context is significantly less efficient than calling it outside the context (it causes the gradient ops to be recorded on the tape, leading to increased CPU and memory usage). Only call GradientTape.gradient inside the context if you actually want to trace the gradient in order to compute higher order derivatives.\n",
            "Executing op BiasAddGrad in device /job:localhost/replica:0/task:0/device:GPU:0\n",
            "Executing op MatMul in device /job:localhost/replica:0/task:0/device:GPU:0\n",
            "Executing op MatMul in device /job:localhost/replica:0/task:0/device:GPU:0\n",
            "Executing op TanhGrad in device /job:localhost/replica:0/task:0/device:GPU:0\n",
            "Executing op Unpack in device /job:localhost/replica:0/task:0/device:GPU:0\n",
            "Executing op Shape in device /job:localhost/replica:0/task:0/device:GPU:0\n",
            "Executing op StridedSliceGrad in device /job:localhost/replica:0/task:0/device:GPU:0\n",
            "WARNING:tensorflow:Calling GradientTape.gradient on a persistent tape inside its context is significantly less efficient than calling it outside the context (it causes the gradient ops to be recorded on the tape, leading to increased CPU and memory usage). Only call GradientTape.gradient inside the context if you actually want to trace the gradient in order to compute higher order derivatives.\n",
            "Executing op AddN in device /job:localhost/replica:0/task:0/device:GPU:0\n",
            "Executing op AddV2 in device /job:localhost/replica:0/task:0/device:GPU:0\n",
            "Executing op RealDiv in device /job:localhost/replica:0/task:0/device:GPU:0\n",
            "Executing op Sin in device /job:localhost/replica:0/task:0/device:GPU:0\n",
            "Executing op Square in device /job:localhost/replica:0/task:0/device:GPU:0\n",
            "Executing op Mean in device /job:localhost/replica:0/task:0/device:GPU:0\n",
            "Executing op Cast in device /job:localhost/replica:0/task:0/device:GPU:0\n",
            "Executing op Reshape in device /job:localhost/replica:0/task:0/device:GPU:0\n",
            "Executing op Tile in device /job:localhost/replica:0/task:0/device:GPU:0\n",
            "Executing op Neg in device /job:localhost/replica:0/task:0/device:GPU:0\n",
            "Executing op BroadcastGradientArgs in device /job:localhost/replica:0/task:0/device:GPU:0\n",
            "Executing op Sum in device /job:localhost/replica:0/task:0/device:GPU:0\n",
            "Executing op AddN in device /job:localhost/replica:0/task:0/device:GPU:0\n",
            "Executing op AddN in device /job:localhost/replica:0/task:0/device:GPU:0\n",
            "Executing op AddN in device /job:localhost/replica:0/task:0/device:GPU:0\n",
            "Executing op AddN in device /job:localhost/replica:0/task:0/device:GPU:0\n",
            "Executing op AddN in device /job:localhost/replica:0/task:0/device:GPU:0\n",
            "Executing op Fill in device /job:localhost/replica:0/task:0/device:GPU:0\n",
            "Executing op VarHandleOp in device /job:localhost/replica:0/task:0/device:GPU:0\n",
            "Executing op AssignVariableOp in device /job:localhost/replica:0/task:0/device:GPU:0\n",
            "Executing op VarHandleOp in device /job:localhost/replica:0/task:0/device:GPU:0\n",
            "Executing op Fill in device /job:localhost/replica:0/task:0/device:GPU:0\n",
            "Executing op VarHandleOp in device /job:localhost/replica:0/task:0/device:GPU:0\n",
            "Executing op LogicalNot in device /job:localhost/replica:0/task:0/device:GPU:0\n",
            "Executing op Assert in device /job:localhost/replica:0/task:0/device:GPU:0\n",
            "Executing op VarHandleOp in device /job:localhost/replica:0/task:0/device:GPU:0\n",
            "Executing op VarHandleOp in device /job:localhost/replica:0/task:0/device:GPU:0\n",
            "Executing op VarHandleOp in device /job:localhost/replica:0/task:0/device:GPU:0\n",
            "Executing op VarHandleOp in device /job:localhost/replica:0/task:0/device:GPU:0\n",
            "Executing op Identity in device /job:localhost/replica:0/task:0/device:GPU:0\n",
            "Executing op ReadVariableOp in device /job:localhost/replica:0/task:0/device:GPU:0\n",
            "Executing op AddV2 in device /job:localhost/replica:0/task:0/device:GPU:0\n",
            "Executing op Cast in device /job:localhost/replica:0/task:0/device:GPU:0\n",
            "Executing op Pow in device /job:localhost/replica:0/task:0/device:GPU:0\n",
            "Executing op Sub in device /job:localhost/replica:0/task:0/device:GPU:0\n",
            "Executing op Sqrt in device /job:localhost/replica:0/task:0/device:GPU:0\n",
            "Executing op RealDiv in device /job:localhost/replica:0/task:0/device:GPU:0\n",
            "Executing op Mul in device /job:localhost/replica:0/task:0/device:GPU:0\n",
            "Executing op ResourceApplyAdam in device /job:localhost/replica:0/task:0/device:GPU:0\n",
            "Executing op AssignAddVariableOp in device /job:localhost/replica:0/task:0/device:GPU:0\n",
            "Executing op Greater in device /job:localhost/replica:0/task:0/device:GPU:0\n",
            "epoch :  10  loss :  tf.Tensor(0.98194516, shape=(), dtype=float32)\n",
            "epoch :  20  loss :  tf.Tensor(0.9775721, shape=(), dtype=float32)\n",
            "epoch :  30  loss :  tf.Tensor(0.9753995, shape=(), dtype=float32)\n",
            "epoch :  40  loss :  tf.Tensor(0.97299576, shape=(), dtype=float32)\n",
            "epoch :  50  loss :  tf.Tensor(0.97045875, shape=(), dtype=float32)\n",
            "epoch :  60  loss :  tf.Tensor(0.9682585, shape=(), dtype=float32)\n",
            "epoch :  70  loss :  tf.Tensor(0.9663865, shape=(), dtype=float32)\n",
            "epoch :  80  loss :  tf.Tensor(0.96502286, shape=(), dtype=float32)\n",
            "epoch :  90  loss :  tf.Tensor(0.96374196, shape=(), dtype=float32)\n",
            "epoch :  100  loss :  tf.Tensor(0.96256447, shape=(), dtype=float32)\n",
            "epoch :  110  loss :  tf.Tensor(0.96148646, shape=(), dtype=float32)\n",
            "epoch :  120  loss :  tf.Tensor(0.96048427, shape=(), dtype=float32)\n",
            "epoch :  130  loss :  tf.Tensor(0.95954376, shape=(), dtype=float32)\n",
            "epoch :  140  loss :  tf.Tensor(0.9586375, shape=(), dtype=float32)\n",
            "epoch :  150  loss :  tf.Tensor(0.9577961, shape=(), dtype=float32)\n",
            "epoch :  160  loss :  tf.Tensor(0.95840204, shape=(), dtype=float32)\n",
            "epoch :  170  loss :  tf.Tensor(0.9563763, shape=(), dtype=float32)\n",
            "epoch :  180  loss :  tf.Tensor(0.95584685, shape=(), dtype=float32)\n",
            "epoch :  190  loss :  tf.Tensor(0.9549434, shape=(), dtype=float32)\n",
            "epoch :  200  loss :  tf.Tensor(0.95397675, shape=(), dtype=float32)\n",
            "epoch :  210  loss :  tf.Tensor(0.95281625, shape=(), dtype=float32)\n",
            "epoch :  220  loss :  tf.Tensor(0.9512888, shape=(), dtype=float32)\n",
            "epoch :  230  loss :  tf.Tensor(0.9540075, shape=(), dtype=float32)\n",
            "epoch :  240  loss :  tf.Tensor(0.949003, shape=(), dtype=float32)\n",
            "epoch :  250  loss :  tf.Tensor(0.9460887, shape=(), dtype=float32)\n",
            "epoch :  260  loss :  tf.Tensor(0.9445873, shape=(), dtype=float32)\n",
            "epoch :  270  loss :  tf.Tensor(0.9432775, shape=(), dtype=float32)\n",
            "epoch :  280  loss :  tf.Tensor(0.9420755, shape=(), dtype=float32)\n",
            "epoch :  290  loss :  tf.Tensor(0.94087017, shape=(), dtype=float32)\n",
            "epoch :  300  loss :  tf.Tensor(0.9396502, shape=(), dtype=float32)\n",
            "epoch :  310  loss :  tf.Tensor(0.9391184, shape=(), dtype=float32)\n",
            "epoch :  320  loss :  tf.Tensor(0.93730986, shape=(), dtype=float32)\n",
            "epoch :  330  loss :  tf.Tensor(0.9362409, shape=(), dtype=float32)\n",
            "epoch :  340  loss :  tf.Tensor(0.9351453, shape=(), dtype=float32)\n",
            "epoch :  350  loss :  tf.Tensor(0.93410337, shape=(), dtype=float32)\n",
            "epoch :  360  loss :  tf.Tensor(0.93262684, shape=(), dtype=float32)\n",
            "epoch :  370  loss :  tf.Tensor(0.9311919, shape=(), dtype=float32)\n",
            "epoch :  380  loss :  tf.Tensor(0.9300209, shape=(), dtype=float32)\n",
            "epoch :  390  loss :  tf.Tensor(0.9293651, shape=(), dtype=float32)\n",
            "epoch :  400  loss :  tf.Tensor(0.9256729, shape=(), dtype=float32)\n",
            "epoch :  410  loss :  tf.Tensor(0.9233806, shape=(), dtype=float32)\n",
            "epoch :  420  loss :  tf.Tensor(0.9209274, shape=(), dtype=float32)\n",
            "epoch :  430  loss :  tf.Tensor(0.91818774, shape=(), dtype=float32)\n",
            "epoch :  440  loss :  tf.Tensor(0.9159677, shape=(), dtype=float32)\n",
            "epoch :  450  loss :  tf.Tensor(0.91654366, shape=(), dtype=float32)\n",
            "epoch :  460  loss :  tf.Tensor(0.9129964, shape=(), dtype=float32)\n",
            "epoch :  470  loss :  tf.Tensor(0.9112487, shape=(), dtype=float32)\n",
            "epoch :  480  loss :  tf.Tensor(0.9091877, shape=(), dtype=float32)\n",
            "epoch :  490  loss :  tf.Tensor(0.9071927, shape=(), dtype=float32)\n",
            "epoch :  500  loss :  tf.Tensor(0.905172, shape=(), dtype=float32)\n",
            "epoch :  510  loss :  tf.Tensor(0.90308535, shape=(), dtype=float32)\n",
            "epoch :  520  loss :  tf.Tensor(0.90088135, shape=(), dtype=float32)\n",
            "epoch :  530  loss :  tf.Tensor(0.8985676, shape=(), dtype=float32)\n",
            "epoch :  540  loss :  tf.Tensor(0.89938605, shape=(), dtype=float32)\n",
            "epoch :  550  loss :  tf.Tensor(0.90433633, shape=(), dtype=float32)\n",
            "epoch :  560  loss :  tf.Tensor(0.89613426, shape=(), dtype=float32)\n",
            "epoch :  570  loss :  tf.Tensor(0.8917372, shape=(), dtype=float32)\n",
            "epoch :  580  loss :  tf.Tensor(0.88845086, shape=(), dtype=float32)\n",
            "epoch :  590  loss :  tf.Tensor(0.88498116, shape=(), dtype=float32)\n",
            "epoch :  600  loss :  tf.Tensor(0.8814763, shape=(), dtype=float32)\n",
            "epoch :  610  loss :  tf.Tensor(0.8777432, shape=(), dtype=float32)\n",
            "epoch :  620  loss :  tf.Tensor(0.8739128, shape=(), dtype=float32)\n",
            "epoch :  630  loss :  tf.Tensor(0.8698102, shape=(), dtype=float32)\n",
            "epoch :  640  loss :  tf.Tensor(0.8653902, shape=(), dtype=float32)\n",
            "epoch :  650  loss :  tf.Tensor(0.86075175, shape=(), dtype=float32)\n",
            "epoch :  660  loss :  tf.Tensor(0.9023466, shape=(), dtype=float32)\n",
            "epoch :  670  loss :  tf.Tensor(0.8739844, shape=(), dtype=float32)\n",
            "epoch :  680  loss :  tf.Tensor(0.8558417, shape=(), dtype=float32)\n",
            "epoch :  690  loss :  tf.Tensor(0.84767914, shape=(), dtype=float32)\n",
            "epoch :  700  loss :  tf.Tensor(0.84424824, shape=(), dtype=float32)\n",
            "epoch :  710  loss :  tf.Tensor(0.8407694, shape=(), dtype=float32)\n",
            "epoch :  720  loss :  tf.Tensor(0.8373948, shape=(), dtype=float32)\n",
            "epoch :  730  loss :  tf.Tensor(0.833807, shape=(), dtype=float32)\n",
            "epoch :  740  loss :  tf.Tensor(0.8303349, shape=(), dtype=float32)\n",
            "epoch :  750  loss :  tf.Tensor(0.8268918, shape=(), dtype=float32)\n",
            "epoch :  760  loss :  tf.Tensor(0.8234801, shape=(), dtype=float32)\n",
            "epoch :  770  loss :  tf.Tensor(0.820112, shape=(), dtype=float32)\n",
            "epoch :  780  loss :  tf.Tensor(0.8167919, shape=(), dtype=float32)\n",
            "epoch :  790  loss :  tf.Tensor(0.818711, shape=(), dtype=float32)\n",
            "epoch :  800  loss :  tf.Tensor(0.8115035, shape=(), dtype=float32)\n",
            "epoch :  810  loss :  tf.Tensor(0.8101526, shape=(), dtype=float32)\n",
            "epoch :  820  loss :  tf.Tensor(0.80644214, shape=(), dtype=float32)\n",
            "epoch :  830  loss :  tf.Tensor(0.8037225, shape=(), dtype=float32)\n",
            "epoch :  840  loss :  tf.Tensor(0.8010339, shape=(), dtype=float32)\n",
            "epoch :  850  loss :  tf.Tensor(0.79824495, shape=(), dtype=float32)\n",
            "epoch :  860  loss :  tf.Tensor(0.7956934, shape=(), dtype=float32)\n",
            "epoch :  870  loss :  tf.Tensor(0.79310304, shape=(), dtype=float32)\n",
            "epoch :  880  loss :  tf.Tensor(0.790491, shape=(), dtype=float32)\n",
            "epoch :  890  loss :  tf.Tensor(0.78785396, shape=(), dtype=float32)\n",
            "epoch :  900  loss :  tf.Tensor(0.78516483, shape=(), dtype=float32)\n",
            "epoch :  910  loss :  tf.Tensor(0.7824122, shape=(), dtype=float32)\n",
            "epoch :  920  loss :  tf.Tensor(0.7795997, shape=(), dtype=float32)\n",
            "epoch :  930  loss :  tf.Tensor(0.81434476, shape=(), dtype=float32)\n",
            "epoch :  940  loss :  tf.Tensor(0.7812854, shape=(), dtype=float32)\n",
            "epoch :  950  loss :  tf.Tensor(0.77236617, shape=(), dtype=float32)\n",
            "epoch :  960  loss :  tf.Tensor(0.7712952, shape=(), dtype=float32)\n",
            "epoch :  970  loss :  tf.Tensor(0.76741993, shape=(), dtype=float32)\n",
            "epoch :  980  loss :  tf.Tensor(0.76426446, shape=(), dtype=float32)\n",
            "epoch :  990  loss :  tf.Tensor(0.761288, shape=(), dtype=float32)\n",
            "epoch :  1000  loss :  tf.Tensor(0.7581469, shape=(), dtype=float32)\n",
            "epoch :  1010  loss :  tf.Tensor(0.75477123, shape=(), dtype=float32)\n",
            "epoch :  1020  loss :  tf.Tensor(0.75118685, shape=(), dtype=float32)\n",
            "epoch :  1030  loss :  tf.Tensor(0.7473731, shape=(), dtype=float32)\n",
            "epoch :  1040  loss :  tf.Tensor(0.7433311, shape=(), dtype=float32)\n",
            "epoch :  1050  loss :  tf.Tensor(0.7390666, shape=(), dtype=float32)\n",
            "epoch :  1060  loss :  tf.Tensor(0.73459494, shape=(), dtype=float32)\n",
            "epoch :  1070  loss :  tf.Tensor(0.7882817, shape=(), dtype=float32)\n",
            "epoch :  1080  loss :  tf.Tensor(0.72728693, shape=(), dtype=float32)\n",
            "epoch :  1090  loss :  tf.Tensor(0.7309566, shape=(), dtype=float32)\n",
            "epoch :  1100  loss :  tf.Tensor(0.7201023, shape=(), dtype=float32)\n",
            "epoch :  1110  loss :  tf.Tensor(0.7166326, shape=(), dtype=float32)\n",
            "epoch :  1120  loss :  tf.Tensor(0.7117593, shape=(), dtype=float32)\n",
            "epoch :  1130  loss :  tf.Tensor(0.7074088, shape=(), dtype=float32)\n",
            "epoch :  1140  loss :  tf.Tensor(0.70268, shape=(), dtype=float32)\n",
            "epoch :  1150  loss :  tf.Tensor(0.69776297, shape=(), dtype=float32)\n",
            "epoch :  1160  loss :  tf.Tensor(0.6988462, shape=(), dtype=float32)\n",
            "epoch :  1170  loss :  tf.Tensor(0.6891541, shape=(), dtype=float32)\n",
            "epoch :  1180  loss :  tf.Tensor(0.68303597, shape=(), dtype=float32)\n",
            "epoch :  1190  loss :  tf.Tensor(0.6776721, shape=(), dtype=float32)\n",
            "epoch :  1200  loss :  tf.Tensor(0.67840123, shape=(), dtype=float32)\n",
            "epoch :  1210  loss :  tf.Tensor(0.67946523, shape=(), dtype=float32)\n",
            "epoch :  1220  loss :  tf.Tensor(0.6664666, shape=(), dtype=float32)\n",
            "epoch :  1230  loss :  tf.Tensor(0.65915954, shape=(), dtype=float32)\n",
            "epoch :  1240  loss :  tf.Tensor(0.6537057, shape=(), dtype=float32)\n",
            "epoch :  1250  loss :  tf.Tensor(0.64856637, shape=(), dtype=float32)\n",
            "epoch :  1260  loss :  tf.Tensor(0.6443032, shape=(), dtype=float32)\n",
            "epoch :  1270  loss :  tf.Tensor(0.6406958, shape=(), dtype=float32)\n",
            "epoch :  1280  loss :  tf.Tensor(0.6385828, shape=(), dtype=float32)\n",
            "epoch :  1290  loss :  tf.Tensor(0.6399333, shape=(), dtype=float32)\n",
            "epoch :  1300  loss :  tf.Tensor(0.6299292, shape=(), dtype=float32)\n",
            "epoch :  1310  loss :  tf.Tensor(0.6267736, shape=(), dtype=float32)\n",
            "epoch :  1320  loss :  tf.Tensor(0.622713, shape=(), dtype=float32)\n",
            "epoch :  1330  loss :  tf.Tensor(0.6187111, shape=(), dtype=float32)\n",
            "epoch :  1340  loss :  tf.Tensor(0.6149179, shape=(), dtype=float32)\n",
            "epoch :  1350  loss :  tf.Tensor(0.61105204, shape=(), dtype=float32)\n",
            "epoch :  1360  loss :  tf.Tensor(0.6071739, shape=(), dtype=float32)\n",
            "epoch :  1370  loss :  tf.Tensor(0.60326874, shape=(), dtype=float32)\n",
            "epoch :  1380  loss :  tf.Tensor(0.59940696, shape=(), dtype=float32)\n",
            "epoch :  1390  loss :  tf.Tensor(0.68397737, shape=(), dtype=float32)\n",
            "epoch :  1400  loss :  tf.Tensor(0.59510195, shape=(), dtype=float32)\n",
            "epoch :  1410  loss :  tf.Tensor(0.5979248, shape=(), dtype=float32)\n",
            "epoch :  1420  loss :  tf.Tensor(0.5925007, shape=(), dtype=float32)\n",
            "epoch :  1430  loss :  tf.Tensor(0.5874527, shape=(), dtype=float32)\n",
            "epoch :  1440  loss :  tf.Tensor(0.58322716, shape=(), dtype=float32)\n",
            "epoch :  1450  loss :  tf.Tensor(0.5798764, shape=(), dtype=float32)\n",
            "epoch :  1460  loss :  tf.Tensor(0.57667065, shape=(), dtype=float32)\n",
            "epoch :  1470  loss :  tf.Tensor(0.57348895, shape=(), dtype=float32)\n",
            "epoch :  1480  loss :  tf.Tensor(0.5702678, shape=(), dtype=float32)\n",
            "epoch :  1490  loss :  tf.Tensor(0.56699795, shape=(), dtype=float32)\n",
            "epoch :  1500  loss :  tf.Tensor(0.5636957, shape=(), dtype=float32)\n",
            "epoch :  1510  loss :  tf.Tensor(0.56035745, shape=(), dtype=float32)\n",
            "epoch :  1520  loss :  tf.Tensor(0.5734549, shape=(), dtype=float32)\n",
            "epoch :  1530  loss :  tf.Tensor(0.5797759, shape=(), dtype=float32)\n",
            "epoch :  1540  loss :  tf.Tensor(0.5654031, shape=(), dtype=float32)\n",
            "epoch :  1550  loss :  tf.Tensor(0.5543915, shape=(), dtype=float32)\n",
            "epoch :  1560  loss :  tf.Tensor(0.5508727, shape=(), dtype=float32)\n",
            "epoch :  1570  loss :  tf.Tensor(0.5469988, shape=(), dtype=float32)\n",
            "epoch :  1580  loss :  tf.Tensor(0.5439628, shape=(), dtype=float32)\n",
            "epoch :  1590  loss :  tf.Tensor(0.5411693, shape=(), dtype=float32)\n",
            "epoch :  1600  loss :  tf.Tensor(0.5384548, shape=(), dtype=float32)\n",
            "epoch :  1610  loss :  tf.Tensor(0.5358223, shape=(), dtype=float32)\n",
            "epoch :  1620  loss :  tf.Tensor(0.53325886, shape=(), dtype=float32)\n",
            "epoch :  1630  loss :  tf.Tensor(0.5307485, shape=(), dtype=float32)\n",
            "epoch :  1640  loss :  tf.Tensor(0.528327, shape=(), dtype=float32)\n",
            "epoch :  1650  loss :  tf.Tensor(0.6319294, shape=(), dtype=float32)\n",
            "epoch :  1660  loss :  tf.Tensor(0.5394695, shape=(), dtype=float32)\n",
            "epoch :  1670  loss :  tf.Tensor(0.5416033, shape=(), dtype=float32)\n",
            "epoch :  1680  loss :  tf.Tensor(0.52638453, shape=(), dtype=float32)\n",
            "epoch :  1690  loss :  tf.Tensor(0.52262497, shape=(), dtype=float32)\n",
            "epoch :  1700  loss :  tf.Tensor(0.52028877, shape=(), dtype=float32)\n",
            "epoch :  1710  loss :  tf.Tensor(0.5177845, shape=(), dtype=float32)\n",
            "epoch :  1720  loss :  tf.Tensor(0.51577044, shape=(), dtype=float32)\n",
            "epoch :  1730  loss :  tf.Tensor(0.5139291, shape=(), dtype=float32)\n",
            "epoch :  1740  loss :  tf.Tensor(0.5121574, shape=(), dtype=float32)\n",
            "epoch :  1750  loss :  tf.Tensor(0.51043123, shape=(), dtype=float32)\n",
            "epoch :  1760  loss :  tf.Tensor(0.5087747, shape=(), dtype=float32)\n",
            "epoch :  1770  loss :  tf.Tensor(0.5071671, shape=(), dtype=float32)\n",
            "epoch :  1780  loss :  tf.Tensor(0.5056083, shape=(), dtype=float32)\n",
            "epoch :  1790  loss :  tf.Tensor(0.5040957, shape=(), dtype=float32)\n",
            "epoch :  1800  loss :  tf.Tensor(0.50262684, shape=(), dtype=float32)\n",
            "epoch :  1810  loss :  tf.Tensor(0.5011998, shape=(), dtype=float32)\n",
            "epoch :  1820  loss :  tf.Tensor(0.499815, shape=(), dtype=float32)\n",
            "epoch :  1830  loss :  tf.Tensor(0.5089711, shape=(), dtype=float32)\n",
            "epoch :  1840  loss :  tf.Tensor(0.50610805, shape=(), dtype=float32)\n",
            "epoch :  1850  loss :  tf.Tensor(0.5256556, shape=(), dtype=float32)\n",
            "epoch :  1860  loss :  tf.Tensor(0.5043744, shape=(), dtype=float32)\n",
            "epoch :  1870  loss :  tf.Tensor(0.49795943, shape=(), dtype=float32)\n",
            "epoch :  1880  loss :  tf.Tensor(0.49595165, shape=(), dtype=float32)\n",
            "epoch :  1890  loss :  tf.Tensor(0.4943964, shape=(), dtype=float32)\n",
            "epoch :  1900  loss :  tf.Tensor(0.49293542, shape=(), dtype=float32)\n",
            "epoch :  1910  loss :  tf.Tensor(0.4917097, shape=(), dtype=float32)\n",
            "epoch :  1920  loss :  tf.Tensor(0.49060938, shape=(), dtype=float32)\n",
            "epoch :  1930  loss :  tf.Tensor(0.489581, shape=(), dtype=float32)\n",
            "epoch :  1940  loss :  tf.Tensor(0.4885796, shape=(), dtype=float32)\n",
            "epoch :  1950  loss :  tf.Tensor(0.48760986, shape=(), dtype=float32)\n",
            "epoch :  1960  loss :  tf.Tensor(0.48666224, shape=(), dtype=float32)\n",
            "epoch :  1970  loss :  tf.Tensor(0.48573402, shape=(), dtype=float32)\n",
            "epoch :  1980  loss :  tf.Tensor(0.48482245, shape=(), dtype=float32)\n",
            "epoch :  1990  loss :  tf.Tensor(0.4839253, shape=(), dtype=float32)\n",
            "epoch :  2000  loss :  tf.Tensor(0.48304096, shape=(), dtype=float32)\n",
            "epoch :  2010  loss :  tf.Tensor(0.48216778, shape=(), dtype=float32)\n",
            "epoch :  2020  loss :  tf.Tensor(0.48130468, shape=(), dtype=float32)\n",
            "epoch :  2030  loss :  tf.Tensor(0.48045036, shape=(), dtype=float32)\n",
            "epoch :  2040  loss :  tf.Tensor(0.47960383, shape=(), dtype=float32)\n",
            "epoch :  2050  loss :  tf.Tensor(0.47876424, shape=(), dtype=float32)\n",
            "epoch :  2060  loss :  tf.Tensor(0.47793078, shape=(), dtype=float32)\n",
            "epoch :  2070  loss :  tf.Tensor(0.47710276, shape=(), dtype=float32)\n",
            "epoch :  2080  loss :  tf.Tensor(0.4762795, shape=(), dtype=float32)\n",
            "epoch :  2090  loss :  tf.Tensor(0.4754604, shape=(), dtype=float32)\n",
            "epoch :  2100  loss :  tf.Tensor(0.47464487, shape=(), dtype=float32)\n",
            "epoch :  2110  loss :  tf.Tensor(0.4738325, shape=(), dtype=float32)\n",
            "epoch :  2120  loss :  tf.Tensor(0.47302276, shape=(), dtype=float32)\n",
            "epoch :  2130  loss :  tf.Tensor(0.4722151, shape=(), dtype=float32)\n",
            "epoch :  2140  loss :  tf.Tensor(0.47140932, shape=(), dtype=float32)\n",
            "epoch :  2150  loss :  tf.Tensor(0.4706496, shape=(), dtype=float32)\n",
            "epoch :  2160  loss :  tf.Tensor(0.56962013, shape=(), dtype=float32)\n",
            "epoch :  2170  loss :  tf.Tensor(0.52517545, shape=(), dtype=float32)\n",
            "epoch :  2180  loss :  tf.Tensor(0.4769222, shape=(), dtype=float32)\n",
            "epoch :  2190  loss :  tf.Tensor(0.47079343, shape=(), dtype=float32)\n",
            "epoch :  2200  loss :  tf.Tensor(0.46907762, shape=(), dtype=float32)\n",
            "epoch :  2210  loss :  tf.Tensor(0.46730828, shape=(), dtype=float32)\n",
            "epoch :  2220  loss :  tf.Tensor(0.4665411, shape=(), dtype=float32)\n",
            "epoch :  2230  loss :  tf.Tensor(0.4656765, shape=(), dtype=float32)\n",
            "epoch :  2240  loss :  tf.Tensor(0.4648898, shape=(), dtype=float32)\n",
            "epoch :  2250  loss :  tf.Tensor(0.46415854, shape=(), dtype=float32)\n",
            "epoch :  2260  loss :  tf.Tensor(0.46344915, shape=(), dtype=float32)\n",
            "epoch :  2270  loss :  tf.Tensor(0.46274555, shape=(), dtype=float32)\n",
            "epoch :  2280  loss :  tf.Tensor(0.46204343, shape=(), dtype=float32)\n",
            "epoch :  2290  loss :  tf.Tensor(0.46134186, shape=(), dtype=float32)\n",
            "epoch :  2300  loss :  tf.Tensor(0.4606396, shape=(), dtype=float32)\n",
            "epoch :  2310  loss :  tf.Tensor(0.45993608, shape=(), dtype=float32)\n",
            "epoch :  2320  loss :  tf.Tensor(0.4592307, shape=(), dtype=float32)\n",
            "epoch :  2330  loss :  tf.Tensor(0.458523, shape=(), dtype=float32)\n",
            "epoch :  2340  loss :  tf.Tensor(0.45781255, shape=(), dtype=float32)\n",
            "epoch :  2350  loss :  tf.Tensor(0.45709896, shape=(), dtype=float32)\n",
            "epoch :  2360  loss :  tf.Tensor(0.4563821, shape=(), dtype=float32)\n",
            "epoch :  2370  loss :  tf.Tensor(0.45566207, shape=(), dtype=float32)\n",
            "epoch :  2380  loss :  tf.Tensor(0.45757762, shape=(), dtype=float32)\n",
            "epoch :  2390  loss :  tf.Tensor(0.46278292, shape=(), dtype=float32)\n",
            "epoch :  2400  loss :  tf.Tensor(0.45554382, shape=(), dtype=float32)\n",
            "epoch :  2410  loss :  tf.Tensor(0.45339885, shape=(), dtype=float32)\n",
            "epoch :  2420  loss :  tf.Tensor(0.45290065, shape=(), dtype=float32)\n",
            "epoch :  2430  loss :  tf.Tensor(0.45215768, shape=(), dtype=float32)\n",
            "epoch :  2440  loss :  tf.Tensor(0.45132995, shape=(), dtype=float32)\n",
            "epoch :  2450  loss :  tf.Tensor(0.45054793, shape=(), dtype=float32)\n",
            "epoch :  2460  loss :  tf.Tensor(0.44985983, shape=(), dtype=float32)\n",
            "epoch :  2470  loss :  tf.Tensor(0.44915527, shape=(), dtype=float32)\n",
            "epoch :  2480  loss :  tf.Tensor(0.44846293, shape=(), dtype=float32)\n",
            "epoch :  2490  loss :  tf.Tensor(0.4477728, shape=(), dtype=float32)\n",
            "epoch :  2500  loss :  tf.Tensor(0.448291, shape=(), dtype=float32)\n",
            "epoch :  2510  loss :  tf.Tensor(0.5192454, shape=(), dtype=float32)\n",
            "epoch :  2520  loss :  tf.Tensor(0.45790038, shape=(), dtype=float32)\n",
            "epoch :  2530  loss :  tf.Tensor(0.44827202, shape=(), dtype=float32)\n",
            "epoch :  2540  loss :  tf.Tensor(0.44704917, shape=(), dtype=float32)\n",
            "epoch :  2550  loss :  tf.Tensor(0.44439003, shape=(), dtype=float32)\n",
            "epoch :  2560  loss :  tf.Tensor(0.4436273, shape=(), dtype=float32)\n",
            "epoch :  2570  loss :  tf.Tensor(0.44285625, shape=(), dtype=float32)\n",
            "epoch :  2580  loss :  tf.Tensor(0.44216514, shape=(), dtype=float32)\n",
            "epoch :  2590  loss :  tf.Tensor(0.44146222, shape=(), dtype=float32)\n",
            "epoch :  2600  loss :  tf.Tensor(0.44075263, shape=(), dtype=float32)\n",
            "epoch :  2610  loss :  tf.Tensor(0.44004184, shape=(), dtype=float32)\n",
            "epoch :  2620  loss :  tf.Tensor(0.43932295, shape=(), dtype=float32)\n",
            "epoch :  2630  loss :  tf.Tensor(0.43860674, shape=(), dtype=float32)\n",
            "epoch :  2640  loss :  tf.Tensor(0.44035423, shape=(), dtype=float32)\n",
            "epoch :  2650  loss :  tf.Tensor(0.46333867, shape=(), dtype=float32)\n",
            "epoch :  2660  loss :  tf.Tensor(0.44570178, shape=(), dtype=float32)\n",
            "epoch :  2670  loss :  tf.Tensor(0.44035697, shape=(), dtype=float32)\n",
            "epoch :  2680  loss :  tf.Tensor(0.43738443, shape=(), dtype=float32)\n",
            "epoch :  2690  loss :  tf.Tensor(0.43584526, shape=(), dtype=float32)\n",
            "epoch :  2700  loss :  tf.Tensor(0.43469983, shape=(), dtype=float32)\n",
            "epoch :  2710  loss :  tf.Tensor(0.43380338, shape=(), dtype=float32)\n",
            "epoch :  2720  loss :  tf.Tensor(0.43307662, shape=(), dtype=float32)\n",
            "epoch :  2730  loss :  tf.Tensor(0.43235272, shape=(), dtype=float32)\n",
            "epoch :  2740  loss :  tf.Tensor(0.4316281, shape=(), dtype=float32)\n",
            "epoch :  2750  loss :  tf.Tensor(0.43089867, shape=(), dtype=float32)\n",
            "epoch :  2760  loss :  tf.Tensor(0.43016523, shape=(), dtype=float32)\n",
            "epoch :  2770  loss :  tf.Tensor(0.42953882, shape=(), dtype=float32)\n",
            "epoch :  2780  loss :  tf.Tensor(0.6129488, shape=(), dtype=float32)\n",
            "epoch :  2790  loss :  tf.Tensor(0.453794, shape=(), dtype=float32)\n",
            "epoch :  2800  loss :  tf.Tensor(0.43319649, shape=(), dtype=float32)\n",
            "epoch :  2810  loss :  tf.Tensor(0.43138897, shape=(), dtype=float32)\n",
            "epoch :  2820  loss :  tf.Tensor(0.42872632, shape=(), dtype=float32)\n",
            "epoch :  2830  loss :  tf.Tensor(0.4273337, shape=(), dtype=float32)\n",
            "epoch :  2840  loss :  tf.Tensor(0.42607915, shape=(), dtype=float32)\n",
            "epoch :  2850  loss :  tf.Tensor(0.4252612, shape=(), dtype=float32)\n",
            "epoch :  2860  loss :  tf.Tensor(0.42454898, shape=(), dtype=float32)\n",
            "epoch :  2870  loss :  tf.Tensor(0.42380726, shape=(), dtype=float32)\n",
            "epoch :  2880  loss :  tf.Tensor(0.42308408, shape=(), dtype=float32)\n",
            "epoch :  2890  loss :  tf.Tensor(0.42236233, shape=(), dtype=float32)\n",
            "epoch :  2900  loss :  tf.Tensor(0.42163348, shape=(), dtype=float32)\n",
            "epoch :  2910  loss :  tf.Tensor(0.42089698, shape=(), dtype=float32)\n",
            "epoch :  2920  loss :  tf.Tensor(0.42015216, shape=(), dtype=float32)\n",
            "epoch :  2930  loss :  tf.Tensor(0.4193982, shape=(), dtype=float32)\n",
            "epoch :  2940  loss :  tf.Tensor(0.41863465, shape=(), dtype=float32)\n",
            "epoch :  2950  loss :  tf.Tensor(0.41790098, shape=(), dtype=float32)\n",
            "epoch :  2960  loss :  tf.Tensor(0.5493083, shape=(), dtype=float32)\n",
            "epoch :  2970  loss :  tf.Tensor(0.45563284, shape=(), dtype=float32)\n",
            "epoch :  2980  loss :  tf.Tensor(0.42810062, shape=(), dtype=float32)\n",
            "epoch :  2990  loss :  tf.Tensor(0.4189347, shape=(), dtype=float32)\n",
            "epoch :  3000  loss :  tf.Tensor(0.41721404, shape=(), dtype=float32)\n",
            "epoch :  3010  loss :  tf.Tensor(0.41541103, shape=(), dtype=float32)\n",
            "epoch :  3020  loss :  tf.Tensor(0.4142089, shape=(), dtype=float32)\n",
            "epoch :  3030  loss :  tf.Tensor(0.4133572, shape=(), dtype=float32)\n",
            "epoch :  3040  loss :  tf.Tensor(0.41252708, shape=(), dtype=float32)\n",
            "epoch :  3050  loss :  tf.Tensor(0.41172922, shape=(), dtype=float32)\n",
            "epoch :  3060  loss :  tf.Tensor(0.41094297, shape=(), dtype=float32)\n",
            "epoch :  3070  loss :  tf.Tensor(0.4101503, shape=(), dtype=float32)\n",
            "epoch :  3080  loss :  tf.Tensor(0.40934798, shape=(), dtype=float32)\n",
            "epoch :  3090  loss :  tf.Tensor(0.40853447, shape=(), dtype=float32)\n",
            "epoch :  3100  loss :  tf.Tensor(0.40771037, shape=(), dtype=float32)\n",
            "epoch :  3110  loss :  tf.Tensor(0.40706038, shape=(), dtype=float32)\n",
            "epoch :  3120  loss :  tf.Tensor(0.57243943, shape=(), dtype=float32)\n",
            "epoch :  3130  loss :  tf.Tensor(0.4224779, shape=(), dtype=float32)\n",
            "epoch :  3140  loss :  tf.Tensor(0.4128084, shape=(), dtype=float32)\n",
            "epoch :  3150  loss :  tf.Tensor(0.40796095, shape=(), dtype=float32)\n",
            "epoch :  3160  loss :  tf.Tensor(0.40503836, shape=(), dtype=float32)\n",
            "epoch :  3170  loss :  tf.Tensor(0.40371644, shape=(), dtype=float32)\n",
            "epoch :  3180  loss :  tf.Tensor(0.40263593, shape=(), dtype=float32)\n",
            "epoch :  3190  loss :  tf.Tensor(0.40164664, shape=(), dtype=float32)\n",
            "epoch :  3200  loss :  tf.Tensor(0.40073, shape=(), dtype=float32)\n",
            "epoch :  3210  loss :  tf.Tensor(0.39984554, shape=(), dtype=float32)\n",
            "epoch :  3220  loss :  tf.Tensor(0.39894798, shape=(), dtype=float32)\n",
            "epoch :  3230  loss :  tf.Tensor(0.3980428, shape=(), dtype=float32)\n",
            "epoch :  3240  loss :  tf.Tensor(0.39712504, shape=(), dtype=float32)\n",
            "epoch :  3250  loss :  tf.Tensor(0.3961948, shape=(), dtype=float32)\n",
            "epoch :  3260  loss :  tf.Tensor(0.39579934, shape=(), dtype=float32)\n",
            "epoch :  3270  loss :  tf.Tensor(0.49536046, shape=(), dtype=float32)\n",
            "epoch :  3280  loss :  tf.Tensor(0.42218143, shape=(), dtype=float32)\n",
            "epoch :  3290  loss :  tf.Tensor(0.40147597, shape=(), dtype=float32)\n",
            "epoch :  3300  loss :  tf.Tensor(0.3958884, shape=(), dtype=float32)\n",
            "epoch :  3310  loss :  tf.Tensor(0.3930413, shape=(), dtype=float32)\n",
            "epoch :  3320  loss :  tf.Tensor(0.39113554, shape=(), dtype=float32)\n",
            "epoch :  3330  loss :  tf.Tensor(0.39020994, shape=(), dtype=float32)\n",
            "epoch :  3340  loss :  tf.Tensor(0.38912535, shape=(), dtype=float32)\n",
            "epoch :  3350  loss :  tf.Tensor(0.38810605, shape=(), dtype=float32)\n",
            "epoch :  3360  loss :  tf.Tensor(0.3870747, shape=(), dtype=float32)\n",
            "epoch :  3370  loss :  tf.Tensor(0.38604316, shape=(), dtype=float32)\n",
            "epoch :  3380  loss :  tf.Tensor(0.38499993, shape=(), dtype=float32)\n",
            "epoch :  3390  loss :  tf.Tensor(0.3839424, shape=(), dtype=float32)\n",
            "epoch :  3400  loss :  tf.Tensor(0.38327944, shape=(), dtype=float32)\n",
            "epoch :  3410  loss :  tf.Tensor(0.54528236, shape=(), dtype=float32)\n",
            "epoch :  3420  loss :  tf.Tensor(0.4010712, shape=(), dtype=float32)\n",
            "epoch :  3430  loss :  tf.Tensor(0.3918759, shape=(), dtype=float32)\n",
            "epoch :  3440  loss :  tf.Tensor(0.38236988, shape=(), dtype=float32)\n",
            "epoch :  3450  loss :  tf.Tensor(0.38017577, shape=(), dtype=float32)\n",
            "epoch :  3460  loss :  tf.Tensor(0.378119, shape=(), dtype=float32)\n",
            "epoch :  3470  loss :  tf.Tensor(0.37706503, shape=(), dtype=float32)\n",
            "epoch :  3480  loss :  tf.Tensor(0.3758073, shape=(), dtype=float32)\n",
            "epoch :  3490  loss :  tf.Tensor(0.37464684, shape=(), dtype=float32)\n",
            "epoch :  3500  loss :  tf.Tensor(0.37347132, shape=(), dtype=float32)\n",
            "epoch :  3510  loss :  tf.Tensor(0.37230003, shape=(), dtype=float32)\n",
            "epoch :  3520  loss :  tf.Tensor(0.37111032, shape=(), dtype=float32)\n",
            "epoch :  3530  loss :  tf.Tensor(0.3699034, shape=(), dtype=float32)\n",
            "epoch :  3540  loss :  tf.Tensor(0.36887252, shape=(), dtype=float32)\n",
            "epoch :  3550  loss :  tf.Tensor(0.5729252, shape=(), dtype=float32)\n",
            "epoch :  3560  loss :  tf.Tensor(0.38291946, shape=(), dtype=float32)\n",
            "epoch :  3570  loss :  tf.Tensor(0.37994447, shape=(), dtype=float32)\n",
            "epoch :  3580  loss :  tf.Tensor(0.36890417, shape=(), dtype=float32)\n",
            "epoch :  3590  loss :  tf.Tensor(0.36649644, shape=(), dtype=float32)\n",
            "epoch :  3600  loss :  tf.Tensor(0.3636368, shape=(), dtype=float32)\n",
            "epoch :  3610  loss :  tf.Tensor(0.36218667, shape=(), dtype=float32)\n",
            "epoch :  3620  loss :  tf.Tensor(0.36078224, shape=(), dtype=float32)\n",
            "epoch :  3630  loss :  tf.Tensor(0.35949454, shape=(), dtype=float32)\n",
            "epoch :  3640  loss :  tf.Tensor(0.3581928, shape=(), dtype=float32)\n",
            "epoch :  3650  loss :  tf.Tensor(0.35688362, shape=(), dtype=float32)\n",
            "epoch :  3660  loss :  tf.Tensor(0.3555592, shape=(), dtype=float32)\n",
            "epoch :  3670  loss :  tf.Tensor(0.35421664, shape=(), dtype=float32)\n",
            "epoch :  3680  loss :  tf.Tensor(0.3528784, shape=(), dtype=float32)\n",
            "epoch :  3690  loss :  tf.Tensor(0.36839634, shape=(), dtype=float32)\n",
            "epoch :  3700  loss :  tf.Tensor(0.41880324, shape=(), dtype=float32)\n",
            "epoch :  3710  loss :  tf.Tensor(0.3724176, shape=(), dtype=float32)\n",
            "epoch :  3720  loss :  tf.Tensor(0.35667077, shape=(), dtype=float32)\n",
            "epoch :  3730  loss :  tf.Tensor(0.34862542, shape=(), dtype=float32)\n",
            "epoch :  3740  loss :  tf.Tensor(0.34757492, shape=(), dtype=float32)\n",
            "epoch :  3750  loss :  tf.Tensor(0.34573644, shape=(), dtype=float32)\n",
            "epoch :  3760  loss :  tf.Tensor(0.3440691, shape=(), dtype=float32)\n",
            "epoch :  3770  loss :  tf.Tensor(0.3425746, shape=(), dtype=float32)\n",
            "epoch :  3780  loss :  tf.Tensor(0.34109852, shape=(), dtype=float32)\n",
            "epoch :  3790  loss :  tf.Tensor(0.33966947, shape=(), dtype=float32)\n",
            "epoch :  3800  loss :  tf.Tensor(0.33821008, shape=(), dtype=float32)\n",
            "epoch :  3810  loss :  tf.Tensor(0.33675036, shape=(), dtype=float32)\n",
            "epoch :  3820  loss :  tf.Tensor(0.3364121, shape=(), dtype=float32)\n",
            "epoch :  3830  loss :  tf.Tensor(0.48612756, shape=(), dtype=float32)\n",
            "epoch :  3840  loss :  tf.Tensor(0.3388846, shape=(), dtype=float32)\n",
            "epoch :  3850  loss :  tf.Tensor(0.3473888, shape=(), dtype=float32)\n",
            "epoch :  3860  loss :  tf.Tensor(0.33260426, shape=(), dtype=float32)\n",
            "epoch :  3870  loss :  tf.Tensor(0.3313812, shape=(), dtype=float32)\n",
            "epoch :  3880  loss :  tf.Tensor(0.32906675, shape=(), dtype=float32)\n",
            "epoch :  3890  loss :  tf.Tensor(0.32711133, shape=(), dtype=float32)\n",
            "epoch :  3900  loss :  tf.Tensor(0.32536596, shape=(), dtype=float32)\n",
            "epoch :  3910  loss :  tf.Tensor(0.32387397, shape=(), dtype=float32)\n",
            "epoch :  3920  loss :  tf.Tensor(0.3223089, shape=(), dtype=float32)\n",
            "epoch :  3930  loss :  tf.Tensor(0.32072333, shape=(), dtype=float32)\n",
            "epoch :  3940  loss :  tf.Tensor(0.31916133, shape=(), dtype=float32)\n",
            "epoch :  3950  loss :  tf.Tensor(0.33804482, shape=(), dtype=float32)\n",
            "epoch :  3960  loss :  tf.Tensor(0.41421938, shape=(), dtype=float32)\n",
            "epoch :  3970  loss :  tf.Tensor(0.34279418, shape=(), dtype=float32)\n",
            "epoch :  3980  loss :  tf.Tensor(0.32915503, shape=(), dtype=float32)\n",
            "epoch :  3990  loss :  tf.Tensor(0.31706727, shape=(), dtype=float32)\n",
            "epoch :  4000  loss :  tf.Tensor(0.31340554, shape=(), dtype=float32)\n",
            "epoch :  4010  loss :  tf.Tensor(0.31181931, shape=(), dtype=float32)\n",
            "epoch :  4020  loss :  tf.Tensor(0.30972496, shape=(), dtype=float32)\n",
            "epoch :  4030  loss :  tf.Tensor(0.30809975, shape=(), dtype=float32)\n",
            "epoch :  4040  loss :  tf.Tensor(0.30650768, shape=(), dtype=float32)\n",
            "epoch :  4050  loss :  tf.Tensor(0.30489606, shape=(), dtype=float32)\n",
            "epoch :  4060  loss :  tf.Tensor(0.3032507, shape=(), dtype=float32)\n",
            "epoch :  4070  loss :  tf.Tensor(0.3015875, shape=(), dtype=float32)\n",
            "epoch :  4080  loss :  tf.Tensor(0.29989898, shape=(), dtype=float32)\n",
            "epoch :  4090  loss :  tf.Tensor(0.29826868, shape=(), dtype=float32)\n",
            "epoch :  4100  loss :  tf.Tensor(0.36314026, shape=(), dtype=float32)\n",
            "epoch :  4110  loss :  tf.Tensor(0.3090901, shape=(), dtype=float32)\n",
            "epoch :  4120  loss :  tf.Tensor(0.30500337, shape=(), dtype=float32)\n",
            "epoch :  4130  loss :  tf.Tensor(0.29659465, shape=(), dtype=float32)\n",
            "epoch :  4140  loss :  tf.Tensor(0.2939887, shape=(), dtype=float32)\n",
            "epoch :  4150  loss :  tf.Tensor(0.29279134, shape=(), dtype=float32)\n",
            "epoch :  4160  loss :  tf.Tensor(0.2897364, shape=(), dtype=float32)\n",
            "epoch :  4170  loss :  tf.Tensor(0.28783715, shape=(), dtype=float32)\n",
            "epoch :  4180  loss :  tf.Tensor(0.2858537, shape=(), dtype=float32)\n",
            "epoch :  4190  loss :  tf.Tensor(0.28396606, shape=(), dtype=float32)\n",
            "epoch :  4200  loss :  tf.Tensor(0.28205174, shape=(), dtype=float32)\n",
            "epoch :  4210  loss :  tf.Tensor(0.28008765, shape=(), dtype=float32)\n",
            "epoch :  4220  loss :  tf.Tensor(0.2780828, shape=(), dtype=float32)\n",
            "epoch :  4230  loss :  tf.Tensor(0.27602643, shape=(), dtype=float32)\n",
            "epoch :  4240  loss :  tf.Tensor(0.27393967, shape=(), dtype=float32)\n",
            "epoch :  4250  loss :  tf.Tensor(0.29281634, shape=(), dtype=float32)\n",
            "epoch :  4260  loss :  tf.Tensor(0.42162552, shape=(), dtype=float32)\n",
            "epoch :  4270  loss :  tf.Tensor(0.2991765, shape=(), dtype=float32)\n",
            "epoch :  4280  loss :  tf.Tensor(0.27177432, shape=(), dtype=float32)\n",
            "epoch :  4290  loss :  tf.Tensor(0.27218947, shape=(), dtype=float32)\n",
            "epoch :  4300  loss :  tf.Tensor(0.26763576, shape=(), dtype=float32)\n",
            "epoch :  4310  loss :  tf.Tensor(0.2638129, shape=(), dtype=float32)\n",
            "epoch :  4320  loss :  tf.Tensor(0.2610254, shape=(), dtype=float32)\n",
            "epoch :  4330  loss :  tf.Tensor(0.2585111, shape=(), dtype=float32)\n",
            "epoch :  4340  loss :  tf.Tensor(0.2559377, shape=(), dtype=float32)\n",
            "epoch :  4350  loss :  tf.Tensor(0.253358, shape=(), dtype=float32)\n",
            "epoch :  4360  loss :  tf.Tensor(0.25072098, shape=(), dtype=float32)\n",
            "epoch :  4370  loss :  tf.Tensor(0.24799143, shape=(), dtype=float32)\n",
            "epoch :  4380  loss :  tf.Tensor(0.24517891, shape=(), dtype=float32)\n",
            "epoch :  4390  loss :  tf.Tensor(0.2422728, shape=(), dtype=float32)\n",
            "epoch :  4400  loss :  tf.Tensor(0.23927312, shape=(), dtype=float32)\n",
            "epoch :  4410  loss :  tf.Tensor(0.2361823, shape=(), dtype=float32)\n",
            "epoch :  4420  loss :  tf.Tensor(0.23776063, shape=(), dtype=float32)\n",
            "epoch :  4430  loss :  tf.Tensor(0.45795667, shape=(), dtype=float32)\n",
            "epoch :  4440  loss :  tf.Tensor(0.29145718, shape=(), dtype=float32)\n",
            "epoch :  4450  loss :  tf.Tensor(0.264529, shape=(), dtype=float32)\n",
            "epoch :  4460  loss :  tf.Tensor(0.24325264, shape=(), dtype=float32)\n",
            "epoch :  4470  loss :  tf.Tensor(0.22864002, shape=(), dtype=float32)\n",
            "epoch :  4480  loss :  tf.Tensor(0.22351997, shape=(), dtype=float32)\n",
            "epoch :  4490  loss :  tf.Tensor(0.22049649, shape=(), dtype=float32)\n",
            "epoch :  4500  loss :  tf.Tensor(0.21691732, shape=(), dtype=float32)\n",
            "epoch :  4510  loss :  tf.Tensor(0.21368013, shape=(), dtype=float32)\n",
            "epoch :  4520  loss :  tf.Tensor(0.21050692, shape=(), dtype=float32)\n",
            "epoch :  4530  loss :  tf.Tensor(0.2073193, shape=(), dtype=float32)\n",
            "epoch :  4540  loss :  tf.Tensor(0.20411325, shape=(), dtype=float32)\n",
            "epoch :  4550  loss :  tf.Tensor(0.20088238, shape=(), dtype=float32)\n",
            "epoch :  4560  loss :  tf.Tensor(0.19763237, shape=(), dtype=float32)\n",
            "epoch :  4570  loss :  tf.Tensor(0.19436456, shape=(), dtype=float32)\n",
            "epoch :  4580  loss :  tf.Tensor(0.19108206, shape=(), dtype=float32)\n",
            "epoch :  4590  loss :  tf.Tensor(0.1877884, shape=(), dtype=float32)\n",
            "epoch :  4600  loss :  tf.Tensor(0.18448743, shape=(), dtype=float32)\n",
            "epoch :  4610  loss :  tf.Tensor(0.18118387, shape=(), dtype=float32)\n",
            "epoch :  4620  loss :  tf.Tensor(0.17846245, shape=(), dtype=float32)\n",
            "epoch :  4630  loss :  tf.Tensor(0.57997113, shape=(), dtype=float32)\n",
            "epoch :  4640  loss :  tf.Tensor(0.26725352, shape=(), dtype=float32)\n",
            "epoch :  4650  loss :  tf.Tensor(0.19681011, shape=(), dtype=float32)\n",
            "epoch :  4660  loss :  tf.Tensor(0.17627946, shape=(), dtype=float32)\n",
            "epoch :  4670  loss :  tf.Tensor(0.17209378, shape=(), dtype=float32)\n",
            "epoch :  4680  loss :  tf.Tensor(0.1672176, shape=(), dtype=float32)\n",
            "epoch :  4690  loss :  tf.Tensor(0.16342673, shape=(), dtype=float32)\n",
            "epoch :  4700  loss :  tf.Tensor(0.1606086, shape=(), dtype=float32)\n",
            "epoch :  4710  loss :  tf.Tensor(0.15778452, shape=(), dtype=float32)\n",
            "epoch :  4720  loss :  tf.Tensor(0.15506269, shape=(), dtype=float32)\n",
            "epoch :  4730  loss :  tf.Tensor(0.15240033, shape=(), dtype=float32)\n",
            "epoch :  4740  loss :  tf.Tensor(0.14979607, shape=(), dtype=float32)\n",
            "epoch :  4750  loss :  tf.Tensor(0.14724278, shape=(), dtype=float32)\n",
            "epoch :  4760  loss :  tf.Tensor(0.14474072, shape=(), dtype=float32)\n",
            "epoch :  4770  loss :  tf.Tensor(0.1422876, shape=(), dtype=float32)\n",
            "epoch :  4780  loss :  tf.Tensor(0.13988562, shape=(), dtype=float32)\n",
            "epoch :  4790  loss :  tf.Tensor(0.13753702, shape=(), dtype=float32)\n",
            "epoch :  4800  loss :  tf.Tensor(0.13544075, shape=(), dtype=float32)\n",
            "epoch :  4810  loss :  tf.Tensor(0.33705387, shape=(), dtype=float32)\n",
            "epoch :  4820  loss :  tf.Tensor(0.25673324, shape=(), dtype=float32)\n",
            "epoch :  4830  loss :  tf.Tensor(0.17726687, shape=(), dtype=float32)\n",
            "epoch :  4840  loss :  tf.Tensor(0.14681315, shape=(), dtype=float32)\n",
            "epoch :  4850  loss :  tf.Tensor(0.13346101, shape=(), dtype=float32)\n",
            "epoch :  4860  loss :  tf.Tensor(0.12860721, shape=(), dtype=float32)\n",
            "epoch :  4870  loss :  tf.Tensor(0.12515463, shape=(), dtype=float32)\n",
            "epoch :  4880  loss :  tf.Tensor(0.12256302, shape=(), dtype=float32)\n",
            "epoch :  4890  loss :  tf.Tensor(0.12083459, shape=(), dtype=float32)\n",
            "epoch :  4900  loss :  tf.Tensor(0.11897342, shape=(), dtype=float32)\n",
            "epoch :  4910  loss :  tf.Tensor(0.11728816, shape=(), dtype=float32)\n",
            "epoch :  4920  loss :  tf.Tensor(0.115662605, shape=(), dtype=float32)\n",
            "epoch :  4930  loss :  tf.Tensor(0.11409494, shape=(), dtype=float32)\n",
            "epoch :  4940  loss :  tf.Tensor(0.11258561, shape=(), dtype=float32)\n",
            "epoch :  4950  loss :  tf.Tensor(0.111132614, shape=(), dtype=float32)\n",
            "epoch :  4960  loss :  tf.Tensor(0.10973294, shape=(), dtype=float32)\n",
            "epoch :  4970  loss :  tf.Tensor(0.10838489, shape=(), dtype=float32)\n",
            "epoch :  4980  loss :  tf.Tensor(0.10708682, shape=(), dtype=float32)\n",
            "epoch :  4990  loss :  tf.Tensor(0.10583708, shape=(), dtype=float32)\n",
            "epoch :  5000  loss :  tf.Tensor(0.10463403, shape=(), dtype=float32)\n",
            "epoch :  5010  loss :  tf.Tensor(0.10347603, shape=(), dtype=float32)\n",
            "epoch :  5020  loss :  tf.Tensor(0.10236158, shape=(), dtype=float32)\n",
            "epoch :  5030  loss :  tf.Tensor(0.101288915, shape=(), dtype=float32)\n",
            "epoch :  5040  loss :  tf.Tensor(0.10026253, shape=(), dtype=float32)\n",
            "epoch :  5050  loss :  tf.Tensor(0.10285831, shape=(), dtype=float32)\n",
            "epoch :  5060  loss :  tf.Tensor(0.1995951, shape=(), dtype=float32)\n",
            "epoch :  5070  loss :  tf.Tensor(0.15950508, shape=(), dtype=float32)\n",
            "epoch :  5080  loss :  tf.Tensor(0.11533333, shape=(), dtype=float32)\n",
            "epoch :  5090  loss :  tf.Tensor(0.101628974, shape=(), dtype=float32)\n",
            "epoch :  5100  loss :  tf.Tensor(0.096172914, shape=(), dtype=float32)\n",
            "epoch :  5110  loss :  tf.Tensor(0.095963515, shape=(), dtype=float32)\n",
            "epoch :  5120  loss :  tf.Tensor(0.09446922, shape=(), dtype=float32)\n",
            "epoch :  5130  loss :  tf.Tensor(0.09354074, shape=(), dtype=float32)\n",
            "epoch :  5140  loss :  tf.Tensor(0.09273803, shape=(), dtype=float32)\n",
            "epoch :  5150  loss :  tf.Tensor(0.09203291, shape=(), dtype=float32)\n",
            "epoch :  5160  loss :  tf.Tensor(0.09134771, shape=(), dtype=float32)\n",
            "epoch :  5170  loss :  tf.Tensor(0.0906997, shape=(), dtype=float32)\n",
            "epoch :  5180  loss :  tf.Tensor(0.09007797, shape=(), dtype=float32)\n",
            "epoch :  5190  loss :  tf.Tensor(0.089479126, shape=(), dtype=float32)\n",
            "epoch :  5200  loss :  tf.Tensor(0.08890115, shape=(), dtype=float32)\n",
            "epoch :  5210  loss :  tf.Tensor(0.08834231, shape=(), dtype=float32)\n",
            "epoch :  5220  loss :  tf.Tensor(0.08780116, shape=(), dtype=float32)\n",
            "epoch :  5230  loss :  tf.Tensor(0.08727665, shape=(), dtype=float32)\n",
            "epoch :  5240  loss :  tf.Tensor(0.08676764, shape=(), dtype=float32)\n",
            "epoch :  5250  loss :  tf.Tensor(0.08627328, shape=(), dtype=float32)\n",
            "epoch :  5260  loss :  tf.Tensor(0.085792646, shape=(), dtype=float32)\n",
            "epoch :  5270  loss :  tf.Tensor(0.08532494, shape=(), dtype=float32)\n",
            "epoch :  5280  loss :  tf.Tensor(0.08486955, shape=(), dtype=float32)\n",
            "epoch :  5290  loss :  tf.Tensor(0.084425755, shape=(), dtype=float32)\n",
            "epoch :  5300  loss :  tf.Tensor(0.08399298, shape=(), dtype=float32)\n",
            "epoch :  5310  loss :  tf.Tensor(0.08357064, shape=(), dtype=float32)\n",
            "epoch :  5320  loss :  tf.Tensor(0.0831583, shape=(), dtype=float32)\n",
            "epoch :  5330  loss :  tf.Tensor(0.08275542, shape=(), dtype=float32)\n",
            "epoch :  5340  loss :  tf.Tensor(0.08236185, shape=(), dtype=float32)\n",
            "epoch :  5350  loss :  tf.Tensor(0.082027644, shape=(), dtype=float32)\n",
            "epoch :  5360  loss :  tf.Tensor(0.091791175, shape=(), dtype=float32)\n",
            "epoch :  5370  loss :  tf.Tensor(0.08742215, shape=(), dtype=float32)\n",
            "epoch :  5380  loss :  tf.Tensor(0.09839392, shape=(), dtype=float32)\n",
            "epoch :  5390  loss :  tf.Tensor(0.08145736, shape=(), dtype=float32)\n",
            "epoch :  5400  loss :  tf.Tensor(0.082729146, shape=(), dtype=float32)\n",
            "epoch :  5410  loss :  tf.Tensor(0.08059544, shape=(), dtype=float32)\n",
            "epoch :  5420  loss :  tf.Tensor(0.08084306, shape=(), dtype=float32)\n",
            "epoch :  5430  loss :  tf.Tensor(0.08130283, shape=(), dtype=float32)\n",
            "epoch :  5440  loss :  tf.Tensor(0.08911657, shape=(), dtype=float32)\n",
            "epoch :  5450  loss :  tf.Tensor(0.08864131, shape=(), dtype=float32)\n",
            "epoch :  5460  loss :  tf.Tensor(0.083011545, shape=(), dtype=float32)\n",
            "epoch :  5470  loss :  tf.Tensor(0.078705825, shape=(), dtype=float32)\n",
            "epoch :  5480  loss :  tf.Tensor(0.0785917, shape=(), dtype=float32)\n",
            "epoch :  5490  loss :  tf.Tensor(0.077493295, shape=(), dtype=float32)\n",
            "epoch :  5500  loss :  tf.Tensor(0.0772438, shape=(), dtype=float32)\n",
            "epoch :  5510  loss :  tf.Tensor(0.078052774, shape=(), dtype=float32)\n",
            "epoch :  5520  loss :  tf.Tensor(0.12207674, shape=(), dtype=float32)\n",
            "epoch :  5530  loss :  tf.Tensor(0.10013379, shape=(), dtype=float32)\n",
            "epoch :  5540  loss :  tf.Tensor(0.077957585, shape=(), dtype=float32)\n",
            "epoch :  5550  loss :  tf.Tensor(0.079084896, shape=(), dtype=float32)\n",
            "epoch :  5560  loss :  tf.Tensor(0.07579315, shape=(), dtype=float32)\n",
            "epoch :  5570  loss :  tf.Tensor(0.075841315, shape=(), dtype=float32)\n",
            "epoch :  5580  loss :  tf.Tensor(0.07539493, shape=(), dtype=float32)\n",
            "epoch :  5590  loss :  tf.Tensor(0.07501739, shape=(), dtype=float32)\n",
            "epoch :  5600  loss :  tf.Tensor(0.07472644, shape=(), dtype=float32)\n",
            "epoch :  5610  loss :  tf.Tensor(0.07446012, shape=(), dtype=float32)\n",
            "epoch :  5620  loss :  tf.Tensor(0.07422842, shape=(), dtype=float32)\n",
            "epoch :  5630  loss :  tf.Tensor(0.07400656, shape=(), dtype=float32)\n",
            "epoch :  5640  loss :  tf.Tensor(0.0739659, shape=(), dtype=float32)\n",
            "epoch :  5650  loss :  tf.Tensor(0.08037949, shape=(), dtype=float32)\n",
            "epoch :  5660  loss :  tf.Tensor(0.08507633, shape=(), dtype=float32)\n",
            "epoch :  5670  loss :  tf.Tensor(0.0861192, shape=(), dtype=float32)\n",
            "epoch :  5680  loss :  tf.Tensor(0.07831902, shape=(), dtype=float32)\n",
            "epoch :  5690  loss :  tf.Tensor(0.07490672, shape=(), dtype=float32)\n",
            "epoch :  5700  loss :  tf.Tensor(0.072769836, shape=(), dtype=float32)\n",
            "epoch :  5710  loss :  tf.Tensor(0.072936855, shape=(), dtype=float32)\n",
            "epoch :  5720  loss :  tf.Tensor(0.07244745, shape=(), dtype=float32)\n",
            "epoch :  5730  loss :  tf.Tensor(0.0734007, shape=(), dtype=float32)\n",
            "epoch :  5740  loss :  tf.Tensor(0.09506953, shape=(), dtype=float32)\n",
            "epoch :  5750  loss :  tf.Tensor(0.074473694, shape=(), dtype=float32)\n",
            "epoch :  5760  loss :  tf.Tensor(0.07433501, shape=(), dtype=float32)\n",
            "epoch :  5770  loss :  tf.Tensor(0.07279479, shape=(), dtype=float32)\n",
            "epoch :  5780  loss :  tf.Tensor(0.07149175, shape=(), dtype=float32)\n",
            "epoch :  5790  loss :  tf.Tensor(0.070875734, shape=(), dtype=float32)\n",
            "epoch :  5800  loss :  tf.Tensor(0.070836306, shape=(), dtype=float32)\n",
            "epoch :  5810  loss :  tf.Tensor(0.07134469, shape=(), dtype=float32)\n",
            "epoch :  5820  loss :  tf.Tensor(0.07242651, shape=(), dtype=float32)\n",
            "epoch :  5830  loss :  tf.Tensor(0.070743755, shape=(), dtype=float32)\n",
            "epoch :  5840  loss :  tf.Tensor(0.07407374, shape=(), dtype=float32)\n",
            "epoch :  5850  loss :  tf.Tensor(0.1295089, shape=(), dtype=float32)\n",
            "epoch :  5860  loss :  tf.Tensor(0.08257949, shape=(), dtype=float32)\n",
            "epoch :  5870  loss :  tf.Tensor(0.07336551, shape=(), dtype=float32)\n",
            "epoch :  5880  loss :  tf.Tensor(0.07103763, shape=(), dtype=float32)\n",
            "epoch :  5890  loss :  tf.Tensor(0.06975228, shape=(), dtype=float32)\n",
            "epoch :  5900  loss :  tf.Tensor(0.06917078, shape=(), dtype=float32)\n",
            "epoch :  5910  loss :  tf.Tensor(0.06879617, shape=(), dtype=float32)\n",
            "epoch :  5920  loss :  tf.Tensor(0.068578795, shape=(), dtype=float32)\n",
            "epoch :  5930  loss :  tf.Tensor(0.0684111, shape=(), dtype=float32)\n",
            "epoch :  5940  loss :  tf.Tensor(0.06823598, shape=(), dtype=float32)\n",
            "epoch :  5950  loss :  tf.Tensor(0.068072185, shape=(), dtype=float32)\n",
            "epoch :  5960  loss :  tf.Tensor(0.067909196, shape=(), dtype=float32)\n",
            "epoch :  5970  loss :  tf.Tensor(0.067750454, shape=(), dtype=float32)\n",
            "epoch :  5980  loss :  tf.Tensor(0.06765288, shape=(), dtype=float32)\n",
            "epoch :  5990  loss :  tf.Tensor(0.07208082, shape=(), dtype=float32)\n",
            "epoch :  6000  loss :  tf.Tensor(0.12920378, shape=(), dtype=float32)\n",
            "epoch :  6010  loss :  tf.Tensor(0.082619764, shape=(), dtype=float32)\n",
            "epoch :  6020  loss :  tf.Tensor(0.0700652, shape=(), dtype=float32)\n",
            "epoch :  6030  loss :  tf.Tensor(0.068029344, shape=(), dtype=float32)\n",
            "epoch :  6040  loss :  tf.Tensor(0.0678107, shape=(), dtype=float32)\n",
            "epoch :  6050  loss :  tf.Tensor(0.066664234, shape=(), dtype=float32)\n",
            "epoch :  6060  loss :  tf.Tensor(0.06653733, shape=(), dtype=float32)\n",
            "epoch :  6070  loss :  tf.Tensor(0.066313416, shape=(), dtype=float32)\n",
            "epoch :  6080  loss :  tf.Tensor(0.06617477, shape=(), dtype=float32)\n",
            "epoch :  6090  loss :  tf.Tensor(0.066650964, shape=(), dtype=float32)\n",
            "epoch :  6100  loss :  tf.Tensor(0.06811267, shape=(), dtype=float32)\n",
            "epoch :  6110  loss :  tf.Tensor(0.0661119, shape=(), dtype=float32)\n",
            "epoch :  6120  loss :  tf.Tensor(0.06570218, shape=(), dtype=float32)\n",
            "epoch :  6130  loss :  tf.Tensor(0.06563505, shape=(), dtype=float32)\n",
            "epoch :  6140  loss :  tf.Tensor(0.06793608, shape=(), dtype=float32)\n",
            "epoch :  6150  loss :  tf.Tensor(0.09171382, shape=(), dtype=float32)\n",
            "epoch :  6160  loss :  tf.Tensor(0.06929494, shape=(), dtype=float32)\n",
            "epoch :  6170  loss :  tf.Tensor(0.06741091, shape=(), dtype=float32)\n",
            "epoch :  6180  loss :  tf.Tensor(0.06524781, shape=(), dtype=float32)\n",
            "epoch :  6190  loss :  tf.Tensor(0.06492098, shape=(), dtype=float32)\n",
            "epoch :  6200  loss :  tf.Tensor(0.06479703, shape=(), dtype=float32)\n",
            "epoch :  6210  loss :  tf.Tensor(0.06694351, shape=(), dtype=float32)\n",
            "epoch :  6220  loss :  tf.Tensor(0.09665724, shape=(), dtype=float32)\n",
            "epoch :  6230  loss :  tf.Tensor(0.07418987, shape=(), dtype=float32)\n",
            "epoch :  6240  loss :  tf.Tensor(0.06798522, shape=(), dtype=float32)\n",
            "epoch :  6250  loss :  tf.Tensor(0.06559315, shape=(), dtype=float32)\n",
            "epoch :  6260  loss :  tf.Tensor(0.06433728, shape=(), dtype=float32)\n",
            "epoch :  6270  loss :  tf.Tensor(0.063673854, shape=(), dtype=float32)\n",
            "epoch :  6280  loss :  tf.Tensor(0.06337279, shape=(), dtype=float32)\n",
            "epoch :  6290  loss :  tf.Tensor(0.063605994, shape=(), dtype=float32)\n",
            "epoch :  6300  loss :  tf.Tensor(0.07291117, shape=(), dtype=float32)\n",
            "epoch :  6310  loss :  tf.Tensor(0.07455291, shape=(), dtype=float32)\n",
            "epoch :  6320  loss :  tf.Tensor(0.06823245, shape=(), dtype=float32)\n",
            "epoch :  6330  loss :  tf.Tensor(0.06326291, shape=(), dtype=float32)\n",
            "epoch :  6340  loss :  tf.Tensor(0.06351356, shape=(), dtype=float32)\n",
            "epoch :  6350  loss :  tf.Tensor(0.06279146, shape=(), dtype=float32)\n",
            "epoch :  6360  loss :  tf.Tensor(0.062429257, shape=(), dtype=float32)\n",
            "epoch :  6370  loss :  tf.Tensor(0.06301487, shape=(), dtype=float32)\n",
            "epoch :  6380  loss :  tf.Tensor(0.09072532, shape=(), dtype=float32)\n",
            "epoch :  6390  loss :  tf.Tensor(0.07488009, shape=(), dtype=float32)\n",
            "epoch :  6400  loss :  tf.Tensor(0.066012055, shape=(), dtype=float32)\n",
            "epoch :  6410  loss :  tf.Tensor(0.06258577, shape=(), dtype=float32)\n",
            "epoch :  6420  loss :  tf.Tensor(0.06243459, shape=(), dtype=float32)\n",
            "epoch :  6430  loss :  tf.Tensor(0.06152644, shape=(), dtype=float32)\n",
            "epoch :  6440  loss :  tf.Tensor(0.061324432, shape=(), dtype=float32)\n",
            "epoch :  6450  loss :  tf.Tensor(0.061216906, shape=(), dtype=float32)\n",
            "epoch :  6460  loss :  tf.Tensor(0.0610918, shape=(), dtype=float32)\n",
            "epoch :  6470  loss :  tf.Tensor(0.061303332, shape=(), dtype=float32)\n",
            "epoch :  6480  loss :  tf.Tensor(0.07302691, shape=(), dtype=float32)\n",
            "epoch :  6490  loss :  tf.Tensor(0.068180874, shape=(), dtype=float32)\n",
            "epoch :  6500  loss :  tf.Tensor(0.06388143, shape=(), dtype=float32)\n",
            "epoch :  6510  loss :  tf.Tensor(0.061708853, shape=(), dtype=float32)\n",
            "epoch :  6520  loss :  tf.Tensor(0.061453592, shape=(), dtype=float32)\n",
            "epoch :  6530  loss :  tf.Tensor(0.060558885, shape=(), dtype=float32)\n",
            "epoch :  6540  loss :  tf.Tensor(0.06013666, shape=(), dtype=float32)\n",
            "epoch :  6550  loss :  tf.Tensor(0.059946224, shape=(), dtype=float32)\n",
            "epoch :  6560  loss :  tf.Tensor(0.059865672, shape=(), dtype=float32)\n",
            "epoch :  6570  loss :  tf.Tensor(0.06471026, shape=(), dtype=float32)\n",
            "epoch :  6580  loss :  tf.Tensor(0.10334085, shape=(), dtype=float32)\n",
            "epoch :  6590  loss :  tf.Tensor(0.071065, shape=(), dtype=float32)\n",
            "epoch :  6600  loss :  tf.Tensor(0.06440555, shape=(), dtype=float32)\n",
            "epoch :  6610  loss :  tf.Tensor(0.06053637, shape=(), dtype=float32)\n",
            "epoch :  6620  loss :  tf.Tensor(0.059310652, shape=(), dtype=float32)\n",
            "epoch :  6630  loss :  tf.Tensor(0.058967218, shape=(), dtype=float32)\n",
            "epoch :  6640  loss :  tf.Tensor(0.05882995, shape=(), dtype=float32)\n",
            "epoch :  6650  loss :  tf.Tensor(0.058692787, shape=(), dtype=float32)\n",
            "epoch :  6660  loss :  tf.Tensor(0.05851962, shape=(), dtype=float32)\n",
            "epoch :  6670  loss :  tf.Tensor(0.058394894, shape=(), dtype=float32)\n",
            "epoch :  6680  loss :  tf.Tensor(0.058573194, shape=(), dtype=float32)\n",
            "epoch :  6690  loss :  tf.Tensor(0.08196001, shape=(), dtype=float32)\n",
            "epoch :  6700  loss :  tf.Tensor(0.07004243, shape=(), dtype=float32)\n",
            "epoch :  6710  loss :  tf.Tensor(0.06459164, shape=(), dtype=float32)\n",
            "epoch :  6720  loss :  tf.Tensor(0.059827104, shape=(), dtype=float32)\n",
            "epoch :  6730  loss :  tf.Tensor(0.0583622, shape=(), dtype=float32)\n",
            "epoch :  6740  loss :  tf.Tensor(0.057696484, shape=(), dtype=float32)\n",
            "epoch :  6750  loss :  tf.Tensor(0.0575993, shape=(), dtype=float32)\n",
            "epoch :  6760  loss :  tf.Tensor(0.057632662, shape=(), dtype=float32)\n",
            "epoch :  6770  loss :  tf.Tensor(0.062625796, shape=(), dtype=float32)\n",
            "epoch :  6780  loss :  tf.Tensor(0.08117801, shape=(), dtype=float32)\n",
            "epoch :  6790  loss :  tf.Tensor(0.05834946, shape=(), dtype=float32)\n",
            "epoch :  6800  loss :  tf.Tensor(0.05736295, shape=(), dtype=float32)\n",
            "epoch :  6810  loss :  tf.Tensor(0.05701255, shape=(), dtype=float32)\n",
            "epoch :  6820  loss :  tf.Tensor(0.056908935, shape=(), dtype=float32)\n",
            "epoch :  6830  loss :  tf.Tensor(0.05667958, shape=(), dtype=float32)\n",
            "epoch :  6840  loss :  tf.Tensor(0.056645446, shape=(), dtype=float32)\n",
            "epoch :  6850  loss :  tf.Tensor(0.058350407, shape=(), dtype=float32)\n",
            "epoch :  6860  loss :  tf.Tensor(0.07887045, shape=(), dtype=float32)\n",
            "epoch :  6870  loss :  tf.Tensor(0.061382003, shape=(), dtype=float32)\n",
            "epoch :  6880  loss :  tf.Tensor(0.057826854, shape=(), dtype=float32)\n",
            "epoch :  6890  loss :  tf.Tensor(0.05595205, shape=(), dtype=float32)\n",
            "epoch :  6900  loss :  tf.Tensor(0.056628212, shape=(), dtype=float32)\n",
            "epoch :  6910  loss :  tf.Tensor(0.05676465, shape=(), dtype=float32)\n",
            "epoch :  6920  loss :  tf.Tensor(0.0645868, shape=(), dtype=float32)\n",
            "epoch :  6930  loss :  tf.Tensor(0.060023554, shape=(), dtype=float32)\n",
            "epoch :  6940  loss :  tf.Tensor(0.057398353, shape=(), dtype=float32)\n",
            "epoch :  6950  loss :  tf.Tensor(0.055174705, shape=(), dtype=float32)\n",
            "epoch :  6960  loss :  tf.Tensor(0.0558607, shape=(), dtype=float32)\n",
            "epoch :  6970  loss :  tf.Tensor(0.0634681, shape=(), dtype=float32)\n",
            "epoch :  6980  loss :  tf.Tensor(0.06326951, shape=(), dtype=float32)\n",
            "epoch :  6990  loss :  tf.Tensor(0.059724398, shape=(), dtype=float32)\n",
            "epoch :  7000  loss :  tf.Tensor(0.055856623, shape=(), dtype=float32)\n",
            "epoch :  7010  loss :  tf.Tensor(0.0546292, shape=(), dtype=float32)\n",
            "epoch :  7020  loss :  tf.Tensor(0.05421284, shape=(), dtype=float32)\n",
            "epoch :  7030  loss :  tf.Tensor(0.054033972, shape=(), dtype=float32)\n",
            "epoch :  7040  loss :  tf.Tensor(0.053832956, shape=(), dtype=float32)\n",
            "epoch :  7050  loss :  tf.Tensor(0.053808495, shape=(), dtype=float32)\n",
            "epoch :  7060  loss :  tf.Tensor(0.059998818, shape=(), dtype=float32)\n",
            "epoch :  7070  loss :  tf.Tensor(0.0960108, shape=(), dtype=float32)\n",
            "epoch :  7080  loss :  tf.Tensor(0.059126332, shape=(), dtype=float32)\n",
            "epoch :  7090  loss :  tf.Tensor(0.056275792, shape=(), dtype=float32)\n",
            "epoch :  7100  loss :  tf.Tensor(0.05386354, shape=(), dtype=float32)\n",
            "epoch :  7110  loss :  tf.Tensor(0.05316062, shape=(), dtype=float32)\n",
            "epoch :  7120  loss :  tf.Tensor(0.05289643, shape=(), dtype=float32)\n",
            "epoch :  7130  loss :  tf.Tensor(0.052715212, shape=(), dtype=float32)\n",
            "epoch :  7140  loss :  tf.Tensor(0.05250538, shape=(), dtype=float32)\n",
            "epoch :  7150  loss :  tf.Tensor(0.052347023, shape=(), dtype=float32)\n",
            "epoch :  7160  loss :  tf.Tensor(0.052206203, shape=(), dtype=float32)\n",
            "epoch :  7170  loss :  tf.Tensor(0.052122056, shape=(), dtype=float32)\n",
            "epoch :  7180  loss :  tf.Tensor(0.06524609, shape=(), dtype=float32)\n",
            "epoch :  7190  loss :  tf.Tensor(0.08315919, shape=(), dtype=float32)\n",
            "epoch :  7200  loss :  tf.Tensor(0.05611746, shape=(), dtype=float32)\n",
            "epoch :  7210  loss :  tf.Tensor(0.056289215, shape=(), dtype=float32)\n",
            "epoch :  7220  loss :  tf.Tensor(0.05351822, shape=(), dtype=float32)\n",
            "epoch :  7230  loss :  tf.Tensor(0.051803567, shape=(), dtype=float32)\n",
            "epoch :  7240  loss :  tf.Tensor(0.051462226, shape=(), dtype=float32)\n",
            "epoch :  7250  loss :  tf.Tensor(0.051231977, shape=(), dtype=float32)\n",
            "epoch :  7260  loss :  tf.Tensor(0.05106419, shape=(), dtype=float32)\n",
            "epoch :  7270  loss :  tf.Tensor(0.050913468, shape=(), dtype=float32)\n",
            "epoch :  7280  loss :  tf.Tensor(0.050771408, shape=(), dtype=float32)\n",
            "epoch :  7290  loss :  tf.Tensor(0.05063598, shape=(), dtype=float32)\n",
            "epoch :  7300  loss :  tf.Tensor(0.050503243, shape=(), dtype=float32)\n",
            "epoch :  7310  loss :  tf.Tensor(0.05037225, shape=(), dtype=float32)\n",
            "epoch :  7320  loss :  tf.Tensor(0.050247625, shape=(), dtype=float32)\n",
            "epoch :  7330  loss :  tf.Tensor(0.05065853, shape=(), dtype=float32)\n",
            "epoch :  7340  loss :  tf.Tensor(0.121149294, shape=(), dtype=float32)\n",
            "epoch :  7350  loss :  tf.Tensor(0.056984223, shape=(), dtype=float32)\n",
            "epoch :  7360  loss :  tf.Tensor(0.052148297, shape=(), dtype=float32)\n",
            "epoch :  7370  loss :  tf.Tensor(0.05080688, shape=(), dtype=float32)\n",
            "epoch :  7380  loss :  tf.Tensor(0.05073022, shape=(), dtype=float32)\n",
            "epoch :  7390  loss :  tf.Tensor(0.049855277, shape=(), dtype=float32)\n",
            "epoch :  7400  loss :  tf.Tensor(0.04951343, shape=(), dtype=float32)\n",
            "epoch :  7410  loss :  tf.Tensor(0.049261123, shape=(), dtype=float32)\n",
            "epoch :  7420  loss :  tf.Tensor(0.049120866, shape=(), dtype=float32)\n",
            "epoch :  7430  loss :  tf.Tensor(0.048988976, shape=(), dtype=float32)\n",
            "epoch :  7440  loss :  tf.Tensor(0.048852652, shape=(), dtype=float32)\n",
            "epoch :  7450  loss :  tf.Tensor(0.04874357, shape=(), dtype=float32)\n",
            "epoch :  7460  loss :  tf.Tensor(0.049576476, shape=(), dtype=float32)\n",
            "epoch :  7470  loss :  tf.Tensor(0.054077886, shape=(), dtype=float32)\n",
            "epoch :  7480  loss :  tf.Tensor(0.062136956, shape=(), dtype=float32)\n",
            "epoch :  7490  loss :  tf.Tensor(0.051188063, shape=(), dtype=float32)\n",
            "epoch :  7500  loss :  tf.Tensor(0.05059339, shape=(), dtype=float32)\n",
            "epoch :  7510  loss :  tf.Tensor(0.049136087, shape=(), dtype=float32)\n",
            "epoch :  7520  loss :  tf.Tensor(0.048499838, shape=(), dtype=float32)\n",
            "epoch :  7530  loss :  tf.Tensor(0.049366694, shape=(), dtype=float32)\n",
            "epoch :  7540  loss :  tf.Tensor(0.07444634, shape=(), dtype=float32)\n",
            "epoch :  7550  loss :  tf.Tensor(0.057458133, shape=(), dtype=float32)\n",
            "epoch :  7560  loss :  tf.Tensor(0.051190954, shape=(), dtype=float32)\n",
            "epoch :  7570  loss :  tf.Tensor(0.04923438, shape=(), dtype=float32)\n",
            "epoch :  7580  loss :  tf.Tensor(0.048100803, shape=(), dtype=float32)\n",
            "epoch :  7590  loss :  tf.Tensor(0.047299623, shape=(), dtype=float32)\n",
            "epoch :  7600  loss :  tf.Tensor(0.047075775, shape=(), dtype=float32)\n",
            "epoch :  7610  loss :  tf.Tensor(0.04825926, shape=(), dtype=float32)\n",
            "epoch :  7620  loss :  tf.Tensor(0.07165582, shape=(), dtype=float32)\n",
            "epoch :  7630  loss :  tf.Tensor(0.050942868, shape=(), dtype=float32)\n",
            "epoch :  7640  loss :  tf.Tensor(0.04787449, shape=(), dtype=float32)\n",
            "epoch :  7650  loss :  tf.Tensor(0.047145035, shape=(), dtype=float32)\n",
            "epoch :  7660  loss :  tf.Tensor(0.046572853, shape=(), dtype=float32)\n",
            "epoch :  7670  loss :  tf.Tensor(0.046681393, shape=(), dtype=float32)\n",
            "epoch :  7680  loss :  tf.Tensor(0.058102824, shape=(), dtype=float32)\n",
            "epoch :  7690  loss :  tf.Tensor(0.04865231, shape=(), dtype=float32)\n",
            "epoch :  7700  loss :  tf.Tensor(0.051453475, shape=(), dtype=float32)\n",
            "epoch :  7710  loss :  tf.Tensor(0.04811649, shape=(), dtype=float32)\n",
            "epoch :  7720  loss :  tf.Tensor(0.046770982, shape=(), dtype=float32)\n",
            "epoch :  7730  loss :  tf.Tensor(0.046091076, shape=(), dtype=float32)\n",
            "epoch :  7740  loss :  tf.Tensor(0.045624405, shape=(), dtype=float32)\n",
            "epoch :  7750  loss :  tf.Tensor(0.045452476, shape=(), dtype=float32)\n",
            "epoch :  7760  loss :  tf.Tensor(0.04591434, shape=(), dtype=float32)\n",
            "epoch :  7770  loss :  tf.Tensor(0.06769779, shape=(), dtype=float32)\n",
            "epoch :  7780  loss :  tf.Tensor(0.05362803, shape=(), dtype=float32)\n",
            "epoch :  7790  loss :  tf.Tensor(0.048200414, shape=(), dtype=float32)\n",
            "epoch :  7800  loss :  tf.Tensor(0.046735696, shape=(), dtype=float32)\n",
            "epoch :  7810  loss :  tf.Tensor(0.0454399, shape=(), dtype=float32)\n",
            "epoch :  7820  loss :  tf.Tensor(0.04494167, shape=(), dtype=float32)\n",
            "epoch :  7830  loss :  tf.Tensor(0.044784844, shape=(), dtype=float32)\n",
            "epoch :  7840  loss :  tf.Tensor(0.04890732, shape=(), dtype=float32)\n",
            "epoch :  7850  loss :  tf.Tensor(0.070995465, shape=(), dtype=float32)\n",
            "epoch :  7860  loss :  tf.Tensor(0.050449245, shape=(), dtype=float32)\n",
            "epoch :  7870  loss :  tf.Tensor(0.047469288, shape=(), dtype=float32)\n",
            "epoch :  7880  loss :  tf.Tensor(0.04457648, shape=(), dtype=float32)\n",
            "epoch :  7890  loss :  tf.Tensor(0.044579692, shape=(), dtype=float32)\n",
            "epoch :  7900  loss :  tf.Tensor(0.04405985, shape=(), dtype=float32)\n",
            "epoch :  7910  loss :  tf.Tensor(0.043861896, shape=(), dtype=float32)\n",
            "epoch :  7920  loss :  tf.Tensor(0.043738537, shape=(), dtype=float32)\n",
            "epoch :  7930  loss :  tf.Tensor(0.043735333, shape=(), dtype=float32)\n",
            "epoch :  7940  loss :  tf.Tensor(0.04860369, shape=(), dtype=float32)\n",
            "epoch :  7950  loss :  tf.Tensor(0.051282898, shape=(), dtype=float32)\n",
            "epoch :  7960  loss :  tf.Tensor(0.047443636, shape=(), dtype=float32)\n",
            "epoch :  7970  loss :  tf.Tensor(0.045672208, shape=(), dtype=float32)\n",
            "epoch :  7980  loss :  tf.Tensor(0.043734975, shape=(), dtype=float32)\n",
            "epoch :  7990  loss :  tf.Tensor(0.043533, shape=(), dtype=float32)\n",
            "epoch :  8000  loss :  tf.Tensor(0.04309445, shape=(), dtype=float32)\n",
            "epoch :  8010  loss :  tf.Tensor(0.042905476, shape=(), dtype=float32)\n",
            "epoch :  8020  loss :  tf.Tensor(0.042984962, shape=(), dtype=float32)\n",
            "epoch :  8030  loss :  tf.Tensor(0.06488518, shape=(), dtype=float32)\n",
            "epoch :  8040  loss :  tf.Tensor(0.062544644, shape=(), dtype=float32)\n",
            "epoch :  8050  loss :  tf.Tensor(0.045270387, shape=(), dtype=float32)\n",
            "epoch :  8060  loss :  tf.Tensor(0.044719554, shape=(), dtype=float32)\n",
            "epoch :  8070  loss :  tf.Tensor(0.043136537, shape=(), dtype=float32)\n",
            "epoch :  8080  loss :  tf.Tensor(0.042427488, shape=(), dtype=float32)\n",
            "epoch :  8090  loss :  tf.Tensor(0.042314216, shape=(), dtype=float32)\n",
            "epoch :  8100  loss :  tf.Tensor(0.042132966, shape=(), dtype=float32)\n",
            "epoch :  8110  loss :  tf.Tensor(0.042040706, shape=(), dtype=float32)\n",
            "epoch :  8120  loss :  tf.Tensor(0.041931167, shape=(), dtype=float32)\n",
            "epoch :  8130  loss :  tf.Tensor(0.041832194, shape=(), dtype=float32)\n",
            "epoch :  8140  loss :  tf.Tensor(0.041795507, shape=(), dtype=float32)\n",
            "epoch :  8150  loss :  tf.Tensor(0.0517656, shape=(), dtype=float32)\n",
            "epoch :  8160  loss :  tf.Tensor(0.05886469, shape=(), dtype=float32)\n",
            "epoch :  8170  loss :  tf.Tensor(0.046209835, shape=(), dtype=float32)\n",
            "epoch :  8180  loss :  tf.Tensor(0.043664448, shape=(), dtype=float32)\n",
            "epoch :  8190  loss :  tf.Tensor(0.04215938, shape=(), dtype=float32)\n",
            "epoch :  8200  loss :  tf.Tensor(0.041495517, shape=(), dtype=float32)\n",
            "epoch :  8210  loss :  tf.Tensor(0.041344892, shape=(), dtype=float32)\n",
            "epoch :  8220  loss :  tf.Tensor(0.041154485, shape=(), dtype=float32)\n",
            "epoch :  8230  loss :  tf.Tensor(0.041069984, shape=(), dtype=float32)\n",
            "epoch :  8240  loss :  tf.Tensor(0.04244381, shape=(), dtype=float32)\n",
            "epoch :  8250  loss :  tf.Tensor(0.081973255, shape=(), dtype=float32)\n",
            "epoch :  8260  loss :  tf.Tensor(0.04837806, shape=(), dtype=float32)\n",
            "epoch :  8270  loss :  tf.Tensor(0.042944215, shape=(), dtype=float32)\n",
            "epoch :  8280  loss :  tf.Tensor(0.0418012, shape=(), dtype=float32)\n",
            "epoch :  8290  loss :  tf.Tensor(0.04073304, shape=(), dtype=float32)\n",
            "epoch :  8300  loss :  tf.Tensor(0.040700465, shape=(), dtype=float32)\n",
            "epoch :  8310  loss :  tf.Tensor(0.040456392, shape=(), dtype=float32)\n",
            "epoch :  8320  loss :  tf.Tensor(0.040793426, shape=(), dtype=float32)\n",
            "epoch :  8330  loss :  tf.Tensor(0.053276494, shape=(), dtype=float32)\n",
            "epoch :  8340  loss :  tf.Tensor(0.04427457, shape=(), dtype=float32)\n",
            "epoch :  8350  loss :  tf.Tensor(0.042317037, shape=(), dtype=float32)\n",
            "epoch :  8360  loss :  tf.Tensor(0.040428035, shape=(), dtype=float32)\n",
            "epoch :  8370  loss :  tf.Tensor(0.041214433, shape=(), dtype=float32)\n",
            "epoch :  8380  loss :  tf.Tensor(0.041622117, shape=(), dtype=float32)\n",
            "epoch :  8390  loss :  tf.Tensor(0.042944588, shape=(), dtype=float32)\n",
            "epoch :  8400  loss :  tf.Tensor(0.048336934, shape=(), dtype=float32)\n",
            "epoch :  8410  loss :  tf.Tensor(0.040394038, shape=(), dtype=float32)\n",
            "epoch :  8420  loss :  tf.Tensor(0.04400148, shape=(), dtype=float32)\n",
            "epoch :  8430  loss :  tf.Tensor(0.047356885, shape=(), dtype=float32)\n",
            "epoch :  8440  loss :  tf.Tensor(0.040898815, shape=(), dtype=float32)\n",
            "epoch :  8450  loss :  tf.Tensor(0.042899787, shape=(), dtype=float32)\n",
            "epoch :  8460  loss :  tf.Tensor(0.04154665, shape=(), dtype=float32)\n",
            "epoch :  8470  loss :  tf.Tensor(0.039415408, shape=(), dtype=float32)\n",
            "epoch :  8480  loss :  tf.Tensor(0.042193748, shape=(), dtype=float32)\n",
            "epoch :  8490  loss :  tf.Tensor(0.057133563, shape=(), dtype=float32)\n",
            "epoch :  8500  loss :  tf.Tensor(0.047651455, shape=(), dtype=float32)\n",
            "epoch :  8510  loss :  tf.Tensor(0.042454913, shape=(), dtype=float32)\n",
            "epoch :  8520  loss :  tf.Tensor(0.039759785, shape=(), dtype=float32)\n",
            "epoch :  8530  loss :  tf.Tensor(0.04029918, shape=(), dtype=float32)\n",
            "epoch :  8540  loss :  tf.Tensor(0.046757534, shape=(), dtype=float32)\n",
            "epoch :  8550  loss :  tf.Tensor(0.038736206, shape=(), dtype=float32)\n",
            "epoch :  8560  loss :  tf.Tensor(0.042877838, shape=(), dtype=float32)\n",
            "epoch :  8570  loss :  tf.Tensor(0.042826287, shape=(), dtype=float32)\n",
            "epoch :  8580  loss :  tf.Tensor(0.03928075, shape=(), dtype=float32)\n",
            "epoch :  8590  loss :  tf.Tensor(0.04824899, shape=(), dtype=float32)\n",
            "epoch :  8600  loss :  tf.Tensor(0.040080026, shape=(), dtype=float32)\n",
            "epoch :  8610  loss :  tf.Tensor(0.0384668, shape=(), dtype=float32)\n",
            "epoch :  8620  loss :  tf.Tensor(0.04048585, shape=(), dtype=float32)\n",
            "epoch :  8630  loss :  tf.Tensor(0.045986928, shape=(), dtype=float32)\n",
            "epoch :  8640  loss :  tf.Tensor(0.03844916, shape=(), dtype=float32)\n",
            "epoch :  8650  loss :  tf.Tensor(0.0417308, shape=(), dtype=float32)\n",
            "epoch :  8660  loss :  tf.Tensor(0.048415825, shape=(), dtype=float32)\n",
            "epoch :  8670  loss :  tf.Tensor(0.040772792, shape=(), dtype=float32)\n",
            "epoch :  8680  loss :  tf.Tensor(0.038421437, shape=(), dtype=float32)\n",
            "epoch :  8690  loss :  tf.Tensor(0.041774772, shape=(), dtype=float32)\n",
            "epoch :  8700  loss :  tf.Tensor(0.04868523, shape=(), dtype=float32)\n",
            "epoch :  8710  loss :  tf.Tensor(0.04051507, shape=(), dtype=float32)\n",
            "epoch :  8720  loss :  tf.Tensor(0.039243855, shape=(), dtype=float32)\n",
            "epoch :  8730  loss :  tf.Tensor(0.04022193, shape=(), dtype=float32)\n",
            "epoch :  8740  loss :  tf.Tensor(0.038645543, shape=(), dtype=float32)\n",
            "epoch :  8750  loss :  tf.Tensor(0.046357915, shape=(), dtype=float32)\n",
            "epoch :  8760  loss :  tf.Tensor(0.038560778, shape=(), dtype=float32)\n",
            "epoch :  8770  loss :  tf.Tensor(0.03869111, shape=(), dtype=float32)\n",
            "epoch :  8780  loss :  tf.Tensor(0.040395565, shape=(), dtype=float32)\n",
            "epoch :  8790  loss :  tf.Tensor(0.04280904, shape=(), dtype=float32)\n",
            "epoch :  8800  loss :  tf.Tensor(0.038810812, shape=(), dtype=float32)\n",
            "epoch :  8810  loss :  tf.Tensor(0.039122142, shape=(), dtype=float32)\n",
            "epoch :  8820  loss :  tf.Tensor(0.040858947, shape=(), dtype=float32)\n",
            "epoch :  8830  loss :  tf.Tensor(0.043145515, shape=(), dtype=float32)\n",
            "epoch :  8840  loss :  tf.Tensor(0.038462795, shape=(), dtype=float32)\n",
            "epoch :  8850  loss :  tf.Tensor(0.048072733, shape=(), dtype=float32)\n",
            "epoch :  8860  loss :  tf.Tensor(0.039497927, shape=(), dtype=float32)\n",
            "epoch :  8870  loss :  tf.Tensor(0.039000347, shape=(), dtype=float32)\n",
            "epoch :  8880  loss :  tf.Tensor(0.037241023, shape=(), dtype=float32)\n",
            "epoch :  8890  loss :  tf.Tensor(0.042619683, shape=(), dtype=float32)\n",
            "epoch :  8900  loss :  tf.Tensor(0.07119215, shape=(), dtype=float32)\n",
            "epoch :  8910  loss :  tf.Tensor(0.036518723, shape=(), dtype=float32)\n",
            "epoch :  8920  loss :  tf.Tensor(0.039181277, shape=(), dtype=float32)\n",
            "epoch :  8930  loss :  tf.Tensor(0.03633759, shape=(), dtype=float32)\n",
            "epoch :  8940  loss :  tf.Tensor(0.03653761, shape=(), dtype=float32)\n",
            "epoch :  8950  loss :  tf.Tensor(0.036501333, shape=(), dtype=float32)\n",
            "epoch :  8960  loss :  tf.Tensor(0.041929036, shape=(), dtype=float32)\n",
            "epoch :  8970  loss :  tf.Tensor(0.036325805, shape=(), dtype=float32)\n",
            "epoch :  8980  loss :  tf.Tensor(0.03669427, shape=(), dtype=float32)\n",
            "epoch :  8990  loss :  tf.Tensor(0.039272234, shape=(), dtype=float32)\n",
            "epoch :  9000  loss :  tf.Tensor(0.044980586, shape=(), dtype=float32)\n",
            "epoch :  9010  loss :  tf.Tensor(0.03592803, shape=(), dtype=float32)\n",
            "epoch :  9020  loss :  tf.Tensor(0.038482487, shape=(), dtype=float32)\n",
            "epoch :  9030  loss :  tf.Tensor(0.037908427, shape=(), dtype=float32)\n",
            "epoch :  9040  loss :  tf.Tensor(0.035518575, shape=(), dtype=float32)\n",
            "epoch :  9050  loss :  tf.Tensor(0.036406763, shape=(), dtype=float32)\n",
            "epoch :  9060  loss :  tf.Tensor(0.07972805, shape=(), dtype=float32)\n",
            "epoch :  9070  loss :  tf.Tensor(0.044734232, shape=(), dtype=float32)\n",
            "epoch :  9080  loss :  tf.Tensor(0.03814801, shape=(), dtype=float32)\n",
            "epoch :  9090  loss :  tf.Tensor(0.03623286, shape=(), dtype=float32)\n",
            "epoch :  9100  loss :  tf.Tensor(0.034807928, shape=(), dtype=float32)\n",
            "epoch :  9110  loss :  tf.Tensor(0.03468463, shape=(), dtype=float32)\n",
            "epoch :  9120  loss :  tf.Tensor(0.0344797, shape=(), dtype=float32)\n",
            "epoch :  9130  loss :  tf.Tensor(0.034457438, shape=(), dtype=float32)\n",
            "epoch :  9140  loss :  tf.Tensor(0.042018473, shape=(), dtype=float32)\n",
            "epoch :  9150  loss :  tf.Tensor(0.04084208, shape=(), dtype=float32)\n",
            "epoch :  9160  loss :  tf.Tensor(0.041735277, shape=(), dtype=float32)\n",
            "epoch :  9170  loss :  tf.Tensor(0.036985606, shape=(), dtype=float32)\n",
            "epoch :  9180  loss :  tf.Tensor(0.035169452, shape=(), dtype=float32)\n",
            "epoch :  9190  loss :  tf.Tensor(0.034425557, shape=(), dtype=float32)\n",
            "epoch :  9200  loss :  tf.Tensor(0.034000278, shape=(), dtype=float32)\n",
            "epoch :  9210  loss :  tf.Tensor(0.033867396, shape=(), dtype=float32)\n",
            "epoch :  9220  loss :  tf.Tensor(0.03412004, shape=(), dtype=float32)\n",
            "epoch :  9230  loss :  tf.Tensor(0.05262706, shape=(), dtype=float32)\n",
            "epoch :  9240  loss :  tf.Tensor(0.0394672, shape=(), dtype=float32)\n",
            "epoch :  9250  loss :  tf.Tensor(0.03688031, shape=(), dtype=float32)\n",
            "epoch :  9260  loss :  tf.Tensor(0.03417317, shape=(), dtype=float32)\n",
            "epoch :  9270  loss :  tf.Tensor(0.03382589, shape=(), dtype=float32)\n",
            "epoch :  9280  loss :  tf.Tensor(0.037299, shape=(), dtype=float32)\n",
            "epoch :  9290  loss :  tf.Tensor(0.052242175, shape=(), dtype=float32)\n",
            "epoch :  9300  loss :  tf.Tensor(0.035426687, shape=(), dtype=float32)\n",
            "epoch :  9310  loss :  tf.Tensor(0.036077656, shape=(), dtype=float32)\n",
            "epoch :  9320  loss :  tf.Tensor(0.034209266, shape=(), dtype=float32)\n",
            "epoch :  9330  loss :  tf.Tensor(0.03295766, shape=(), dtype=float32)\n",
            "epoch :  9340  loss :  tf.Tensor(0.033040725, shape=(), dtype=float32)\n",
            "epoch :  9350  loss :  tf.Tensor(0.033218887, shape=(), dtype=float32)\n",
            "epoch :  9360  loss :  tf.Tensor(0.07145321, shape=(), dtype=float32)\n",
            "epoch :  9370  loss :  tf.Tensor(0.0423787, shape=(), dtype=float32)\n",
            "epoch :  9380  loss :  tf.Tensor(0.03561818, shape=(), dtype=float32)\n",
            "epoch :  9390  loss :  tf.Tensor(0.03413015, shape=(), dtype=float32)\n",
            "epoch :  9400  loss :  tf.Tensor(0.032763988, shape=(), dtype=float32)\n",
            "epoch :  9410  loss :  tf.Tensor(0.03252299, shape=(), dtype=float32)\n",
            "epoch :  9420  loss :  tf.Tensor(0.032252528, shape=(), dtype=float32)\n",
            "epoch :  9430  loss :  tf.Tensor(0.03218453, shape=(), dtype=float32)\n",
            "epoch :  9440  loss :  tf.Tensor(0.033918783, shape=(), dtype=float32)\n",
            "epoch :  9450  loss :  tf.Tensor(0.06774154, shape=(), dtype=float32)\n",
            "epoch :  9460  loss :  tf.Tensor(0.038369622, shape=(), dtype=float32)\n",
            "epoch :  9470  loss :  tf.Tensor(0.03369001, shape=(), dtype=float32)\n",
            "epoch :  9480  loss :  tf.Tensor(0.03355989, shape=(), dtype=float32)\n",
            "epoch :  9490  loss :  tf.Tensor(0.031942494, shape=(), dtype=float32)\n",
            "epoch :  9500  loss :  tf.Tensor(0.031753063, shape=(), dtype=float32)\n",
            "epoch :  9510  loss :  tf.Tensor(0.031616896, shape=(), dtype=float32)\n",
            "epoch :  9520  loss :  tf.Tensor(0.03156486, shape=(), dtype=float32)\n",
            "epoch :  9530  loss :  tf.Tensor(0.034801442, shape=(), dtype=float32)\n",
            "epoch :  9540  loss :  tf.Tensor(0.043351594, shape=(), dtype=float32)\n",
            "epoch :  9550  loss :  tf.Tensor(0.035791278, shape=(), dtype=float32)\n",
            "epoch :  9560  loss :  tf.Tensor(0.034123495, shape=(), dtype=float32)\n",
            "epoch :  9570  loss :  tf.Tensor(0.032057907, shape=(), dtype=float32)\n",
            "epoch :  9580  loss :  tf.Tensor(0.03151951, shape=(), dtype=float32)\n",
            "epoch :  9590  loss :  tf.Tensor(0.03267558, shape=(), dtype=float32)\n",
            "epoch :  9600  loss :  tf.Tensor(0.033579446, shape=(), dtype=float32)\n",
            "epoch :  9610  loss :  tf.Tensor(0.040647022, shape=(), dtype=float32)\n",
            "epoch :  9620  loss :  tf.Tensor(0.033626515, shape=(), dtype=float32)\n",
            "epoch :  9630  loss :  tf.Tensor(0.035678525, shape=(), dtype=float32)\n",
            "epoch :  9640  loss :  tf.Tensor(0.032892898, shape=(), dtype=float32)\n",
            "epoch :  9650  loss :  tf.Tensor(0.030643113, shape=(), dtype=float32)\n",
            "epoch :  9660  loss :  tf.Tensor(0.03099672, shape=(), dtype=float32)\n",
            "epoch :  9670  loss :  tf.Tensor(0.034120046, shape=(), dtype=float32)\n",
            "epoch :  9680  loss :  tf.Tensor(0.039245375, shape=(), dtype=float32)\n",
            "epoch :  9690  loss :  tf.Tensor(0.033573806, shape=(), dtype=float32)\n",
            "epoch :  9700  loss :  tf.Tensor(0.03364216, shape=(), dtype=float32)\n",
            "epoch :  9710  loss :  tf.Tensor(0.036592938, shape=(), dtype=float32)\n",
            "epoch :  9720  loss :  tf.Tensor(0.032585092, shape=(), dtype=float32)\n",
            "epoch :  9730  loss :  tf.Tensor(0.034866, shape=(), dtype=float32)\n",
            "epoch :  9740  loss :  tf.Tensor(0.040722113, shape=(), dtype=float32)\n",
            "epoch :  9750  loss :  tf.Tensor(0.033260792, shape=(), dtype=float32)\n"
          ],
          "name": "stdout"
        }
      ]
    },
    {
      "cell_type": "code",
      "metadata": {
        "id": "nLMCzpueZPvy",
        "colab": {
          "base_uri": "https://localhost:8080/",
          "height": 34
        },
        "outputId": "56944001-b475-437c-b5d0-7d35c2fe4a5c"
      },
      "source": [
        "Xmesh1 = np.linspace(XMIN, XMAX, 1000).reshape((-1, 1))\n",
        "Tmesh1 = np.linspace(TMIN, TMAX, 200).reshape((-1, 1))\n",
        "X1, T1 = np.meshgrid(Xmesh1, Tmesh1)\n",
        "\n",
        "d_test=np.hstack((X1.flatten()[:,None], T1.flatten()[:,None]))\n",
        "d_test.shape\n",
        "\n",
        "\n"
      ],
      "execution_count": null,
      "outputs": [
        {
          "output_type": "execute_result",
          "data": {
            "text/plain": [
              "(200000, 2)"
            ]
          },
          "metadata": {
            "tags": []
          },
          "execution_count": 13
        }
      ]
    },
    {
      "cell_type": "code",
      "metadata": {
        "id": "HB2sNgR0tplD",
        "colab": {
          "base_uri": "https://localhost:8080/",
          "height": 34
        },
        "outputId": "49fe90c7-c14e-4fc8-84e3-e538a2a66813"
      },
      "source": [
        "res=model(d_test)\n",
        "res=res.numpy()\n",
        "res=res.reshape(-1,Xmesh1.shape[0])\n",
        "\n",
        "# res_a=alpha(d_test[:, 0:1])\n",
        "# res_a=res_a.numpy()\n",
        "# res_a=res_a.reshape(-1,Xmesh1.shape[0])\n",
        "\n",
        "res.shape"
      ],
      "execution_count": null,
      "outputs": [
        {
          "output_type": "execute_result",
          "data": {
            "text/plain": [
              "(200, 1000)"
            ]
          },
          "metadata": {
            "tags": []
          },
          "execution_count": 15
        }
      ]
    },
    {
      "cell_type": "code",
      "metadata": {
        "id": "bsqL_H88ZPv1",
        "colab": {
          "base_uri": "https://localhost:8080/",
          "height": 241
        },
        "outputId": "8912077c-b0d9-4415-9f0b-d268a880cc65"
      },
      "source": [
        "plt.figure(figsize=(10,3))\n",
        "plt.xlabel('x')\n",
        "plt.ylabel('t')\n",
        "\n",
        "levels=np.arange(-1*us,1*us,0.001*us)\n",
        "plt.contourf(X1*xs,T1*ts,res*us,levels,cmap='RdBu',extend='both' )\n",
        "#plt.contourf(X1,T1,res,cmap='RdBu',extend='both' )\n",
        "clb = plt.colorbar()\n",
        "clb.ax.set_title('Ampitude')\n",
        "plt.show()"
      ],
      "execution_count": null,
      "outputs": [
        {
          "output_type": "display_data",
          "data": {
            "image/png": "[encoded data removed]",
            "text/plain": [
              "<Figure size 720x216 with 2 Axes>"
            ]
          },
          "metadata": {
            "tags": [],
            "needs_background": "light"
          }
        }
      ]
    },
    {
      "cell_type": "code",
      "metadata": {
        "id": "Th0K_BTUzPPO"
      },
      "source": [
        "# plt.figure(figsize=(10,3))\n",
        "# plt.xlabel('x')\n",
        "# plt.ylabel('t')\n",
        "\n",
        "# # levels=np.arange(-0.1*us,0.1*us,0.001*us)\n",
        "# plt.contourf(X1*xs,T1*ts,res_a,cmap='RdBu',extend='both' )\n",
        "# #plt.contourf(X1,T1,res,cmap='RdBu',extend='both' )\n",
        "# clb = plt.colorbar()\n",
        "# clb.ax.set_title('Ampitude')\n",
        "# plt.show()"
      ],
      "execution_count": null,
      "outputs": []
    },
    {
      "cell_type": "code",
      "metadata": {
        "id": "YcuCaIy3ZPv5",
        "colab": {
          "base_uri": "https://localhost:8080/",
          "height": 293
        },
        "outputId": "3b0effc2-97bb-41cb-b7e2-1d4a655206fe"
      },
      "source": [
        "plt.figure()\n",
        "plt.plot(Tmesh1*ts,res[:,999]*us)\n",
        "plt.plot(Tmesh1*ts,res[:,0]*us,color='r')\n",
        "\n",
        "a=np.max(res[:,999]*us)\n",
        "b=np.min(res[:,0]*us)\n",
        "print(a,b)"
      ],
      "execution_count": null,
      "outputs": [
        {
          "output_type": "stream",
          "text": [
            "1.1357332e-05 -1.14033655e-05\n"
          ],
          "name": "stdout"
        },
        {
          "output_type": "display_data",
          "data": {
            "image/png": "[encoded data removed]",
            "text/plain": [
              "<Figure size 432x288 with 1 Axes>"
            ]
          },
          "metadata": {
            "tags": [],
            "needs_background": "light"
          }
        }
      ]
    },
    {
      "cell_type": "code",
      "metadata": {
        "id": "bRM44Vyf9__7",
        "colab": {
          "base_uri": "https://localhost:8080/",
          "height": 248
        },
        "outputId": "f701e0b4-0cce-4b2a-8b36-eff1202595a9"
      },
      "source": [
        "plt.figure()\n",
        "plt.plot(Tmesh1*ts,res_a[:,999])\n",
        "plt.plot(Tmesh1*ts,res_a[:,0],color='r')\n",
        "\n",
        "\n"
      ],
      "execution_count": null,
      "outputs": [
        {
          "output_type": "error",
          "ename": "NameError",
          "evalue": "ignored",
          "traceback": [
            "\u001b[0;31m---------------------------------------------------------------------------\u001b[0m",
            "\u001b[0;31mNameError\u001b[0m                                 Traceback (most recent call last)",
            "\u001b[0;32m<ipython-input-21-b978b7ffa888>\u001b[0m in \u001b[0;36m<module>\u001b[0;34m()\u001b[0m\n\u001b[1;32m      1\u001b[0m \u001b[0mplt\u001b[0m\u001b[0;34m.\u001b[0m\u001b[0mfigure\u001b[0m\u001b[0;34m(\u001b[0m\u001b[0;34m)\u001b[0m\u001b[0;34m\u001b[0m\u001b[0;34m\u001b[0m\u001b[0m\n\u001b[0;32m----> 2\u001b[0;31m \u001b[0mplt\u001b[0m\u001b[0;34m.\u001b[0m\u001b[0mplot\u001b[0m\u001b[0;34m(\u001b[0m\u001b[0mTmesh1\u001b[0m\u001b[0;34m*\u001b[0m\u001b[0mts\u001b[0m\u001b[0;34m,\u001b[0m\u001b[0mres_a\u001b[0m\u001b[0;34m[\u001b[0m\u001b[0;34m:\u001b[0m\u001b[0;34m,\u001b[0m\u001b[0;36m999\u001b[0m\u001b[0;34m]\u001b[0m\u001b[0;34m)\u001b[0m\u001b[0;34m\u001b[0m\u001b[0;34m\u001b[0m\u001b[0m\n\u001b[0m\u001b[1;32m      3\u001b[0m \u001b[0mplt\u001b[0m\u001b[0;34m.\u001b[0m\u001b[0mplot\u001b[0m\u001b[0;34m(\u001b[0m\u001b[0mTmesh1\u001b[0m\u001b[0;34m*\u001b[0m\u001b[0mts\u001b[0m\u001b[0;34m,\u001b[0m\u001b[0mres_a\u001b[0m\u001b[0;34m[\u001b[0m\u001b[0;34m:\u001b[0m\u001b[0;34m,\u001b[0m\u001b[0;36m0\u001b[0m\u001b[0;34m]\u001b[0m\u001b[0;34m,\u001b[0m\u001b[0mcolor\u001b[0m\u001b[0;34m=\u001b[0m\u001b[0;34m'r'\u001b[0m\u001b[0;34m)\u001b[0m\u001b[0;34m\u001b[0m\u001b[0;34m\u001b[0m\u001b[0m\n\u001b[1;32m      4\u001b[0m \u001b[0;34m\u001b[0m\u001b[0m\n\u001b[1;32m      5\u001b[0m \u001b[0;34m\u001b[0m\u001b[0m\n",
            "\u001b[0;31mNameError\u001b[0m: name 'res_a' is not defined"
          ]
        },
        {
          "output_type": "display_data",
          "data": {
            "text/plain": [
              "<Figure size 432x288 with 0 Axes>"
            ]
          },
          "metadata": {
            "tags": []
          }
        }
      ]
    },
    {
      "cell_type": "code",
      "metadata": {
        "id": "Az2ft2oZQMKk",
        "colab": {
          "base_uri": "https://localhost:8080/",
          "height": 248
        },
        "outputId": "724e12ca-4af0-4622-9424-b15a8adc71b6"
      },
      "source": [
        "plt.figure()\n",
        "plt.plot(Tmesh1*ts,res_a[:,999]*res[:,999]*us*xs)\n",
        "plt.plot(Tmesh1*ts,res[:,999]*us,color='r')\n",
        "\n",
        "\n"
      ],
      "execution_count": null,
      "outputs": [
        {
          "output_type": "error",
          "ename": "NameError",
          "evalue": "ignored",
          "traceback": [
            "\u001b[0;31m---------------------------------------------------------------------------\u001b[0m",
            "\u001b[0;31mNameError\u001b[0m                                 Traceback (most recent call last)",
            "\u001b[0;32m<ipython-input-20-b5bcb0c7db4b>\u001b[0m in \u001b[0;36m<module>\u001b[0;34m()\u001b[0m\n\u001b[1;32m      1\u001b[0m \u001b[0mplt\u001b[0m\u001b[0;34m.\u001b[0m\u001b[0mfigure\u001b[0m\u001b[0;34m(\u001b[0m\u001b[0;34m)\u001b[0m\u001b[0;34m\u001b[0m\u001b[0;34m\u001b[0m\u001b[0m\n\u001b[0;32m----> 2\u001b[0;31m \u001b[0mplt\u001b[0m\u001b[0;34m.\u001b[0m\u001b[0mplot\u001b[0m\u001b[0;34m(\u001b[0m\u001b[0mTmesh1\u001b[0m\u001b[0;34m*\u001b[0m\u001b[0mts\u001b[0m\u001b[0;34m,\u001b[0m\u001b[0mres_a\u001b[0m\u001b[0;34m[\u001b[0m\u001b[0;34m:\u001b[0m\u001b[0;34m,\u001b[0m\u001b[0;36m999\u001b[0m\u001b[0;34m]\u001b[0m\u001b[0;34m*\u001b[0m\u001b[0mres\u001b[0m\u001b[0;34m[\u001b[0m\u001b[0;34m:\u001b[0m\u001b[0;34m,\u001b[0m\u001b[0;36m999\u001b[0m\u001b[0;34m]\u001b[0m\u001b[0;34m*\u001b[0m\u001b[0mus\u001b[0m\u001b[0;34m*\u001b[0m\u001b[0mxs\u001b[0m\u001b[0;34m)\u001b[0m\u001b[0;34m\u001b[0m\u001b[0;34m\u001b[0m\u001b[0m\n\u001b[0m\u001b[1;32m      3\u001b[0m \u001b[0mplt\u001b[0m\u001b[0;34m.\u001b[0m\u001b[0mplot\u001b[0m\u001b[0;34m(\u001b[0m\u001b[0mTmesh1\u001b[0m\u001b[0;34m*\u001b[0m\u001b[0mts\u001b[0m\u001b[0;34m,\u001b[0m\u001b[0mres\u001b[0m\u001b[0;34m[\u001b[0m\u001b[0;34m:\u001b[0m\u001b[0;34m,\u001b[0m\u001b[0;36m999\u001b[0m\u001b[0;34m]\u001b[0m\u001b[0;34m*\u001b[0m\u001b[0mus\u001b[0m\u001b[0;34m,\u001b[0m\u001b[0mcolor\u001b[0m\u001b[0;34m=\u001b[0m\u001b[0;34m'r'\u001b[0m\u001b[0;34m)\u001b[0m\u001b[0;34m\u001b[0m\u001b[0;34m\u001b[0m\u001b[0m\n\u001b[1;32m      4\u001b[0m \u001b[0;34m\u001b[0m\u001b[0m\n\u001b[1;32m      5\u001b[0m \u001b[0;34m\u001b[0m\u001b[0m\n",
            "\u001b[0;31mNameError\u001b[0m: name 'res_a' is not defined"
          ]
        },
        {
          "output_type": "display_data",
          "data": {
            "text/plain": [
              "<Figure size 432x288 with 0 Axes>"
            ]
          },
          "metadata": {
            "tags": []
          }
        }
      ]
    },
    {
      "cell_type": "code",
      "metadata": {
        "id": "NT453cDfnluH",
        "colab": {
          "base_uri": "https://localhost:8080/",
          "height": 293
        },
        "outputId": "a208681a-6ba3-4c7c-bce1-6db58134f362"
      },
      "source": [
        "plt.figure()\n",
        "plt.plot(Xmesh1*xs,res[100,:]*us,color='r')"
      ],
      "execution_count": null,
      "outputs": [
        {
          "output_type": "execute_result",
          "data": {
            "text/plain": [
              "[<matplotlib.lines.Line2D at 0x7fb1336fe748>]"
            ]
          },
          "metadata": {
            "tags": []
          },
          "execution_count": 18
        },
        {
          "output_type": "display_data",
          "data": {
            "image/png": "[encoded data removed]",
            "text/plain": [
              "<Figure size 432x288 with 1 Axes>"
            ]
          },
          "metadata": {
            "tags": [],
            "needs_background": "light"
          }
        }
      ]
    },
    {
      "cell_type": "code",
      "metadata": {
        "id": "4b_RtlCR0Eyg",
        "colab": {
          "base_uri": "https://localhost:8080/",
          "height": 197
        },
        "outputId": "6d593ddb-38c7-4767-b855-94ced385b9c8"
      },
      "source": [
        "plt.figure()\n",
        "plt.plot(Xmesh1*xs,res_a[0,:]*xs,color='r')"
      ],
      "execution_count": null,
      "outputs": [
        {
          "output_type": "error",
          "ename": "NameError",
          "evalue": "ignored",
          "traceback": [
            "\u001b[0;31m---------------------------------------------------------------------------\u001b[0m",
            "\u001b[0;31mNameError\u001b[0m                                 Traceback (most recent call last)",
            "\u001b[0;32m<ipython-input-19-051a93ecfe33>\u001b[0m in \u001b[0;36m<module>\u001b[0;34m()\u001b[0m\n\u001b[1;32m      1\u001b[0m \u001b[0mplt\u001b[0m\u001b[0;34m.\u001b[0m\u001b[0mfigure\u001b[0m\u001b[0;34m(\u001b[0m\u001b[0;34m)\u001b[0m\u001b[0;34m\u001b[0m\u001b[0;34m\u001b[0m\u001b[0m\n\u001b[0;32m----> 2\u001b[0;31m \u001b[0mplt\u001b[0m\u001b[0;34m.\u001b[0m\u001b[0mplot\u001b[0m\u001b[0;34m(\u001b[0m\u001b[0mXmesh1\u001b[0m\u001b[0;34m*\u001b[0m\u001b[0mxs\u001b[0m\u001b[0;34m,\u001b[0m\u001b[0mres_a\u001b[0m\u001b[0;34m[\u001b[0m\u001b[0;36m0\u001b[0m\u001b[0;34m,\u001b[0m\u001b[0;34m:\u001b[0m\u001b[0;34m]\u001b[0m\u001b[0;34m*\u001b[0m\u001b[0mxs\u001b[0m\u001b[0;34m,\u001b[0m\u001b[0mcolor\u001b[0m\u001b[0;34m=\u001b[0m\u001b[0;34m'r'\u001b[0m\u001b[0;34m)\u001b[0m\u001b[0;34m\u001b[0m\u001b[0;34m\u001b[0m\u001b[0m\n\u001b[0m",
            "\u001b[0;31mNameError\u001b[0m: name 'res_a' is not defined"
          ]
        },
        {
          "output_type": "display_data",
          "data": {
            "text/plain": [
              "<Figure size 432x288 with 0 Axes>"
            ]
          },
          "metadata": {
            "tags": []
          }
        }
      ]
    },
    {
      "cell_type": "code",
      "metadata": {
        "id": "yfs9FtB3bptq",
        "colab": {
          "base_uri": "https://localhost:8080/",
          "height": 51
        },
        "outputId": "20bb11a0-6a13-4592-b210-f9484eb5c16c"
      },
      "source": [
        "k"
      ],
      "execution_count": null,
      "outputs": [
        {
          "output_type": "stream",
          "text": [
            "Executing op Identity in device /job:localhost/replica:0/task:0/device:GPU:0\n"
          ],
          "name": "stdout"
        },
        {
          "output_type": "execute_result",
          "data": {
            "text/plain": [
              "<tf.Variable 'Variable:0' shape=(1,) dtype=float32, numpy=array([9.175599], dtype=float32)>"
            ]
          },
          "metadata": {
            "tags": []
          },
          "execution_count": 22
        }
      ]
    },
    {
      "cell_type": "code",
      "metadata": {
        "id": "Ysac3Gtrbptt",
        "colab": {
          "base_uri": "https://localhost:8080/",
          "height": 34
        },
        "outputId": "c85bbfc4-4d75-48f4-b420-80c0c128d64b"
      },
      "source": [
        "c"
      ],
      "execution_count": null,
      "outputs": [
        {
          "output_type": "execute_result",
          "data": {
            "text/plain": [
              "<tf.Variable 'Variable:0' shape=(1,) dtype=float32, numpy=array([0.05810516], dtype=float32)>"
            ]
          },
          "metadata": {
            "tags": []
          },
          "execution_count": 23
        }
      ]
    },
    {
      "cell_type": "code",
      "metadata": {
        "id": "P1xJ4YugU8HO",
        "colab": {
          "base_uri": "https://localhost:8080/",
          "height": 34
        },
        "outputId": "3021aee9-8361-418b-ceff-28fefc64398a"
      },
      "source": [
        "d"
      ],
      "execution_count": null,
      "outputs": [
        {
          "output_type": "execute_result",
          "data": {
            "text/plain": [
              "<tf.Variable 'Variable:0' shape=(1,) dtype=float32, numpy=array([1.1137265], dtype=float32)>"
            ]
          },
          "metadata": {
            "tags": []
          },
          "execution_count": 24
        }
      ]
    },
    {
      "cell_type": "code",
      "metadata": {
        "id": "U1LZE80twFVM"
      },
      "source": [
        "# name=['k','c']\n",
        "# temp=np.hstack((k.numpy(),c.numpy())).reshape(-1,2)\n",
        "# dummy=pd.DataFrame(temp,columns=name)\n",
        "# para='para.csv'\n",
        "# para_path=F\"/content/gdrive/My Drive/{para}\" \n",
        "# dummy.to_csv(para_path,index=False)\n"
      ],
      "execution_count": null,
      "outputs": []
    },
    {
      "cell_type": "code",
      "metadata": {
        "id": "nAnPfHIJfxYi"
      },
      "source": [
        "# f_pde=pde()\n",
        "# f_bc_t0, u1_x=bc_t0()\n",
        "# f_bc_x0=bc_x0(f_bc_t0[-2])\n",
        "# f_bc_xl=bc_xl(f_bc_t0[-1])\n",
        "# print(tf.reduce_mean(tf.square(f_pde)))\n",
        "# print(tf.reduce_mean(tf.square(f_bc_x0-model(t_test_init)))) \n",
        "# print(tf.reduce_mean(tf.square(f_bc_xl-model(t_test_init)))) \n",
        "# print(tf.square(f_bc_t0[-2]-u0))\n",
        "# print(tf.square(f_bc_t0[-1]-u1))\n",
        "# print(tf.square(u1_x[-1]))\n",
        "# print(tf.square(u1_x[-2])) "
      ],
      "execution_count": null,
      "outputs": []
    },
    {
      "cell_type": "code",
      "metadata": {
        "id": "-Ecb-3KSfyHR"
      },
      "source": [
        "# model_save_name = 'trained_model(discovery only).h5'\n",
        "# path = F\"/content/gdrive/My Drive/{model_save_name}\" \n",
        "\n",
        "# model.save(path)"
      ],
      "execution_count": null,
      "outputs": []
    },
    {
      "cell_type": "code",
      "metadata": {
        "id": "g17PmPvM6DIY"
      },
      "source": [
        "# c=5.028e3\n",
        "# ome=math.pi*2/(5e-5)\n",
        "# k=ome/c\n",
        "# k"
      ],
      "execution_count": null,
      "outputs": []
    },
    {
      "cell_type": "code",
      "metadata": {
        "id": "Iff98Q7_6pbV"
      },
      "source": [
        "# k1=(k**2)*(xs**2)\n",
        "# k1"
      ],
      "execution_count": null,
      "outputs": []
    },
    {
      "cell_type": "code",
      "metadata": {
        "id": "gEW2ZoCV6-uw"
      },
      "source": [
        "# c1=(xs**2)/((c**2)*(ts**2))\n",
        "# c1"
      ],
      "execution_count": null,
      "outputs": []
    },
    {
      "cell_type": "code",
      "metadata": {
        "id": "M4qWFluH5eDA"
      },
      "source": [
        "# t=math.sqrt(c1/k1)*math.pi*2\n",
        "# t"
      ],
      "execution_count": null,
      "outputs": []
    },
    {
      "cell_type": "code",
      "metadata": {
        "id": "zJ5GbCQw5d_b"
      },
      "source": [
        "# t*math.pi*2"
      ],
      "execution_count": null,
      "outputs": []
    },
    {
      "cell_type": "code",
      "metadata": {
        "id": "ZLXVMx8zYGO1"
      },
      "source": [
        "# ki=10.177227\n",
        "# k=np.sqrt(ki/(xs**2))\n",
        "# k"
      ],
      "execution_count": null,
      "outputs": []
    },
    {
      "cell_type": "code",
      "metadata": {
        "id": "YUHGBeOTYopa"
      },
      "source": [
        "# c=5.028e3\n",
        "# freq=k*c/(math.pi*2)\n",
        "# freq"
      ],
      "execution_count": null,
      "outputs": []
    },
    {
      "cell_type": "code",
      "metadata": {
        "id": "Ua-EDNdpCueZ",
        "colab": {
          "base_uri": "https://localhost:8080/",
          "height": 336
        },
        "outputId": "7f3cc6f7-40b3-41cb-88d7-a4bfc68e474e"
      },
      "source": [
        "E=113.8e9\n",
        "area=((30e-3)**2)*math.pi\n",
        "x_f = tf.convert_to_tensor(d_test[:, 0:1], dtype=tf.float32)\n",
        "t_f = tf.convert_to_tensor(d_test[:, 1:2], dtype=tf.float32)\n",
        "\n",
        "with tf.GradientTape(persistent=True) as tape:\n",
        "    tape.watch(x_f)\n",
        "    tape.watch(t_f)\n",
        "    X_f = tf.stack([x_f[:,0], t_f[:,0]], axis=1)\n",
        "    \n",
        "  # Getting the prediction\n",
        "    u=model(X_f)\n",
        "    # Deriving INSIDE the tape (since we’ll need the x derivative of this later, u_xx)\n",
        "    u_x = tape.gradient(u, x_f)\n",
        "    u_t = tape.gradient(u,t_f)\n",
        "    \n",
        "u_tt = tape.gradient(u_t, t_f) \n",
        "u_xx= tape.gradient(u_x,x_f)\n",
        "\n",
        "# Letting the tape go\n",
        "del tape\n",
        "# a=alpha(x_f)\n",
        "\n",
        "force= u_t\n",
        "force=force.numpy()\n",
        "force=force.reshape(-1,Xmesh1.shape[0])\n",
        "\n",
        "\n",
        "test=np.sum(force, axis = 1)\n",
        "\n",
        "# plt.figure(figsize=(10,3))\n",
        "# plt.xlabel('x')\n",
        "# plt.ylabel('t') \n",
        "\n",
        "# plt.contourf(X1,T1,force,cmap='RdBu',extend='both' )\n",
        "# #plt.contourf(X1,T1,res,cmap='RdBu',extend='both' )\n",
        "# clb = plt.colorbar()\n",
        "# clb.ax.set_title('Ampitude')\n",
        "plt.figure()\n",
        "plt.plot(Tmesh1,force[:,999],color='r')"
      ],
      "execution_count": null,
      "outputs": [
        {
          "output_type": "stream",
          "text": [
            "WARNING:tensorflow:Calling GradientTape.gradient on a persistent tape inside its context is significantly less efficient than calling it outside the context (it causes the gradient ops to be recorded on the tape, leading to increased CPU and memory usage). Only call GradientTape.gradient inside the context if you actually want to trace the gradient in order to compute higher order derivatives.\n",
            "WARNING:tensorflow:Calling GradientTape.gradient on a persistent tape inside its context is significantly less efficient than calling it outside the context (it causes the gradient ops to be recorded on the tape, leading to increased CPU and memory usage). Only call GradientTape.gradient inside the context if you actually want to trace the gradient in order to compute higher order derivatives.\n"
          ],
          "name": "stdout"
        },
        {
          "output_type": "execute_result",
          "data": {
            "text/plain": [
              "[<matplotlib.lines.Line2D at 0x7fb133492438>]"
            ]
          },
          "metadata": {
            "tags": []
          },
          "execution_count": 29
        },
        {
          "output_type": "display_data",
          "data": {
            "image/png": "[encoded data removed]",
            "text/plain": [
              "<Figure size 432x288 with 1 Axes>"
            ]
          },
          "metadata": {
            "tags": [],
            "needs_background": "light"
          }
        }
      ]
    }
  ]
}